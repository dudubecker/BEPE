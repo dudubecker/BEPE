{
 "cells": [
  {
   "cell_type": "markdown",
   "id": "b73b61fc",
   "metadata": {},
   "source": [
    "#### Reading instance and defining model"
   ]
  },
  {
   "cell_type": "code",
   "execution_count": 1603,
   "id": "83eebd47",
   "metadata": {
    "scrolled": true
   },
   "outputs": [
    {
     "name": "stdout",
     "output_type": "stream",
     "text": [
      "WARNING: Constant objective detected, replacing with a placeholder to prevent\n",
      "    solver failure.\n"
     ]
    }
   ],
   "source": [
    "# Reading instance\n",
    "\n",
    "from instanceReaderSMDHPDPTW import Instance\n",
    "\n",
    "instanceName = \"AA10 - Modificada\"\n",
    "\n",
    "MV = 6\n",
    "\n",
    "n_pickup_sites = 2\n",
    "\n",
    "fleet_capacities = [10, 20]\n",
    "\n",
    "vehicle_locations= [[0], [1]]\n",
    "\n",
    "inst = Instance(instanceName,\n",
    "                fleet_capacities,\n",
    "                n_pickup_sites,\n",
    "                multiple_depots=True,\n",
    "                vehicle_locations=[[0], [1]])"
   ]
  },
  {
   "cell_type": "code",
   "execution_count": 1604,
   "id": "3109aa0d",
   "metadata": {},
   "outputs": [],
   "source": [
    "# Applying modifications - These would be more suitable on reader!\n",
    "# but for now, I'll do it like that\n",
    "\n",
    "# Instance data\n",
    "df_instance = inst.instance_data\n",
    "df_instance = df_instance[['type','x','y','d','w_a','w_b']]\n",
    "\n",
    "# Taking away artificial nodes\n",
    "valid_types = ['Depot', 'Pickup','Delivery']\n",
    "df_instance = df_instance[df_instance['type'].isin(valid_types)].reset_index(drop=True)\n",
    "\n",
    "# Dropping duplicate pickup sites\n",
    "df_instance = df_instance.drop_duplicates(['type','x']).reset_index(drop=True)\n",
    "\n",
    "# Multiplying demands by factor\n",
    "pickup_factor = 10\n",
    "delivery_factor = 0.5\n",
    "df_instance['d'] = [demand*pickup_factor if (demand > 0) else demand*delivery_factor for demand in df_instance['d']]\n",
    "\n",
    "# Appending back depot nodes at the end\n",
    "df_instance = df_instance.append(df_instance[df_instance['type'] == 'Depot']).reset_index(drop=True)"
   ]
  },
  {
   "cell_type": "code",
   "execution_count": 1605,
   "id": "ade9b149",
   "metadata": {},
   "outputs": [],
   "source": [
    "# Distances\n",
    "c = [[0 for i in range(len(df_instance))] for j in range(len(df_instance))]\n",
    "\n",
    "for i in range(len(df_instance)):\n",
    "    for j in range(len(df_instance)):\n",
    "        \n",
    "        x_i = df_instance.iloc[i]['x']\n",
    "        x_j = df_instance.iloc[j]['x']\n",
    "        y_i = df_instance.iloc[i]['y']\n",
    "        y_j = df_instance.iloc[j]['y']\n",
    "        \n",
    "        dist = round(((x_i-x_j)**2 + (y_i-y_j)**2)**(1/2),2)\n",
    "        c[i][j] = dist\n",
    "        \n",
    "# Demands\n",
    "d = df_instance['d']\n",
    "\n",
    "# Time windows\n",
    "w_a = df_instance['w_a']\n",
    "w_b = df_instance['w_b']\n",
    "\n",
    "# Capacities\n",
    "Q = fleet_capacities"
   ]
  },
  {
   "cell_type": "code",
   "execution_count": 1606,
   "id": "54f5e48f",
   "metadata": {},
   "outputs": [],
   "source": [
    "import pandas as pd\n",
    "\n",
    "# Importing pyomo modules\n",
    "\n",
    "import pyomo.environ as pyo\n",
    "from pyomo.environ import *\n",
    "from pyomo.opt import SolverFactory\n",
    "\n",
    "# Creating model\n",
    "model = pyo.ConcreteModel()"
   ]
  },
  {
   "cell_type": "code",
   "execution_count": 1607,
   "id": "36e87412",
   "metadata": {},
   "outputs": [
    {
     "data": {
      "text/html": [
       "<div>\n",
       "<style scoped>\n",
       "    .dataframe tbody tr th:only-of-type {\n",
       "        vertical-align: middle;\n",
       "    }\n",
       "\n",
       "    .dataframe tbody tr th {\n",
       "        vertical-align: top;\n",
       "    }\n",
       "\n",
       "    .dataframe thead th {\n",
       "        text-align: right;\n",
       "    }\n",
       "</style>\n",
       "<table border=\"1\" class=\"dataframe\">\n",
       "  <thead>\n",
       "    <tr style=\"text-align: right;\">\n",
       "      <th></th>\n",
       "      <th>type</th>\n",
       "      <th>x</th>\n",
       "      <th>y</th>\n",
       "      <th>d</th>\n",
       "      <th>w_a</th>\n",
       "      <th>w_b</th>\n",
       "    </tr>\n",
       "  </thead>\n",
       "  <tbody>\n",
       "    <tr>\n",
       "      <th>1</th>\n",
       "      <td>Depot</td>\n",
       "      <td>19.942</td>\n",
       "      <td>16.269</td>\n",
       "      <td>0.0</td>\n",
       "      <td>0.0</td>\n",
       "      <td>1000.0</td>\n",
       "    </tr>\n",
       "    <tr>\n",
       "      <th>2</th>\n",
       "      <td>Depot</td>\n",
       "      <td>8.195</td>\n",
       "      <td>24.765</td>\n",
       "      <td>0.0</td>\n",
       "      <td>0.0</td>\n",
       "      <td>1000.0</td>\n",
       "    </tr>\n",
       "    <tr>\n",
       "      <th>3</th>\n",
       "      <td>Pickup</td>\n",
       "      <td>19.942</td>\n",
       "      <td>16.269</td>\n",
       "      <td>70.0</td>\n",
       "      <td>0.0</td>\n",
       "      <td>1000.0</td>\n",
       "    </tr>\n",
       "    <tr>\n",
       "      <th>4</th>\n",
       "      <td>Pickup</td>\n",
       "      <td>8.195</td>\n",
       "      <td>24.765</td>\n",
       "      <td>50.0</td>\n",
       "      <td>0.0</td>\n",
       "      <td>1000.0</td>\n",
       "    </tr>\n",
       "    <tr>\n",
       "      <th>5</th>\n",
       "      <td>Delivery</td>\n",
       "      <td>35.573</td>\n",
       "      <td>46.733</td>\n",
       "      <td>-3.5</td>\n",
       "      <td>209.0</td>\n",
       "      <td>269.0</td>\n",
       "    </tr>\n",
       "    <tr>\n",
       "      <th>6</th>\n",
       "      <td>Delivery</td>\n",
       "      <td>36.158</td>\n",
       "      <td>11.897</td>\n",
       "      <td>-4.5</td>\n",
       "      <td>562.0</td>\n",
       "      <td>622.0</td>\n",
       "    </tr>\n",
       "    <tr>\n",
       "      <th>7</th>\n",
       "      <td>Delivery</td>\n",
       "      <td>43.760</td>\n",
       "      <td>46.624</td>\n",
       "      <td>-7.5</td>\n",
       "      <td>261.0</td>\n",
       "      <td>321.0</td>\n",
       "    </tr>\n",
       "    <tr>\n",
       "      <th>8</th>\n",
       "      <td>Delivery</td>\n",
       "      <td>13.387</td>\n",
       "      <td>36.048</td>\n",
       "      <td>-2.5</td>\n",
       "      <td>549.0</td>\n",
       "      <td>609.0</td>\n",
       "    </tr>\n",
       "    <tr>\n",
       "      <th>9</th>\n",
       "      <td>Delivery</td>\n",
       "      <td>21.442</td>\n",
       "      <td>34.131</td>\n",
       "      <td>-6.0</td>\n",
       "      <td>470.0</td>\n",
       "      <td>530.0</td>\n",
       "    </tr>\n",
       "    <tr>\n",
       "      <th>10</th>\n",
       "      <td>Delivery</td>\n",
       "      <td>4.515</td>\n",
       "      <td>24.464</td>\n",
       "      <td>-2.5</td>\n",
       "      <td>439.0</td>\n",
       "      <td>499.0</td>\n",
       "    </tr>\n",
       "    <tr>\n",
       "      <th>11</th>\n",
       "      <td>Delivery</td>\n",
       "      <td>14.379</td>\n",
       "      <td>35.446</td>\n",
       "      <td>-5.0</td>\n",
       "      <td>545.0</td>\n",
       "      <td>605.0</td>\n",
       "    </tr>\n",
       "    <tr>\n",
       "      <th>12</th>\n",
       "      <td>Delivery</td>\n",
       "      <td>17.381</td>\n",
       "      <td>24.472</td>\n",
       "      <td>-4.0</td>\n",
       "      <td>434.0</td>\n",
       "      <td>494.0</td>\n",
       "    </tr>\n",
       "    <tr>\n",
       "      <th>13</th>\n",
       "      <td>Delivery</td>\n",
       "      <td>43.627</td>\n",
       "      <td>19.724</td>\n",
       "      <td>-5.5</td>\n",
       "      <td>57.0</td>\n",
       "      <td>117.0</td>\n",
       "    </tr>\n",
       "    <tr>\n",
       "      <th>14</th>\n",
       "      <td>Delivery</td>\n",
       "      <td>0.062</td>\n",
       "      <td>49.145</td>\n",
       "      <td>-6.0</td>\n",
       "      <td>125.0</td>\n",
       "      <td>185.0</td>\n",
       "    </tr>\n",
       "    <tr>\n",
       "      <th>15</th>\n",
       "      <td>Depot</td>\n",
       "      <td>19.942</td>\n",
       "      <td>16.269</td>\n",
       "      <td>0.0</td>\n",
       "      <td>0.0</td>\n",
       "      <td>1000.0</td>\n",
       "    </tr>\n",
       "    <tr>\n",
       "      <th>16</th>\n",
       "      <td>Depot</td>\n",
       "      <td>8.195</td>\n",
       "      <td>24.765</td>\n",
       "      <td>0.0</td>\n",
       "      <td>0.0</td>\n",
       "      <td>1000.0</td>\n",
       "    </tr>\n",
       "  </tbody>\n",
       "</table>\n",
       "</div>"
      ],
      "text/plain": [
       "        type       x       y     d    w_a     w_b\n",
       "1      Depot  19.942  16.269   0.0    0.0  1000.0\n",
       "2      Depot   8.195  24.765   0.0    0.0  1000.0\n",
       "3     Pickup  19.942  16.269  70.0    0.0  1000.0\n",
       "4     Pickup   8.195  24.765  50.0    0.0  1000.0\n",
       "5   Delivery  35.573  46.733  -3.5  209.0   269.0\n",
       "6   Delivery  36.158  11.897  -4.5  562.0   622.0\n",
       "7   Delivery  43.760  46.624  -7.5  261.0   321.0\n",
       "8   Delivery  13.387  36.048  -2.5  549.0   609.0\n",
       "9   Delivery  21.442  34.131  -6.0  470.0   530.0\n",
       "10  Delivery   4.515  24.464  -2.5  439.0   499.0\n",
       "11  Delivery  14.379  35.446  -5.0  545.0   605.0\n",
       "12  Delivery  17.381  24.472  -4.0  434.0   494.0\n",
       "13  Delivery  43.627  19.724  -5.5   57.0   117.0\n",
       "14  Delivery   0.062  49.145  -6.0  125.0   185.0\n",
       "15     Depot  19.942  16.269   0.0    0.0  1000.0\n",
       "16     Depot   8.195  24.765   0.0    0.0  1000.0"
      ]
     },
     "execution_count": 1607,
     "metadata": {},
     "output_type": "execute_result"
    }
   ],
   "source": [
    "# Visualizing instance\n",
    "\n",
    "df_instance.set_index(pd.Index(range(1, len(df_instance) + 1)))"
   ]
  },
  {
   "cell_type": "markdown",
   "id": "f37cacdb",
   "metadata": {},
   "source": [
    "## Defining sets and notation"
   ]
  },
  {
   "cell_type": "markdown",
   "id": "37df9b2b",
   "metadata": {},
   "source": [
    "## $  N = S_{0} \\cup P \\cup D \\cup S_{f} = \\{1, ..., 3s + n\\} $\n",
    "## $ S_{0} = \\{1, ... , s\\} $\n",
    "## $ P = \\{s + 1, ... , 2s\\} $\n",
    "## $ D = \\{2s + 1, ... , 2s + n\\} $\n",
    "## $ S_{f} = \\{2s + n + 1, ... , 3s + n\\} $\n",
    "\n",
    "#### Vehicles set\n",
    "\n",
    "## $ \\newline K = \\{1, ..., m\\} $\n",
    "\n",
    "#### Visits set\n",
    "\n",
    "## $ \\newline V = \\{1, ..., MV\\} $\n"
   ]
  },
  {
   "cell_type": "code",
   "execution_count": 1608,
   "id": "e69c015b",
   "metadata": {},
   "outputs": [],
   "source": [
    "# Sets\n",
    "\n",
    "model.setN = pyo.Set(initialize=range(len(df_instance)))\n",
    "model.setP = pyo.Set(initialize=df_instance[df_instance['type'] == 'Pickup'].index)\n",
    "model.setD = pyo.Set(initialize=df_instance[df_instance['type'] == 'Delivery'].index)\n",
    "\n",
    "# Additional sets\n",
    "\n",
    "number_of_depots = int(len(df_instance[df_instance['type'] == 'Depot'])/2)\n",
    "model.setS_0 = pyo.Set(initialize=df_instance[df_instance['type'] == 'Depot'].iloc[:number_of_depots].index)\n",
    "model.setS_f = pyo.Set(initialize=df_instance[df_instance['type'] == 'Depot'].iloc[-number_of_depots:].index)\n",
    "\n",
    "# Set of vehicles\n",
    "model.setK = pyo.Set(initialize=range(len(fleet_capacities)))\n",
    "\n",
    "# Set of visits\n",
    "model.setV = pyo.Set(initialize=range(MV))"
   ]
  },
  {
   "cell_type": "markdown",
   "id": "dd8221db",
   "metadata": {},
   "source": [
    "#### Defining variables"
   ]
  },
  {
   "cell_type": "markdown",
   "id": "6ae5a492",
   "metadata": {},
   "source": [
    "### $x_{ijkv} = \\text{1 if vehicle $k$ travels from $i$ to $j$ in its $v$ visit and 0 otherwise;} $\n",
    "\n",
    "### $y_{ikv} = \\text{amount of load in vehicle $k$ after visiting node $i$ in its $v$ visit;} $\n",
    "\n",
    "### $w_{ikv} = \\text{arrival time of vehicle $k$ in node $i$ in its $v$ visit;} $\n",
    "\n",
    "### $z_{ikv} = \\text{amount of load supplied/delivered by vehicle $k$ to node $i$ in its $v$ visit;} $"
   ]
  },
  {
   "cell_type": "code",
   "execution_count": 1609,
   "id": "6633419c",
   "metadata": {},
   "outputs": [],
   "source": [
    "# Variables\n",
    "\n",
    "model.x = pyo.Var(model.setN, model.setN, model.setK, model.setV, within = pyo.Binary)\n",
    "\n",
    "model.y = pyo.Var(model.setN, model.setK, model.setV, within = NonNegativeReals)\n",
    "\n",
    "model.w = pyo.Var(model.setN, model.setK, model.setV, within = NonNegativeReals)\n",
    "\n",
    "model.z = pyo.Var(model.setN, model.setK, model.setV, within = NonNegativeReals)"
   ]
  },
  {
   "cell_type": "markdown",
   "id": "7c6e2856",
   "metadata": {},
   "source": [
    "#### Defining constraints"
   ]
  },
  {
   "cell_type": "markdown",
   "id": "749bdcb2",
   "metadata": {},
   "source": [
    "#### Objective function\n",
    "\n",
    "## $ (1) $\n",
    "\n",
    "## $$ max \\displaystyle \\sum_{i \\in D}\\displaystyle \\sum_{i \\in K}\\displaystyle \\sum_{j \\in V}z_{ikv}$$"
   ]
  },
  {
   "cell_type": "code",
   "execution_count": 1610,
   "id": "7589d8d6",
   "metadata": {},
   "outputs": [],
   "source": [
    "# (1) - Objective function\n",
    "\n",
    "model.exprobj = sum(sum(sum(model.z[i,k,v] for i in model.setD) for k in model.setK) for v in model.setV)\n",
    "\n",
    "model.obj = pyo.Objective(expr= model.exprobj, sense = pyo.maximize)"
   ]
  },
  {
   "cell_type": "markdown",
   "id": "0656c312",
   "metadata": {},
   "source": [
    "## $ (2) $\n",
    "\n",
    "## $$\\displaystyle \\sum_{i \\in N}\\displaystyle \\sum_{v \\in V}x_{ijkv} \\leq \\frac{MV}{2}, \\hspace{15pt} \\forall j \\in P \\cup D, k \\in K$$"
   ]
  },
  {
   "cell_type": "code",
   "execution_count": 1611,
   "id": "5d488499",
   "metadata": {},
   "outputs": [],
   "source": [
    "# (2) - Maximum number of visits in a node must be MV/2, which would be sucessive back and forth trips\n",
    "\n",
    "model.R2 = pyo.ConstraintList()\n",
    "\n",
    "for j in (model.setP | model.setD):\n",
    "    \n",
    "    for k in model.setK:\n",
    "    \n",
    "        model.R2.add(expr = sum(sum(model.x[i,j,k,v] for i in model.setN) for v in model.setV) <= MV/2)"
   ]
  },
  {
   "cell_type": "markdown",
   "id": "628e1008",
   "metadata": {},
   "source": [
    "## $ (3) $\n",
    "\n",
    "\n",
    "## $$ \\displaystyle \\sum_{i \\in N \\setminus S_{f}}x_{ihk(v-1)} -  \\displaystyle \\sum_{j \\in N \\setminus S_{0}}x_{hjkv} = 0, \\hspace{15pt} \\forall h \\in P \\cup D, k \\in K, v \\in V \\setminus \\{0\\} $$"
   ]
  },
  {
   "cell_type": "code",
   "execution_count": 1612,
   "id": "0262901f",
   "metadata": {},
   "outputs": [],
   "source": [
    "# (3) - Flow conservation - if vehicle k goes from i to h, it has to go from h to j on the next visit\n",
    "\n",
    "model.R3 = pyo.ConstraintList()\n",
    "\n",
    "for h in (model.setP | model.setD):\n",
    "    \n",
    "    for k in model.setK:\n",
    "        \n",
    "        for v in range(1,len(model.setV)):\n",
    "\n",
    "            model.R3.add(expr = sum(model.x[i,h,k,v-1] for i in (model.setN - model.setS_f) if i != h) - sum(model.x[h,j,k,v] for j in (model.setN - model.setS_0) if j != h) == 0)"
   ]
  },
  {
   "cell_type": "markdown",
   "id": "3c420065",
   "metadata": {},
   "source": [
    "## $ (4) $\n",
    "\n",
    "\n",
    "\n",
    "## $$ \\displaystyle \\sum_{i \\in N}\\sum_{j \\in N}\\sum_{v \\in V}x_{ijkv} \\leq MV, \\hspace{15pt} \\forall k \\in K$$"
   ]
  },
  {
   "cell_type": "code",
   "execution_count": 1613,
   "id": "1a0218dc",
   "metadata": {},
   "outputs": [],
   "source": [
    "# (4) - Vehicles can visit \"MV\" arcs in their routes at most\n",
    "\n",
    "model.R4 = pyo.ConstraintList()\n",
    "    \n",
    "for k in model.setK:\n",
    "\n",
    "        model.R4.add(expr = sum(sum(sum(model.x[i,j,k,v] for i in model.setN) for j in model.setN) for v in model.setV) <= MV)"
   ]
  },
  {
   "cell_type": "markdown",
   "id": "1323bdce",
   "metadata": {},
   "source": [
    "## $ (5) $\n",
    "\n",
    "\n",
    "\n",
    "## $$ \\displaystyle x_{ijk0} = 0, \\hspace{15pt} \\forall i \\in N \\setminus S_{0} , j \\in N , k \\in K $$"
   ]
  },
  {
   "cell_type": "code",
   "execution_count": 1614,
   "id": "56799b8d",
   "metadata": {},
   "outputs": [],
   "source": [
    "# (5) - Vehicles must depart from depot\n",
    "\n",
    "model.R5 = pyo.ConstraintList()\n",
    "\n",
    "for i in (model.setN - model.setS_0):\n",
    "    \n",
    "    for j in model.setN:\n",
    "    \n",
    "        for k in model.setK:\n",
    "        \n",
    "            model.R5.add(expr = model.x[i,j,k,0] == 0)"
   ]
  },
  {
   "cell_type": "markdown",
   "id": "3903445f",
   "metadata": {},
   "source": [
    "## $ (6) $\n",
    "\n",
    "\n",
    "\n",
    "## $$ \\displaystyle x_{ijkMV} = 0, \\hspace{15pt} \\forall j \\in N \\setminus S_{f} , i \\in N , k \\in K $$"
   ]
  },
  {
   "cell_type": "code",
   "execution_count": 1615,
   "id": "14496eea",
   "metadata": {},
   "outputs": [],
   "source": [
    "# (6) - Vehicles must end their routes in one of the available depots\n",
    "\n",
    "model.R6 = pyo.ConstraintList()\n",
    "\n",
    "for i in model.setN:\n",
    "    \n",
    "    for j in (model.setN - model.setS_f):\n",
    "    \n",
    "        for k in model.setK:\n",
    "        \n",
    "            model.R6.add(expr = model.x[i,j,k,model.setV.bounds()[1]] == 0)"
   ]
  },
  {
   "cell_type": "markdown",
   "id": "fe20fa9f",
   "metadata": {},
   "source": [
    "## $ (7) $\n",
    "\n",
    "\n",
    "## $$ \\displaystyle x_{ijk0} = 0,  \\hspace{15pt} \\forall i \\in S_{0}; j \\in N \\setminus D_{i}; k \\in K$$"
   ]
  },
  {
   "cell_type": "code",
   "execution_count": 1616,
   "id": "693c1148",
   "metadata": {},
   "outputs": [],
   "source": [
    "# (7) - A vehicle can't depart from a depot that is not its initial depot\n",
    "\n",
    "model.R7 = pyo.ConstraintList()\n",
    "\n",
    "for i in model.setS_0:\n",
    "\n",
    "    for j in model.setN:\n",
    "        \n",
    "        for k in model.setK:\n",
    "            \n",
    "            if (k not in vehicle_locations[i]):\n",
    "                       \n",
    "                model.R7.add(expr = model.x[i, j, k, 0] == 0) "
   ]
  },
  {
   "cell_type": "markdown",
   "id": "7ae06860",
   "metadata": {},
   "source": [
    "## $ (8) $\n",
    "\n",
    "## $$ \\displaystyle \\sum_{j \\in N}\\sum_{k \\in K}x_{ijk0} \\leq K_{i}, \\hspace{15pt} \\forall i \\in S_{0} $$"
   ]
  },
  {
   "cell_type": "code",
   "execution_count": 1617,
   "id": "e090d399",
   "metadata": {},
   "outputs": [],
   "source": [
    "# (8) - Number of vehicles that depart from depot must be equal to number of vehicles available at depot\n",
    "\n",
    "# K_{i} - Number of vehicles that start their route at depot i in S_0\n",
    "\n",
    "K = [len(location) for location in vehicle_locations]\n",
    "\n",
    "model.R8 = pyo.ConstraintList()\n",
    "\n",
    "for i in (model.setS_0):\n",
    "\n",
    "    model.R8.add(expr = sum(sum(model.x[i,j,k,0] for j in model.setN) for k in model.setK) <= K[i])"
   ]
  },
  {
   "cell_type": "markdown",
   "id": "2936c0e2",
   "metadata": {},
   "source": [
    "## $ (9) $\n",
    "\n",
    "\n",
    "\n",
    "## $$ \\displaystyle x_{ijkv} = 0, \\hspace{15pt} \\forall i \\in S_{0}, j \\in D , k \\in K, v \\in V $$"
   ]
  },
  {
   "cell_type": "code",
   "execution_count": 1618,
   "id": "2ed6c8b6",
   "metadata": {},
   "outputs": [],
   "source": [
    "# (9) - Vehicles can't go from depot directly to a delivery node (was this supposed to be a constraint?)\n",
    "\n",
    "# Y and Z variables are kind of problematic for initial visit, so this is needed\n",
    "\n",
    "model.R9 = pyo.ConstraintList()\n",
    "\n",
    "for i in model.setS_0:\n",
    "    \n",
    "    for j in model.setD:\n",
    "    \n",
    "        for k in model.setK:\n",
    "            \n",
    "            for v in model.setV:\n",
    "        \n",
    "                model.R9.add(expr = model.x[i,j,k,v] == 0)"
   ]
  },
  {
   "cell_type": "markdown",
   "id": "02aeda7a",
   "metadata": {},
   "source": [
    "## $ (10) $\n",
    "\n",
    "## $$ w_{jkv} \\geq w_{ik(v-1)} + t_{ij} - M(1-x_{ijkv}), \\newline\\forall i \\in N, j \\in N, k \\in K, v \\in V \\setminus\\{0\\} $$"
   ]
  },
  {
   "cell_type": "code",
   "execution_count": 1619,
   "id": "6efb88fb",
   "metadata": {},
   "outputs": [],
   "source": [
    "# (10) - Time windows constraints - 1\n",
    "\n",
    "# Defining big M\n",
    "\n",
    "M = 1000\n",
    "\n",
    "model.R10 = pyo.ConstraintList()\n",
    "\n",
    "for i in model.setN:\n",
    "    \n",
    "    for j in model.setN:\n",
    "        \n",
    "        for k in model.setK:\n",
    "    \n",
    "            for v in range(1, len(model.setV)):\n",
    "        \n",
    "                model.R10.add(expr = model.w[j, k, v] >= model.w[i, k, v-1] + c[i][j] - M*(1 - model.x[i,j, k, v]))"
   ]
  },
  {
   "cell_type": "markdown",
   "id": "a5e4c2f8",
   "metadata": {},
   "source": [
    "## $ (11) $\n",
    "\n",
    "\n",
    "\n",
    "## $$ w_{i}^{a} \\leq w_{ikv} \\leq w_{i}^{b} , \\hspace{15pt} \\forall i \\in P \\cup D, k \\in K, v \\in V $$"
   ]
  },
  {
   "cell_type": "code",
   "execution_count": 1620,
   "id": "d143eae4",
   "metadata": {},
   "outputs": [],
   "source": [
    "# (11)  - Time windows constraints - 2\n",
    "\n",
    "model.R11 = pyo.ConstraintList()\n",
    "\n",
    "for i in (model.setP | model.setD):\n",
    "    \n",
    "    for k in model.setK:\n",
    "        \n",
    "        for v in model.setV:\n",
    "    \n",
    "            model.R11.add(expr = model.w[i, k, v] >= w_a[i])\n",
    "            model.R11.add(expr = model.w[i, k, v] <= w_b[i])"
   ]
  },
  {
   "cell_type": "markdown",
   "id": "27aaf11a",
   "metadata": {},
   "source": [
    "## $ (12) $\n",
    "\n",
    "\n",
    "\n",
    "## $$ y_{jkv} \\geq y_{ik(v-1)} + z_{jkv} - M(1-x_{ijkv}), \\newline\\forall i \\in N, j \\in P, k \\in K, v \\in V \\setminus \\{0\\} $$"
   ]
  },
  {
   "cell_type": "code",
   "execution_count": 1621,
   "id": "bd813901",
   "metadata": {},
   "outputs": [],
   "source": [
    "# (12) - Load constraints - 1 (pickup)\n",
    "\n",
    "model.R12 = pyo.ConstraintList()\n",
    "\n",
    "for i in model.setN:\n",
    "    \n",
    "    for j in model.setP:\n",
    "        \n",
    "        for k in model.setK:\n",
    "    \n",
    "            for v in range(1, len(model.setV)):\n",
    "        \n",
    "                model.R12.add(expr = model.y[j,k,v] >= model.y[i,k,v-1] + model.z[j,k,v] - M*(1 - model.x[i,j,k,v]))\n",
    "            \n",
    "                model.R12.add(expr = model.y[j,k,v] <= model.y[i,k,v-1] + model.z[j,k,v] + M*(1 - model.x[i,j,k,v]))"
   ]
  },
  {
   "cell_type": "markdown",
   "id": "c8ce1ce6",
   "metadata": {},
   "source": [
    "## $ (13) $\n",
    "\n",
    "\n",
    "\n",
    "## $$ y_{jkv} \\geq y_{ik(v-1)} - z_{jkv} - M(1-x_{ijkv}), \\newline\\forall i \\in N, j \\in D, k \\in K, v \\in V \\setminus \\{0\\} $$"
   ]
  },
  {
   "cell_type": "code",
   "execution_count": 1622,
   "id": "65e57ddf",
   "metadata": {},
   "outputs": [],
   "source": [
    "# (13)  - Load constraints - 2 (delivery)\n",
    "\n",
    "model.R13 = pyo.ConstraintList()\n",
    "\n",
    "for i in model.setN:\n",
    "    \n",
    "    for j in model.setD:\n",
    "        \n",
    "        for k in model.setK:\n",
    "    \n",
    "            for v in range(1, len(model.setV)):\n",
    "            \n",
    "                model.R13.add(expr = model.y[j,k,v] >= model.y[i,k,v-1] - model.z[j,k,v] - M*(1 - model.x[i,j,k,v]))\n",
    "                \n",
    "                model.R13.add(expr = model.y[j,k,v] <= model.y[i,k,v-1] - model.z[j,k,v] + M*(1 - model.x[i,j,k,v]))"
   ]
  },
  {
   "cell_type": "markdown",
   "id": "1b317ac3",
   "metadata": {},
   "source": [
    "## $ (14) $\n",
    "\n",
    "\n",
    "\n",
    "## $$ \\displaystyle y_{ikv} \\leq Q_{k}, \\hspace{15pt} \\forall i \\in N , k \\in K, v \\in V$$"
   ]
  },
  {
   "cell_type": "code",
   "execution_count": 1623,
   "id": "dcf9ffb2",
   "metadata": {},
   "outputs": [],
   "source": [
    "# (14) - Load constraints - 3\n",
    "\n",
    "model.R14 = pyo.ConstraintList()\n",
    "\n",
    "for i in model.setN:\n",
    "\n",
    "        for k in model.setK:\n",
    "\n",
    "            for v in model.setV:\n",
    "\n",
    "                model.R14.add(expr = model.y[i,k,v] <= Q[k])\n"
   ]
  },
  {
   "cell_type": "markdown",
   "id": "e47a03e9",
   "metadata": {},
   "source": [
    "## $ (15) $\n",
    "\n",
    "\n",
    "## $$ \\displaystyle \\sum_{k \\in K}\\sum_{v \\in V} z_{ikv} \\leq d_{i}, \\hspace{15pt} \\forall i \\in P \\cup D $$"
   ]
  },
  {
   "cell_type": "code",
   "execution_count": 1624,
   "id": "2cf42ad4",
   "metadata": {},
   "outputs": [],
   "source": [
    "# (15)  - Total amount picked up/delivered to each node can't be above node supply/demand\n",
    "\n",
    "model.R15 = pyo.ConstraintList()\n",
    "\n",
    "for i in (model.setP | model.setD):\n",
    "\n",
    "    model.R15.add(expr = sum(sum(model.z[i, k, v] for k in model.setK) for v in model.setV) <= abs(d[i]))"
   ]
  },
  {
   "cell_type": "markdown",
   "id": "1601e685",
   "metadata": {},
   "source": [
    "## $ (16) $\n",
    "\n",
    "\n",
    "## $$  z_{ikv} \\leq d_{i}\\displaystyle \\sum_{j \\in N}x_{jikv}, \\hspace{15pt} \\forall i \\in N, k \\in K, v \\in V $$"
   ]
  },
  {
   "cell_type": "code",
   "execution_count": 1625,
   "id": "45be7224",
   "metadata": {},
   "outputs": [],
   "source": [
    "# (16) - Amount delivered to a node in a single visit can't exceed node demand\n",
    "\n",
    "model.R16 = pyo.ConstraintList()\n",
    "\n",
    "for i in model.setN:\n",
    "    \n",
    "    for k in model.setK:\n",
    "        \n",
    "        for v in model.setV:\n",
    "\n",
    "            model.R16.add(expr = model.z[i, k, v] <= abs(d[i])*sum(model.x[j,i,k,v] for j in model.setN))"
   ]
  },
  {
   "cell_type": "markdown",
   "id": "63bf56c3",
   "metadata": {},
   "source": [
    "## $ (17) $\n",
    "\n",
    "\n",
    "## $$  \\displaystyle \\sum_{i \\in P}\\sum_{k \\in K}\\sum_{v \\in V} z_{ikv} =\\displaystyle \\sum_{i \\in D}\\sum_{k \\in K}\\sum_{v \\in V}z_{ikv},$$"
   ]
  },
  {
   "cell_type": "code",
   "execution_count": 1626,
   "id": "caf80e20",
   "metadata": {},
   "outputs": [
    {
     "data": {
      "text/plain": [
       "<pyomo.core.base.constraint._GeneralConstraintData at 0x24a5eb6abe0>"
      ]
     },
     "execution_count": 1626,
     "metadata": {},
     "output_type": "execute_result"
    }
   ],
   "source": [
    "# (17) - Total delivered amount needs to be equal to total picked up demand\n",
    "\n",
    "model.R17 = pyo.ConstraintList()\n",
    "\n",
    "model.R17.add(expr = sum(sum(sum(model.z[i, k, v] for i in model.setP) for k in model.setK) for v in model.setV) == sum(sum(sum(model.z[i, k, v] for i in model.setD) for k in model.setK) for v in model.setV))"
   ]
  },
  {
   "cell_type": "markdown",
   "id": "0b4b0537",
   "metadata": {},
   "source": [
    "## $ (18) $\n",
    "\n",
    "\n",
    "## $$  z_{ik0} \\leq Q_{k}, \\hspace{15pt} \\forall i \\in N, k \\in K$$"
   ]
  },
  {
   "cell_type": "code",
   "execution_count": 1627,
   "id": "09279590",
   "metadata": {},
   "outputs": [],
   "source": [
    "# (18)  - Amount collected/delivered at the first visit can't exceed vehicle capacity\n",
    "\n",
    "# Also needed because of problems with Y and Z for first visit\n",
    "\n",
    "model.R18 = pyo.ConstraintList()\n",
    "\n",
    "for i in model.setN:\n",
    "    \n",
    "    for k in model.setK:\n",
    "\n",
    "        model.R18.add(expr = model.z[i,k,0] <= Q[k])"
   ]
  },
  {
   "cell_type": "code",
   "execution_count": 1628,
   "id": "728482f5",
   "metadata": {},
   "outputs": [],
   "source": [
    "# (19) - Forces that a vehicle can't go to a pickup node that is not in the same place of its initial depot\n",
    "\n",
    "# Can be turned off, if convenient in some way\n",
    "\n",
    "model.R22 = pyo.ConstraintList()\n",
    "\n",
    "for i in model.setS_0:\n",
    "\n",
    "    for j in model.setP:\n",
    "        \n",
    "        for k in model.setK:\n",
    "            \n",
    "            if (c[i][j] > 0):\n",
    "\n",
    "                model.R22.add(expr = model.x[i, j, k, 0] == 0) "
   ]
  },
  {
   "cell_type": "markdown",
   "id": "91d39b34",
   "metadata": {},
   "source": [
    "#### Valid inequalities"
   ]
  },
  {
   "cell_type": "code",
   "execution_count": 1629,
   "id": "0936a8d1",
   "metadata": {},
   "outputs": [],
   "source": [
    "# # Inequalities for N set\n",
    "\n",
    "model.VI1 = pyo.ConstraintList()\n",
    "\n",
    "# No \"i i\" arcs, \"node to initial depot\" arcs or \"final depot to nodes\" arcs\n",
    "\n",
    "for i in (model.setN -  model.setS_f):\n",
    "    \n",
    "    for k in model.setK:\n",
    "        \n",
    "        for v in model.setV:\n",
    "    \n",
    "            model.VI1.add(expr= model.x[i, i, k, v] == 0)\n",
    "\n",
    "            for h in model.setS_0:\n",
    "\n",
    "                model.VI1.add(expr= model.x[i, h, k, v] == 0)\n",
    "\n",
    "            for h in model.setS_f:\n",
    "\n",
    "                model.VI1.add(expr= model.x[h, i, k, v] == 0)\n",
    "\n",
    "\n",
    "# Vehicles can't visit pickup node right before ending route\n",
    "\n",
    "model.RV2 = pyo.ConstraintList()\n",
    "\n",
    "for i in model.setP:\n",
    "    \n",
    "    for j in model.setS_f:\n",
    "    \n",
    "        for k in model.setK:\n",
    "        \n",
    "            model.RV2.add(expr = model.x[i,j,k,model.setV.bounds()[1]] == 0)\n",
    "\n",
    "\n",
    "# Time windows inequalities\n",
    "\n",
    "model.VI3 = pyo.ConstraintList()\n",
    "\n",
    "for i in (model.setP | model.setD):\n",
    "    \n",
    "    for j in (model.setP | model.setD):\n",
    "        \n",
    "        for k in model.setK:\n",
    "            \n",
    "            for v in model.setV:\n",
    "        \n",
    "                if w_a[i] + c[i][j] > w_b[j]:\n",
    "\n",
    "                    model.VI3.add(expr= model.x[i, j, k, v] == 0)\n",
    "\n",
    "                    \n",
    "# Delivery capacities inequalities\n",
    "\n",
    "model.VI4 = pyo.ConstraintList()\n",
    "\n",
    "for i in model.setD:\n",
    "    \n",
    "    for j in model.setD:\n",
    "        \n",
    "        for k in model.setK:\n",
    "            \n",
    "            for v in model.setV:\n",
    "        \n",
    "                if (abs(d[i]) + abs(d[j]) > Q[k]):\n",
    "            \n",
    "                    model.VI4.add(expr= model.x[i, j, k, v] == 0)\n",
    "        "
   ]
  },
  {
   "cell_type": "markdown",
   "id": "424191fa",
   "metadata": {},
   "source": [
    "#### Solving model"
   ]
  },
  {
   "cell_type": "code",
   "execution_count": 1630,
   "id": "c96906a6",
   "metadata": {
    "scrolled": true
   },
   "outputs": [
    {
     "name": "stdout",
     "output_type": "stream",
     "text": [
      "\n",
      "Welcome to IBM(R) ILOG(R) CPLEX(R) Interactive Optimizer 20.1.0.0\n",
      "  with Simplex, Mixed Integer & Barrier Optimizers\n",
      "5725-A06 5725-A29 5724-Y48 5724-Y49 5724-Y54 5724-Y55 5655-Y21\n",
      "Copyright IBM Corp. 1988, 2020.  All Rights Reserved.\n",
      "\n",
      "Type 'help' for a list of available commands.\n",
      "Type 'help' followed by a command name for more\n",
      "information on commands.\n",
      "\n",
      "CPLEX> Logfile 'cplex.log' closed.\n",
      "Logfile 'C:\\Users\\User\\AppData\\Local\\Temp\\tmpry_kadgo.cplex.log' open.\n",
      "CPLEX> New value for time limit in seconds: 60\n",
      "CPLEX> Problem 'C:\\Users\\User\\AppData\\Local\\Temp\\tmp5ateymd9.pyomo.lp' read.\n",
      "Read time = 0.03 sec. (1.03 ticks)\n",
      "CPLEX> Problem name         : C:\\Users\\User\\AppData\\Local\\Temp\\tmp5ateymd9.pyomo.lp\n",
      "Objective sense      : Maximize\n",
      "Variables            :    3649  [Nneg: 577,  Binary: 3072]\n",
      "Objective nonzeros   :     120\n",
      "Linear constraints   :    9958  [Less: 7000,  Greater: 144,  Equal: 2814]\n",
      "  Nonzeros           :   37589\n",
      "  RHS nonzeros       :    6929\n",
      "\n",
      "Variables            : Min LB: 0.000000         Max UB: 1.000000       \n",
      "Objective nonzeros   : Min   : 1.000000         Max   : 1.000000       \n",
      "Linear constraints   :\n",
      "  Nonzeros           : Min   : 1.000000         Max   : 1000.000       \n",
      "  RHS nonzeros       : Min   : 1.000000         Max   : 1000.000       \n",
      "CPLEX> Version identifier: 20.1.0.0 | 2020-11-10 | 9bedb6d68\n",
      "CPXPARAM_TimeLimit                               60\n",
      "Found incumbent of value 0.000000 after 0.00 sec. (0.56 ticks)\n",
      "Tried aggregator 2 times.\n",
      "MIP Presolve eliminated 8471 rows and 2780 columns.\n",
      "MIP Presolve modified 5165 coefficients.\n",
      "Aggregator did 13 substitutions.\n",
      "Reduced MIP has 1474 rows, 856 columns, and 7445 nonzeros.\n",
      "Reduced MIP has 567 binaries, 63 generals, 0 SOSs, and 0 indicators.\n",
      "Presolve time = 0.03 sec. (14.62 ticks)\n",
      "Probing time = 0.00 sec. (3.14 ticks)\n",
      "Tried aggregator 2 times.\n",
      "Detecting symmetries...\n",
      "MIP Presolve eliminated 8 rows and 26 columns.\n",
      "MIP Presolve modified 295 coefficients.\n",
      "Aggregator did 2 substitutions.\n",
      "Reduced MIP has 1464 rows, 828 columns, and 7377 nonzeros.\n",
      "Reduced MIP has 539 binaries, 67 generals, 0 SOSs, and 0 indicators.\n",
      "Presolve time = 0.02 sec. (7.62 ticks)\n",
      "Probing time = 0.00 sec. (2.87 ticks)\n",
      "Clique table members: 4514.\n",
      "MIP emphasis: balance optimality and feasibility.\n",
      "MIP search method: dynamic search.\n",
      "Parallel mode: deterministic, using up to 4 threads.\n",
      "Root relaxation solution time = 0.05 sec. (21.24 ticks)\n",
      "\n",
      "        Nodes                                         Cuts/\n",
      "   Node  Left     Objective  IInf  Best Integer    Best Bound    ItCnt     Gap\n",
      "\n",
      "*     0+    0                            0.0000      376.0000              --- \n",
      "      0     0       40.2128    40        0.0000       40.2128      589     --- \n",
      "*     0+    0                           23.5000       40.2128            71.12%\n",
      "      0     0       40.2128    22       23.5000       Cuts: 6      595   71.12%\n",
      "*     0+    0                           29.5000       40.2128            36.31%\n",
      "*     0+    0                           30.0000       40.2128            34.04%\n",
      "      0     0       40.2128    29       30.0000      Cuts: 20      696   34.04%\n",
      "      0     0       40.2128    35       30.0000    MIRcuts: 4      774   34.04%\n",
      "*     0+    0                           30.5000       40.2128            31.85%\n",
      "      0     2       40.2128    12       30.5000       40.2128      774   31.85%\n",
      "Elapsed time = 0.59 sec. (214.68 ticks, tree = 0.02 MB, solutions = 4)\n",
      "*    10     8      integral     0       34.5000       40.2128      995   16.56%\n",
      "*    99    27      integral     0       36.5000       40.2128     2562   10.17%\n",
      "    562   301       39.7861    32       36.5000       39.7910    11111    9.02%\n",
      "   1322   791       38.0930    28       36.5000       39.4407    24740    8.06%\n",
      "*  1814+ 1030                           37.5000       39.3150             4.84%\n",
      "   2188   860       37.7455    17       37.5000       39.1782    38821    4.48%\n",
      "   2978  1086       38.4758     6       37.5000       38.8554    50889    3.61%\n",
      "   3957  1023        cutoff             37.5000       38.5109    66865    2.70%\n",
      "   5022   519       37.9412    18       37.5000       38.0808    82650    1.55%\n",
      "\n",
      "Implied bound cuts applied:  58\n",
      "Flow cuts applied:  9\n",
      "Mixed integer rounding cuts applied:  32\n",
      "Lift and project cuts applied:  1\n",
      "Gomory fractional cuts applied:  4\n",
      "\n",
      "Root node processing (before b&c):\n",
      "  Real time             =    0.59 sec. (214.32 ticks)\n",
      "Parallel b&c, 4 threads:\n",
      "  Real time             =    5.08 sec. (1530.79 ticks)\n",
      "  Sync time (average)   =    0.74 sec.\n",
      "  Wait time (average)   =    0.00 sec.\n",
      "                          ------------\n",
      "Total (root+branch&cut) =    5.67 sec. (1745.11 ticks)\n",
      "\n",
      "Solution pool: 10 solutions saved.\n",
      "\n",
      "MIP - Integer optimal solution:  Objective =  3.7500000000e+01\n",
      "Solution time =    5.67 sec.  Iterations = 88031  Nodes = 5616\n",
      "Deterministic time = 1745.12 ticks  (307.67 ticks/sec)\n",
      "\n",
      "CPLEX> Incumbent solution written to file 'C:\\Users\\User\\AppData\\Local\\Temp\\tmpxxvyl6gk.cplex.sol'.\n",
      "CPLEX> "
     ]
    }
   ],
   "source": [
    "# Solver\n",
    "\n",
    "TimeLimit = 60\n",
    "\n",
    "opt = pyo.SolverFactory('cplex', executable='C:/Program Files/IBM/ILOG/CPLEX_Studio201/cplex/bin/x64_win64/cplex')\n",
    "opt.options['TimeLimit'] = TimeLimit\n",
    "\n",
    "\n",
    "results = opt.solve(model, tee=True)"
   ]
  },
  {
   "cell_type": "code",
   "execution_count": 1631,
   "id": "9e1f3e54",
   "metadata": {},
   "outputs": [
    {
     "name": "stdout",
     "output_type": "stream",
     "text": [
      "x[0, 2, 0, 0] == 1.0\n",
      "x[2, 6, 0, 1] == 1.0\n",
      "x[6, 2, 0, 2] == 1.0\n",
      "x[2, 8, 0, 3] == 1.0\n",
      "x[8, 11, 0, 4] == 1.0\n",
      "x[11, 14, 0, 5] == 1.0\n",
      "x[1, 3, 1, 0] == 1.0\n",
      "x[3, 12, 1, 1] == 1.0\n",
      "x[12, 13, 1, 2] == 1.0\n",
      "x[13, 5, 1, 3] == 1.0\n",
      "x[5, 10, 1, 4] == 1.0\n",
      "x[10, 14, 1, 5] == 1.0\n"
     ]
    }
   ],
   "source": [
    "for k in model.setK:\n",
    "    \n",
    "    for v in model.setV:\n",
    "\n",
    "        for i in model.setN:\n",
    "\n",
    "            for j in model.setN:\n",
    "\n",
    "                if (pyo.value(model.x[i,j,k,v]))>0.01:\n",
    "\n",
    "                    print(f'x[{i}, {j}, {k}, {v}] == {pyo.value(model.x[i,j,k,v])}')"
   ]
  },
  {
   "cell_type": "code",
   "execution_count": 1632,
   "id": "9372f1ea",
   "metadata": {},
   "outputs": [
    {
     "name": "stdout",
     "output_type": "stream",
     "text": [
      "z[2, 0, 0] == 10.000000000000002\n",
      "z[6, 0, 1] == 7.5\n",
      "z[2, 0, 2] == 10.0\n",
      "z[8, 0, 3] == 6.0\n",
      "z[11, 0, 4] == 4.0\n",
      "z[3, 1, 0] == 17.5\n",
      "z[12, 1, 1] == 4.5\n",
      "z[13, 1, 2] == 6.0\n",
      "z[5, 1, 3] == 4.5\n",
      "z[10, 1, 4] == 5.0\n"
     ]
    }
   ],
   "source": [
    "for k in model.setK:\n",
    "\n",
    "    for v in model.setV:\n",
    "\n",
    "        for i in model.setN:\n",
    "\n",
    "            if pyo.value(model.z[i,k,v]) > 0.01:\n",
    "\n",
    "                print(f'z[{i}, {k}, {v}] == {pyo.value(model.z[i,k,v])}')"
   ]
  },
  {
   "cell_type": "code",
   "execution_count": 1633,
   "id": "f255f116",
   "metadata": {},
   "outputs": [
    {
     "name": "stdout",
     "output_type": "stream",
     "text": [
      "y[2, 0, 0] == 7.5\n",
      "y[6, 0, 1] == 0.0\n",
      "y[2, 0, 2] == 10.0\n",
      "y[8, 0, 3] == 4.0\n",
      "y[11, 0, 4] == 0.0\n",
      "y[14, 0, 5] == 0.0\n",
      "y[3, 1, 0] == 20.0\n",
      "y[12, 1, 1] == 15.5\n",
      "y[13, 1, 2] == 9.5\n",
      "y[5, 1, 3] == 5.0\n",
      "y[10, 1, 4] == 0.0\n",
      "y[14, 1, 5] == 0.0\n"
     ]
    }
   ],
   "source": [
    "for k in model.setK:\n",
    "\n",
    "    for v in model.setV:\n",
    "\n",
    "        for i in model.setN:\n",
    "            \n",
    "            for j in model.setN:\n",
    "            \n",
    "                if pyo.value(model.x[i,j,k,v]) > 0.01:\n",
    "\n",
    "                    print(f'y[{j}, {k}, {v}] == {pyo.value(model.y[j,k,v])}')\n",
    "                    "
   ]
  },
  {
   "cell_type": "code",
   "execution_count": 1643,
   "id": "edce5c2b",
   "metadata": {},
   "outputs": [
    {
     "name": "stdout",
     "output_type": "stream",
     "text": [
      "[[0, 2, 6, 2, 8, 11, 14], [1, 3, 12, 13, 5, 10, 14]]\n"
     ]
    }
   ],
   "source": [
    "# Getting routes on solution\n",
    "\n",
    "routes = [[] for k in model.setK]\n",
    "\n",
    "for k in model.setK:\n",
    "    \n",
    "    for v in model.setV:\n",
    "\n",
    "        for i in model.setN:\n",
    "\n",
    "            for j in model.setN:\n",
    "\n",
    "                if (pyo.value(model.x[i,j,k,v]))>0.01:\n",
    "                    \n",
    "                    if len(routes[k]) == 0:\n",
    "                    \n",
    "                        routes[k].extend([i,j])\n",
    "                        \n",
    "                    else:\n",
    "                        \n",
    "                        routes[k].append(j)\n",
    "\n",
    "print(routes)"
   ]
  },
  {
   "cell_type": "code",
   "execution_count": 1648,
   "id": "2611b13e",
   "metadata": {},
   "outputs": [
    {
     "data": {
      "image/svg+xml": [
       "<svg class=\"main-svg\" xmlns=\"http://www.w3.org/2000/svg\" xmlns:xlink=\"http://www.w3.org/1999/xlink\" width=\"700\" height=\"500\" style=\"\" viewBox=\"0 0 700 500\"><rect x=\"0\" y=\"0\" width=\"700\" height=\"500\" style=\"fill: rgb(255, 255, 255); fill-opacity: 1;\"/><defs id=\"defs-1433c6\"><g class=\"clips\"><clipPath id=\"clip1433c6xyplot\" class=\"plotclip\"><rect width=\"515\" height=\"360\"/></clipPath><clipPath class=\"axesclip\" id=\"clip1433c6x\"><rect x=\"80\" y=\"0\" width=\"515\" height=\"500\"/></clipPath><clipPath class=\"axesclip\" id=\"clip1433c6y\"><rect x=\"0\" y=\"60\" width=\"700\" height=\"360\"/></clipPath><clipPath class=\"axesclip\" id=\"clip1433c6xy\"><rect x=\"80\" y=\"60\" width=\"515\" height=\"360\"/></clipPath></g><g class=\"gradients\"/><g class=\"patterns\"/></defs><g class=\"bglayer\"><rect class=\"bg\" x=\"80\" y=\"60\" width=\"515\" height=\"360\" style=\"fill: rgb(229, 236, 246); fill-opacity: 1; stroke-width: 0;\"/></g><g class=\"layer-below\"><g class=\"imagelayer\"/><g class=\"shapelayer\"/></g><g class=\"cartesianlayer\"><g class=\"subplot xy\"><g class=\"layer-subplot\"><g class=\"shapelayer\"/><g class=\"imagelayer\"/></g><g class=\"gridlayer\"><g class=\"x\"><path class=\"xgrid crisp\" transform=\"translate(213.21,0)\" d=\"M0,60v360\" style=\"stroke: rgb(255, 255, 255); stroke-opacity: 1; stroke-width: 1px;\"/><path class=\"xgrid crisp\" transform=\"translate(317.56,0)\" d=\"M0,60v360\" style=\"stroke: rgb(255, 255, 255); stroke-opacity: 1; stroke-width: 1px;\"/><path class=\"xgrid crisp\" transform=\"translate(421.91,0)\" d=\"M0,60v360\" style=\"stroke: rgb(255, 255, 255); stroke-opacity: 1; stroke-width: 1px;\"/><path class=\"xgrid crisp\" transform=\"translate(526.26,0)\" d=\"M0,60v360\" style=\"stroke: rgb(255, 255, 255); stroke-opacity: 1; stroke-width: 1px;\"/></g><g class=\"y\"><path class=\"ygrid crisp\" transform=\"translate(0,414.37)\" d=\"M80,0h515\" style=\"stroke: rgb(255, 255, 255); stroke-opacity: 1; stroke-width: 1px;\"/><path class=\"ygrid crisp\" transform=\"translate(0,371.88)\" d=\"M80,0h515\" style=\"stroke: rgb(255, 255, 255); stroke-opacity: 1; stroke-width: 1px;\"/><path class=\"ygrid crisp\" transform=\"translate(0,329.4)\" d=\"M80,0h515\" style=\"stroke: rgb(255, 255, 255); stroke-opacity: 1; stroke-width: 1px;\"/><path class=\"ygrid crisp\" transform=\"translate(0,286.90999999999997)\" d=\"M80,0h515\" style=\"stroke: rgb(255, 255, 255); stroke-opacity: 1; stroke-width: 1px;\"/><path class=\"ygrid crisp\" transform=\"translate(0,244.43)\" d=\"M80,0h515\" style=\"stroke: rgb(255, 255, 255); stroke-opacity: 1; stroke-width: 1px;\"/><path class=\"ygrid crisp\" transform=\"translate(0,201.94)\" d=\"M80,0h515\" style=\"stroke: rgb(255, 255, 255); stroke-opacity: 1; stroke-width: 1px;\"/><path class=\"ygrid crisp\" transform=\"translate(0,159.45999999999998)\" d=\"M80,0h515\" style=\"stroke: rgb(255, 255, 255); stroke-opacity: 1; stroke-width: 1px;\"/><path class=\"ygrid crisp\" transform=\"translate(0,116.97)\" d=\"M80,0h515\" style=\"stroke: rgb(255, 255, 255); stroke-opacity: 1; stroke-width: 1px;\"/><path class=\"ygrid crisp\" transform=\"translate(0,74.48)\" d=\"M80,0h515\" style=\"stroke: rgb(255, 255, 255); stroke-opacity: 1; stroke-width: 1px;\"/></g></g><g class=\"zerolinelayer\"><path class=\"xzl zl crisp\" transform=\"translate(108.85,0)\" d=\"M0,60v360\" style=\"stroke: rgb(255, 255, 255); stroke-opacity: 1; stroke-width: 2px;\"/></g><path class=\"xlines-below\"/><path class=\"ylines-below\"/><g class=\"overlines-below\"/><g class=\"xaxislayer-below\"/><g class=\"yaxislayer-below\"/><g class=\"overaxes-below\"/><g class=\"plot\" transform=\"translate(80,60)\" clip-path=\"url(#clip1433c6xyplot)\"><g class=\"scatterlayer mlayer\"><g class=\"trace scatter tracebc8d68\" style=\"stroke-miterlimit: 2; opacity: 1;\"><g class=\"fills\"/><g class=\"errorbars\"/><g class=\"lines\"/><g class=\"points\"><path class=\"point plotly-customdata\" transform=\"translate(236.95,301.1)\" d=\"M3,3H-3V-3H3Z\" style=\"opacity: 1; stroke-width: 0px; fill: rgb(99, 110, 250); fill-opacity: 1;\"/><path class=\"point plotly-customdata\" transform=\"translate(114.37,228.91)\" d=\"M3,3H-3V-3H3Z\" style=\"opacity: 1; stroke-width: 0px; fill: rgb(99, 110, 250); fill-opacity: 1;\"/><path class=\"point plotly-customdata\" transform=\"translate(236.95,301.1)\" d=\"M3,3H-3V-3H3Z\" style=\"opacity: 1; stroke-width: 0px; fill: rgb(99, 110, 250); fill-opacity: 1;\"/><path class=\"point plotly-customdata\" transform=\"translate(114.37,228.91)\" d=\"M3,3H-3V-3H3Z\" style=\"opacity: 1; stroke-width: 0px; fill: rgb(99, 110, 250); fill-opacity: 1;\"/></g><g class=\"text\"><g class=\"textpoint\" transform=\"translate(0,-7)\"><text x=\"236.95\" y=\"301.1\" text-anchor=\"middle\" style=\"font-family: 'Open Sans', verdana, arial, sans-serif; font-size: 9px; fill: rgb(42, 63, 95); fill-opacity: 1; white-space: pre;\">0</text></g><g class=\"textpoint\" transform=\"translate(0,-7)\"><text x=\"114.37\" y=\"228.91\" text-anchor=\"middle\" style=\"font-family: 'Open Sans', verdana, arial, sans-serif; font-size: 9px; fill: rgb(42, 63, 95); fill-opacity: 1; white-space: pre;\">1</text></g><g class=\"textpoint\" transform=\"translate(0,-7)\"><text x=\"236.95\" y=\"301.1\" text-anchor=\"middle\" style=\"font-family: 'Open Sans', verdana, arial, sans-serif; font-size: 9px; fill: rgb(42, 63, 95); fill-opacity: 1; white-space: pre;\">14</text></g><g class=\"textpoint\" transform=\"translate(0,-7)\"><text x=\"114.37\" y=\"228.91\" text-anchor=\"middle\" style=\"font-family: 'Open Sans', verdana, arial, sans-serif; font-size: 9px; fill: rgb(42, 63, 95); fill-opacity: 1; white-space: pre;\">15</text></g></g></g><g class=\"trace scatter traceb0a2e1\" style=\"stroke-miterlimit: 2; opacity: 1;\"><g class=\"fills\"/><g class=\"errorbars\"/><g class=\"lines\"/><g class=\"points\"><path class=\"point plotly-customdata\" transform=\"translate(236.95,301.1)\" d=\"M0.94,-1.3H3.99L1.52,0.5L2.47,3.4L0,1.6L-2.47,3.4L-1.52,0.5L-3.99,-1.3H-0.94L0,-4.2Z\" style=\"opacity: 1; stroke-width: 0px; fill: rgb(239, 85, 59); fill-opacity: 1;\"/><path class=\"point plotly-customdata\" transform=\"translate(114.37,228.91)\" d=\"M0.94,-1.3H3.99L1.52,0.5L2.47,3.4L0,1.6L-2.47,3.4L-1.52,0.5L-3.99,-1.3H-0.94L0,-4.2Z\" style=\"opacity: 1; stroke-width: 0px; fill: rgb(239, 85, 59); fill-opacity: 1;\"/></g><g class=\"text\"><g class=\"textpoint\" transform=\"translate(0,-7)\"><text x=\"236.95\" y=\"301.1\" text-anchor=\"middle\" style=\"font-family: 'Open Sans', verdana, arial, sans-serif; font-size: 9px; fill: rgb(42, 63, 95); fill-opacity: 1; white-space: pre;\">2</text></g><g class=\"textpoint\" transform=\"translate(0,-7)\"><text x=\"114.37\" y=\"228.91\" text-anchor=\"middle\" style=\"font-family: 'Open Sans', verdana, arial, sans-serif; font-size: 9px; fill: rgb(42, 63, 95); fill-opacity: 1; white-space: pre;\">3</text></g></g></g><g class=\"trace scatter trace15cec4\" style=\"stroke-miterlimit: 2; opacity: 1;\"><g class=\"fills\"/><g class=\"errorbars\"/><g class=\"lines\"/><g class=\"points\"><path class=\"point plotly-customdata\" transform=\"translate(400.07,42.25)\" d=\"M3.6,1.2H1.2V3.6H-1.2V1.2H-3.6V-1.2H-1.2V-3.6H1.2V-1.2H3.6Z\" style=\"opacity: 1; stroke-width: 0px; fill: rgb(0, 204, 150); fill-opacity: 1;\"/><path class=\"point plotly-customdata\" transform=\"translate(406.17,338.25)\" d=\"M3.6,1.2H1.2V3.6H-1.2V1.2H-3.6V-1.2H-1.2V-3.6H1.2V-1.2H3.6Z\" style=\"opacity: 1; stroke-width: 0px; fill: rgb(0, 204, 150); fill-opacity: 1;\"/><path class=\"point plotly-customdata\" transform=\"translate(485.5,43.17)\" d=\"M3.6,1.2H1.2V3.6H-1.2V1.2H-3.6V-1.2H-1.2V-3.6H1.2V-1.2H3.6Z\" style=\"opacity: 1; stroke-width: 0px; fill: rgb(0, 204, 150); fill-opacity: 1;\"/><path class=\"point plotly-customdata\" transform=\"translate(168.55,133.04)\" d=\"M3.6,1.2H1.2V3.6H-1.2V1.2H-3.6V-1.2H-1.2V-3.6H1.2V-1.2H3.6Z\" style=\"opacity: 1; stroke-width: 0px; fill: rgb(0, 204, 150); fill-opacity: 1;\"/><path class=\"point plotly-customdata\" transform=\"translate(252.61,149.33)\" d=\"M3.6,1.2H1.2V3.6H-1.2V1.2H-3.6V-1.2H-1.2V-3.6H1.2V-1.2H3.6Z\" style=\"opacity: 1; stroke-width: 0px; fill: rgb(0, 204, 150); fill-opacity: 1;\"/><path class=\"point plotly-customdata\" transform=\"translate(75.97,231.47)\" d=\"M3.6,1.2H1.2V3.6H-1.2V1.2H-3.6V-1.2H-1.2V-3.6H1.2V-1.2H3.6Z\" style=\"opacity: 1; stroke-width: 0px; fill: rgb(0, 204, 150); fill-opacity: 1;\"/><path class=\"point plotly-customdata\" transform=\"translate(178.9,138.15)\" d=\"M3.6,1.2H1.2V3.6H-1.2V1.2H-3.6V-1.2H-1.2V-3.6H1.2V-1.2H3.6Z\" style=\"opacity: 1; stroke-width: 0px; fill: rgb(0, 204, 150); fill-opacity: 1;\"/><path class=\"point plotly-customdata\" transform=\"translate(210.23,231.4)\" d=\"M3.6,1.2H1.2V3.6H-1.2V1.2H-3.6V-1.2H-1.2V-3.6H1.2V-1.2H3.6Z\" style=\"opacity: 1; stroke-width: 0px; fill: rgb(0, 204, 150); fill-opacity: 1;\"/><path class=\"point plotly-customdata\" transform=\"translate(484.11,271.74)\" d=\"M3.6,1.2H1.2V3.6H-1.2V1.2H-3.6V-1.2H-1.2V-3.6H1.2V-1.2H3.6Z\" style=\"opacity: 1; stroke-width: 0px; fill: rgb(0, 204, 150); fill-opacity: 1;\"/><path class=\"point plotly-customdata\" transform=\"translate(29.5,21.75)\" d=\"M3.6,1.2H1.2V3.6H-1.2V1.2H-3.6V-1.2H-1.2V-3.6H1.2V-1.2H3.6Z\" style=\"opacity: 1; stroke-width: 0px; fill: rgb(0, 204, 150); fill-opacity: 1;\"/></g><g class=\"text\"><g class=\"textpoint\" transform=\"translate(0,-7)\"><text x=\"400.07\" y=\"42.25\" text-anchor=\"middle\" style=\"font-family: 'Open Sans', verdana, arial, sans-serif; font-size: 9px; fill: rgb(42, 63, 95); fill-opacity: 1; white-space: pre;\">4</text></g><g class=\"textpoint\" transform=\"translate(0,-7)\"><text x=\"406.17\" y=\"338.25\" text-anchor=\"middle\" style=\"font-family: 'Open Sans', verdana, arial, sans-serif; font-size: 9px; fill: rgb(42, 63, 95); fill-opacity: 1; white-space: pre;\">5</text></g><g class=\"textpoint\" transform=\"translate(0,-7)\"><text x=\"485.5\" y=\"43.17\" text-anchor=\"middle\" style=\"font-family: 'Open Sans', verdana, arial, sans-serif; font-size: 9px; fill: rgb(42, 63, 95); fill-opacity: 1; white-space: pre;\">6</text></g><g class=\"textpoint\" transform=\"translate(0,-7)\"><text x=\"168.55\" y=\"133.04\" text-anchor=\"middle\" style=\"font-family: 'Open Sans', verdana, arial, sans-serif; font-size: 9px; fill: rgb(42, 63, 95); fill-opacity: 1; white-space: pre;\">7</text></g><g class=\"textpoint\" transform=\"translate(0,-7)\"><text x=\"252.61\" y=\"149.33\" text-anchor=\"middle\" style=\"font-family: 'Open Sans', verdana, arial, sans-serif; font-size: 9px; fill: rgb(42, 63, 95); fill-opacity: 1; white-space: pre;\">8</text></g><g class=\"textpoint\" transform=\"translate(0,-7)\"><text x=\"75.97\" y=\"231.47\" text-anchor=\"middle\" style=\"font-family: 'Open Sans', verdana, arial, sans-serif; font-size: 9px; fill: rgb(42, 63, 95); fill-opacity: 1; white-space: pre;\">9</text></g><g class=\"textpoint\" transform=\"translate(0,-7)\"><text x=\"178.9\" y=\"138.15\" text-anchor=\"middle\" style=\"font-family: 'Open Sans', verdana, arial, sans-serif; font-size: 9px; fill: rgb(42, 63, 95); fill-opacity: 1; white-space: pre;\">10</text></g><g class=\"textpoint\" transform=\"translate(0,-7)\"><text x=\"210.23\" y=\"231.4\" text-anchor=\"middle\" style=\"font-family: 'Open Sans', verdana, arial, sans-serif; font-size: 9px; fill: rgb(42, 63, 95); fill-opacity: 1; white-space: pre;\">11</text></g><g class=\"textpoint\" transform=\"translate(0,-7)\"><text x=\"484.11\" y=\"271.74\" text-anchor=\"middle\" style=\"font-family: 'Open Sans', verdana, arial, sans-serif; font-size: 9px; fill: rgb(42, 63, 95); fill-opacity: 1; white-space: pre;\">12</text></g><g class=\"textpoint\" transform=\"translate(0,-7)\"><text x=\"29.5\" y=\"21.75\" text-anchor=\"middle\" style=\"font-family: 'Open Sans', verdana, arial, sans-serif; font-size: 9px; fill: rgb(42, 63, 95); fill-opacity: 1; white-space: pre;\">13</text></g></g></g></g></g><g class=\"overplot\"/><path class=\"xlines-above crisp\" d=\"M0,0\" style=\"fill: none;\"/><path class=\"ylines-above crisp\" d=\"M0,0\" style=\"fill: none;\"/><g class=\"overlines-above\"/><g class=\"xaxislayer-above\"><g class=\"xtick\"><text text-anchor=\"middle\" x=\"0\" y=\"430\" transform=\"translate(108.85,0)\" style=\"font-family: 'Open Sans', verdana, arial, sans-serif; font-size: 9px; fill: rgb(42, 63, 95); fill-opacity: 1; white-space: pre; opacity: 1;\">0</text></g><g class=\"xtick\"><text text-anchor=\"middle\" x=\"0\" y=\"430\" style=\"font-family: 'Open Sans', verdana, arial, sans-serif; font-size: 9px; fill: rgb(42, 63, 95); fill-opacity: 1; white-space: pre; opacity: 1;\" transform=\"translate(213.21,0)\">10</text></g><g class=\"xtick\"><text text-anchor=\"middle\" x=\"0\" y=\"430\" style=\"font-family: 'Open Sans', verdana, arial, sans-serif; font-size: 9px; fill: rgb(42, 63, 95); fill-opacity: 1; white-space: pre; opacity: 1;\" transform=\"translate(317.56,0)\">20</text></g><g class=\"xtick\"><text text-anchor=\"middle\" x=\"0\" y=\"430\" style=\"font-family: 'Open Sans', verdana, arial, sans-serif; font-size: 9px; fill: rgb(42, 63, 95); fill-opacity: 1; white-space: pre; opacity: 1;\" transform=\"translate(421.91,0)\">30</text></g><g class=\"xtick\"><text text-anchor=\"middle\" x=\"0\" y=\"430\" style=\"font-family: 'Open Sans', verdana, arial, sans-serif; font-size: 9px; fill: rgb(42, 63, 95); fill-opacity: 1; white-space: pre; opacity: 1;\" transform=\"translate(526.26,0)\">40</text></g></g><g class=\"yaxislayer-above\"><g class=\"ytick\"><text text-anchor=\"end\" x=\"79\" y=\"3.15\" transform=\"translate(0,414.37)\" style=\"font-family: 'Open Sans', verdana, arial, sans-serif; font-size: 9px; fill: rgb(42, 63, 95); fill-opacity: 1; white-space: pre; opacity: 1;\">10</text></g><g class=\"ytick\"><text text-anchor=\"end\" x=\"79\" y=\"3.15\" style=\"font-family: 'Open Sans', verdana, arial, sans-serif; font-size: 9px; fill: rgb(42, 63, 95); fill-opacity: 1; white-space: pre; opacity: 1;\" transform=\"translate(0,371.88)\">15</text></g><g class=\"ytick\"><text text-anchor=\"end\" x=\"79\" y=\"3.15\" style=\"font-family: 'Open Sans', verdana, arial, sans-serif; font-size: 9px; fill: rgb(42, 63, 95); fill-opacity: 1; white-space: pre; opacity: 1;\" transform=\"translate(0,329.4)\">20</text></g><g class=\"ytick\"><text text-anchor=\"end\" x=\"79\" y=\"3.15\" style=\"font-family: 'Open Sans', verdana, arial, sans-serif; font-size: 9px; fill: rgb(42, 63, 95); fill-opacity: 1; white-space: pre; opacity: 1;\" transform=\"translate(0,286.90999999999997)\">25</text></g><g class=\"ytick\"><text text-anchor=\"end\" x=\"79\" y=\"3.15\" style=\"font-family: 'Open Sans', verdana, arial, sans-serif; font-size: 9px; fill: rgb(42, 63, 95); fill-opacity: 1; white-space: pre; opacity: 1;\" transform=\"translate(0,244.43)\">30</text></g><g class=\"ytick\"><text text-anchor=\"end\" x=\"79\" y=\"3.15\" style=\"font-family: 'Open Sans', verdana, arial, sans-serif; font-size: 9px; fill: rgb(42, 63, 95); fill-opacity: 1; white-space: pre; opacity: 1;\" transform=\"translate(0,201.94)\">35</text></g><g class=\"ytick\"><text text-anchor=\"end\" x=\"79\" y=\"3.15\" style=\"font-family: 'Open Sans', verdana, arial, sans-serif; font-size: 9px; fill: rgb(42, 63, 95); fill-opacity: 1; white-space: pre; opacity: 1;\" transform=\"translate(0,159.45999999999998)\">40</text></g><g class=\"ytick\"><text text-anchor=\"end\" x=\"79\" y=\"3.15\" style=\"font-family: 'Open Sans', verdana, arial, sans-serif; font-size: 9px; fill: rgb(42, 63, 95); fill-opacity: 1; white-space: pre; opacity: 1;\" transform=\"translate(0,116.97)\">45</text></g><g class=\"ytick\"><text text-anchor=\"end\" x=\"79\" y=\"3.15\" style=\"font-family: 'Open Sans', verdana, arial, sans-serif; font-size: 9px; fill: rgb(42, 63, 95); fill-opacity: 1; white-space: pre; opacity: 1;\" transform=\"translate(0,74.48)\">50</text></g></g><g class=\"overaxes-above\"/></g></g><g class=\"polarlayer\"/><g class=\"smithlayer\"/><g class=\"ternarylayer\"/><g class=\"geolayer\"/><g class=\"funnelarealayer\"/><g class=\"pielayer\"/><g class=\"iciclelayer\"/><g class=\"treemaplayer\"/><g class=\"sunburstlayer\"/><g class=\"glimages\"/><defs id=\"topdefs-1433c6\"><g class=\"clips\"/><clipPath id=\"legend1433c6\"><rect width=\"83\" height=\"82\" x=\"0\" y=\"0\"/></clipPath></defs><g class=\"layer-above\"><g class=\"imagelayer\"/><g class=\"shapelayer\"><path data-index=\"0\" fill-rule=\"evenodd\" d=\"M316.95,361.1L316.95,361.1\" clip-path=\"url(#clip1433c6xy)\" style=\"opacity: 0.2; stroke: rgb(95, 158, 160); stroke-opacity: 1; fill: rgb(0, 0, 0); fill-opacity: 0; stroke-width: 3px;\"/><path data-index=\"1\" fill-rule=\"evenodd\" d=\"M316.95,361.1L565.5,103.17\" clip-path=\"url(#clip1433c6xy)\" style=\"opacity: 0.2; stroke: rgb(95, 158, 160); stroke-opacity: 1; fill: rgb(0, 0, 0); fill-opacity: 0; stroke-width: 3px;\"/><path data-index=\"2\" fill-rule=\"evenodd\" d=\"M565.5,103.17L316.95,361.1\" clip-path=\"url(#clip1433c6xy)\" style=\"opacity: 0.2; stroke: rgb(95, 158, 160); stroke-opacity: 1; fill: rgb(0, 0, 0); fill-opacity: 0; stroke-width: 3px;\"/><path data-index=\"3\" fill-rule=\"evenodd\" d=\"M316.95,361.1L332.61,209.33\" clip-path=\"url(#clip1433c6xy)\" style=\"opacity: 0.2; stroke: rgb(95, 158, 160); stroke-opacity: 1; fill: rgb(0, 0, 0); fill-opacity: 0; stroke-width: 3px;\"/><path data-index=\"4\" fill-rule=\"evenodd\" d=\"M332.61,209.33L290.23,291.4\" clip-path=\"url(#clip1433c6xy)\" style=\"opacity: 0.2; stroke: rgb(95, 158, 160); stroke-opacity: 1; fill: rgb(0, 0, 0); fill-opacity: 0; stroke-width: 3px;\"/><path data-index=\"5\" fill-rule=\"evenodd\" d=\"M290.23,291.4L316.95,361.1\" clip-path=\"url(#clip1433c6xy)\" style=\"opacity: 0.2; stroke: rgb(95, 158, 160); stroke-opacity: 1; fill: rgb(0, 0, 0); fill-opacity: 0; stroke-width: 3px;\"/><path data-index=\"6\" fill-rule=\"evenodd\" d=\"M194.37,288.90999999999997L194.37,288.90999999999997\" clip-path=\"url(#clip1433c6xy)\" style=\"opacity: 0.2; stroke: rgb(240, 128, 128); stroke-opacity: 1; fill: rgb(0, 0, 0); fill-opacity: 0; stroke-width: 3px;\"/><path data-index=\"7\" fill-rule=\"evenodd\" d=\"M194.37,288.90999999999997L564.11,331.74\" clip-path=\"url(#clip1433c6xy)\" style=\"opacity: 0.2; stroke: rgb(240, 128, 128); stroke-opacity: 1; fill: rgb(0, 0, 0); fill-opacity: 0; stroke-width: 3px;\"/><path data-index=\"8\" fill-rule=\"evenodd\" d=\"M564.11,331.74L109.5,81.75\" clip-path=\"url(#clip1433c6xy)\" style=\"opacity: 0.2; stroke: rgb(240, 128, 128); stroke-opacity: 1; fill: rgb(0, 0, 0); fill-opacity: 0; stroke-width: 3px;\"/><path data-index=\"9\" fill-rule=\"evenodd\" d=\"M109.5,81.75L486.17,398.25\" clip-path=\"url(#clip1433c6xy)\" style=\"opacity: 0.2; stroke: rgb(240, 128, 128); stroke-opacity: 1; fill: rgb(0, 0, 0); fill-opacity: 0; stroke-width: 3px;\"/><path data-index=\"10\" fill-rule=\"evenodd\" d=\"M486.17,398.25L258.9,198.15\" clip-path=\"url(#clip1433c6xy)\" style=\"opacity: 0.2; stroke: rgb(240, 128, 128); stroke-opacity: 1; fill: rgb(0, 0, 0); fill-opacity: 0; stroke-width: 3px;\"/><path data-index=\"11\" fill-rule=\"evenodd\" d=\"M258.9,198.15L316.95,361.1\" clip-path=\"url(#clip1433c6xy)\" style=\"opacity: 0.2; stroke: rgb(240, 128, 128); stroke-opacity: 1; fill: rgb(0, 0, 0); fill-opacity: 0; stroke-width: 3px;\"/></g></g><g class=\"infolayer\"><g class=\"legend\" pointer-events=\"all\" transform=\"translate(605.3,60)\"><rect class=\"bg\" shape-rendering=\"crispEdges\" style=\"stroke: rgb(68, 68, 68); stroke-opacity: 1; fill: rgb(255, 255, 255); fill-opacity: 1; stroke-width: 0px;\" width=\"83\" height=\"82\" x=\"0\" y=\"0\"/><g class=\"scrollbox\" transform=\"\" clip-path=\"url(#legend1433c6)\"><text class=\"legendtitletext\" text-anchor=\"start\" x=\"2\" y=\"14.3\" style=\"font-family: 'Open Sans', verdana, arial, sans-serif; font-size: 11px; fill: rgb(42, 63, 95); fill-opacity: 1; white-space: pre;\">type</text><g class=\"groups\" transform=\"\"><g class=\"traces\" transform=\"translate(0,28.8)\" style=\"opacity: 1;\"><text class=\"legendtext\" text-anchor=\"start\" x=\"40\" y=\"3.5100000000000002\" style=\"font-family: 'Open Sans', verdana, arial, sans-serif; font-size: 9px; fill: rgb(42, 63, 95); fill-opacity: 1; white-space: pre;\">Depot</text><g class=\"layers\" style=\"opacity: 1;\"><g class=\"legendfill\"/><g class=\"legendlines\"/><g class=\"legendsymbols\"><g class=\"legendpoints\"><path class=\"scatterpts\" transform=\"translate(20,0)\" d=\"M3,3H-3V-3H3Z\" style=\"opacity: 1; stroke-width: 0px; fill: rgb(99, 110, 250); fill-opacity: 1;\"/></g></g></g><rect class=\"legendtoggle\" x=\"0\" y=\"-9.5\" width=\"77.6875\" height=\"19\" style=\"fill: rgb(0, 0, 0); fill-opacity: 0;\"/></g></g><g class=\"groups\" transform=\"\"><g class=\"traces\" transform=\"translate(0,47.8)\" style=\"opacity: 1;\"><text class=\"legendtext\" text-anchor=\"start\" x=\"40\" y=\"3.5100000000000002\" style=\"font-family: 'Open Sans', verdana, arial, sans-serif; font-size: 9px; fill: rgb(42, 63, 95); fill-opacity: 1; white-space: pre;\">Pickup</text><g class=\"layers\" style=\"opacity: 1;\"><g class=\"legendfill\"/><g class=\"legendlines\"/><g class=\"legendsymbols\"><g class=\"legendpoints\"><path class=\"scatterpts\" transform=\"translate(20,0)\" d=\"M0.94,-1.3H3.99L1.52,0.5L2.47,3.4L0,1.6L-2.47,3.4L-1.52,0.5L-3.99,-1.3H-0.94L0,-4.2Z\" style=\"opacity: 1; stroke-width: 0px; fill: rgb(239, 85, 59); fill-opacity: 1;\"/></g></g></g><rect class=\"legendtoggle\" x=\"0\" y=\"-9.5\" width=\"77.6875\" height=\"19\" style=\"fill: rgb(0, 0, 0); fill-opacity: 0;\"/></g></g><g class=\"groups\" transform=\"\"><g class=\"traces\" transform=\"translate(0,66.8)\" style=\"opacity: 1;\"><text class=\"legendtext\" text-anchor=\"start\" x=\"40\" y=\"3.5100000000000002\" style=\"font-family: 'Open Sans', verdana, arial, sans-serif; font-size: 9px; fill: rgb(42, 63, 95); fill-opacity: 1; white-space: pre;\">Delivery</text><g class=\"layers\" style=\"opacity: 1;\"><g class=\"legendfill\"/><g class=\"legendlines\"/><g class=\"legendsymbols\"><g class=\"legendpoints\"><path class=\"scatterpts\" transform=\"translate(20,0)\" d=\"M3.6,1.2H1.2V3.6H-1.2V1.2H-3.6V-1.2H-1.2V-3.6H1.2V-1.2H3.6Z\" style=\"opacity: 1; stroke-width: 0px; fill: rgb(0, 204, 150); fill-opacity: 1;\"/></g></g></g><rect class=\"legendtoggle\" x=\"0\" y=\"-9.5\" width=\"77.6875\" height=\"19\" style=\"fill: rgb(0, 0, 0); fill-opacity: 0;\"/></g></g></g><rect class=\"scrollbar\" rx=\"20\" ry=\"3\" width=\"0\" height=\"0\" style=\"fill: rgb(128, 139, 164); fill-opacity: 1;\" x=\"0\" y=\"0\"/></g><g class=\"g-gtitle\"/><g class=\"g-xtitle\"><text class=\"xtitle\" x=\"337.5\" y=\"454.7\" text-anchor=\"middle\" style=\"font-family: 'Open Sans', verdana, arial, sans-serif; font-size: 11px; fill: rgb(42, 63, 95); opacity: 1; font-weight: normal; white-space: pre;\">x</text></g><g class=\"g-ytitle\"><text class=\"ytitle\" transform=\"rotate(-90,44.846875,240)\" x=\"44.846875\" y=\"240\" text-anchor=\"middle\" style=\"font-family: 'Open Sans', verdana, arial, sans-serif; font-size: 11px; fill: rgb(42, 63, 95); opacity: 1; font-weight: normal; white-space: pre;\">y</text></g></g></svg>"
      ]
     },
     "metadata": {},
     "output_type": "display_data"
    }
   ],
   "source": [
    "import plotly.express as px\n",
    "import plotly.graph_objects as go\n",
    "import matplotlib, random\n",
    "\n",
    "random.seed(123)\n",
    "colors = dict(matplotlib.colors.cnames.items())\n",
    "\n",
    "hex_colors = tuple(colors.values())\n",
    "\n",
    "\n",
    "fig = px.scatter(df_instance,x=\"x\", y=\"y\", symbol='type', symbol_sequence=[\"square\",\"star\",\"cross\", \"star\", \"x\"], color='type', text=df_instance.index, hover_data={\"x\":False, \"y\":False,  \"d\":True, \"type\":True, \"index\":df_instance.index})\n",
    "\n",
    "fig.update_traces(textposition='top center')\n",
    "\n",
    "fig.update_layout(font=dict(size=9))\n",
    "\n",
    "# Create scatter trace of text labels\n",
    "\n",
    "for route in routes:\n",
    "    \n",
    "    color = random.choice(hex_colors)\n",
    "    \n",
    "    for index_node in range(1, len(route)):\n",
    "        \n",
    "        fig.add_shape(type=\"line\",\n",
    "            x0=df_instance.iloc[route[index_node-1]].x, \n",
    "            y0=df_instance.iloc[route[index_node-1]].y,\n",
    "            x1=df_instance.iloc[route[index_node]].x,\n",
    "            y1=df_instance.iloc[route[index_node]].y,\n",
    "\n",
    "            line=dict(color=color,width=3), \n",
    "            opacity = 0.2,\n",
    "            visible = True\n",
    "        )\n",
    "        \n",
    "\n",
    "\n",
    "fig.show(\"svg\")\n"
   ]
  }
 ],
 "metadata": {
  "kernelspec": {
   "display_name": "Python 3 (ipykernel)",
   "language": "python",
   "name": "python3"
  },
  "language_info": {
   "codemirror_mode": {
    "name": "ipython",
    "version": 3
   },
   "file_extension": ".py",
   "mimetype": "text/x-python",
   "name": "python",
   "nbconvert_exporter": "python",
   "pygments_lexer": "ipython3",
   "version": "3.9.7"
  }
 },
 "nbformat": 4,
 "nbformat_minor": 5
}
