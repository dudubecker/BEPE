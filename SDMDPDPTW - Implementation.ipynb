{
 "cells": [
  {
   "cell_type": "markdown",
   "id": "b73b61fc",
   "metadata": {},
   "source": [
    "#### Reading instance and defining model"
   ]
  },
  {
   "cell_type": "code",
   "execution_count": 2468,
   "id": "83eebd47",
   "metadata": {
    "scrolled": true
   },
   "outputs": [
    {
     "name": "stdout",
     "output_type": "stream",
     "text": [
      "WARNING: Constant objective detected, replacing with a placeholder to prevent\n",
      "    solver failure.\n"
     ]
    }
   ],
   "source": [
    "# Reading instance\n",
    "\n",
    "from instanceReaderSMDHPDPTW import Instance\n",
    "\n",
    "instanceName = \"AA10 - Modificada\"\n",
    "\n",
    "MV = 12\n",
    "\n",
    "n_pickup_sites = 2\n",
    "\n",
    "fleet_capacities = [10, 20]\n",
    "\n",
    "vehicle_locations= [[0], [1]]\n",
    "\n",
    "inst = Instance(instanceName,\n",
    "                fleet_capacities,\n",
    "                n_pickup_sites,\n",
    "                multiple_depots=True,\n",
    "                vehicle_locations=[[0], [1]])"
   ]
  },
  {
   "cell_type": "code",
   "execution_count": 2469,
   "id": "3109aa0d",
   "metadata": {},
   "outputs": [],
   "source": [
    "# Applying modifications - These would be more suitable on reader!\n",
    "# but for now, I'll do it like that\n",
    "\n",
    "# Instance data\n",
    "df_instance = inst.instance_data\n",
    "df_instance = df_instance[['type','x','y','d','w_a','w_b']]\n",
    "\n",
    "# Taking away artificial nodes\n",
    "valid_types = ['Depot', 'Pickup','Delivery']\n",
    "df_instance = df_instance[df_instance['type'].isin(valid_types)].reset_index(drop=True)\n",
    "\n",
    "# Dropping duplicate pickup sites\n",
    "df_instance = df_instance.drop_duplicates(['type','x']).reset_index(drop=True)\n",
    "\n",
    "# Multiplying demands by factor\n",
    "pickup_factor = 20\n",
    "delivery_factor = 5\n",
    "df_instance['d'] = [demand*pickup_factor if (demand > 0) else demand*delivery_factor for demand in df_instance['d']]\n",
    "\n",
    "# Appending back depot nodes at the end\n",
    "df_instance = df_instance.append(df_instance[df_instance['type'] == 'Depot']).reset_index(drop=True)"
   ]
  },
  {
   "cell_type": "code",
   "execution_count": 2470,
   "id": "ade9b149",
   "metadata": {},
   "outputs": [],
   "source": [
    "# Distances\n",
    "c = [[0 for i in range(len(df_instance))] for j in range(len(df_instance))]\n",
    "\n",
    "for i in range(len(df_instance)):\n",
    "    for j in range(len(df_instance)):\n",
    "        \n",
    "        x_i = df_instance.iloc[i]['x']\n",
    "        x_j = df_instance.iloc[j]['x']\n",
    "        y_i = df_instance.iloc[i]['y']\n",
    "        y_j = df_instance.iloc[j]['y']\n",
    "        \n",
    "        dist = round(((x_i-x_j)**2 + (y_i-y_j)**2)**(1/2),2)\n",
    "        c[i][j] = dist\n",
    "        \n",
    "# Demands\n",
    "d = df_instance['d']\n",
    "\n",
    "# Time windows\n",
    "w_a = df_instance['w_a']\n",
    "w_b = df_instance['w_b']\n",
    "\n",
    "# Capacities\n",
    "Q = fleet_capacities"
   ]
  },
  {
   "cell_type": "code",
   "execution_count": 2471,
   "id": "54f5e48f",
   "metadata": {},
   "outputs": [],
   "source": [
    "import pandas as pd\n",
    "\n",
    "# Importing pyomo modules\n",
    "\n",
    "import pyomo.environ as pyo\n",
    "from pyomo.environ import *\n",
    "from pyomo.opt import SolverFactory\n",
    "\n",
    "# Creating model\n",
    "model = pyo.ConcreteModel()"
   ]
  },
  {
   "cell_type": "code",
   "execution_count": 2472,
   "id": "36e87412",
   "metadata": {},
   "outputs": [
    {
     "data": {
      "text/html": [
       "<div>\n",
       "<style scoped>\n",
       "    .dataframe tbody tr th:only-of-type {\n",
       "        vertical-align: middle;\n",
       "    }\n",
       "\n",
       "    .dataframe tbody tr th {\n",
       "        vertical-align: top;\n",
       "    }\n",
       "\n",
       "    .dataframe thead th {\n",
       "        text-align: right;\n",
       "    }\n",
       "</style>\n",
       "<table border=\"1\" class=\"dataframe\">\n",
       "  <thead>\n",
       "    <tr style=\"text-align: right;\">\n",
       "      <th></th>\n",
       "      <th>type</th>\n",
       "      <th>x</th>\n",
       "      <th>y</th>\n",
       "      <th>d</th>\n",
       "      <th>w_a</th>\n",
       "      <th>w_b</th>\n",
       "    </tr>\n",
       "  </thead>\n",
       "  <tbody>\n",
       "    <tr>\n",
       "      <th>1</th>\n",
       "      <td>Depot</td>\n",
       "      <td>19.942</td>\n",
       "      <td>16.269</td>\n",
       "      <td>0.0</td>\n",
       "      <td>0.0</td>\n",
       "      <td>1000.0</td>\n",
       "    </tr>\n",
       "    <tr>\n",
       "      <th>2</th>\n",
       "      <td>Depot</td>\n",
       "      <td>8.195</td>\n",
       "      <td>24.765</td>\n",
       "      <td>0.0</td>\n",
       "      <td>0.0</td>\n",
       "      <td>1000.0</td>\n",
       "    </tr>\n",
       "    <tr>\n",
       "      <th>3</th>\n",
       "      <td>Pickup</td>\n",
       "      <td>19.942</td>\n",
       "      <td>16.269</td>\n",
       "      <td>140.0</td>\n",
       "      <td>0.0</td>\n",
       "      <td>1000.0</td>\n",
       "    </tr>\n",
       "    <tr>\n",
       "      <th>4</th>\n",
       "      <td>Pickup</td>\n",
       "      <td>8.195</td>\n",
       "      <td>24.765</td>\n",
       "      <td>100.0</td>\n",
       "      <td>0.0</td>\n",
       "      <td>1000.0</td>\n",
       "    </tr>\n",
       "    <tr>\n",
       "      <th>5</th>\n",
       "      <td>Delivery</td>\n",
       "      <td>35.573</td>\n",
       "      <td>46.733</td>\n",
       "      <td>-35.0</td>\n",
       "      <td>209.0</td>\n",
       "      <td>269.0</td>\n",
       "    </tr>\n",
       "    <tr>\n",
       "      <th>6</th>\n",
       "      <td>Delivery</td>\n",
       "      <td>36.158</td>\n",
       "      <td>11.897</td>\n",
       "      <td>-45.0</td>\n",
       "      <td>562.0</td>\n",
       "      <td>622.0</td>\n",
       "    </tr>\n",
       "    <tr>\n",
       "      <th>7</th>\n",
       "      <td>Delivery</td>\n",
       "      <td>43.760</td>\n",
       "      <td>46.624</td>\n",
       "      <td>-75.0</td>\n",
       "      <td>261.0</td>\n",
       "      <td>321.0</td>\n",
       "    </tr>\n",
       "    <tr>\n",
       "      <th>8</th>\n",
       "      <td>Delivery</td>\n",
       "      <td>13.387</td>\n",
       "      <td>36.048</td>\n",
       "      <td>-25.0</td>\n",
       "      <td>549.0</td>\n",
       "      <td>609.0</td>\n",
       "    </tr>\n",
       "    <tr>\n",
       "      <th>9</th>\n",
       "      <td>Delivery</td>\n",
       "      <td>21.442</td>\n",
       "      <td>34.131</td>\n",
       "      <td>-60.0</td>\n",
       "      <td>470.0</td>\n",
       "      <td>530.0</td>\n",
       "    </tr>\n",
       "    <tr>\n",
       "      <th>10</th>\n",
       "      <td>Delivery</td>\n",
       "      <td>4.515</td>\n",
       "      <td>24.464</td>\n",
       "      <td>-25.0</td>\n",
       "      <td>439.0</td>\n",
       "      <td>499.0</td>\n",
       "    </tr>\n",
       "    <tr>\n",
       "      <th>11</th>\n",
       "      <td>Delivery</td>\n",
       "      <td>14.379</td>\n",
       "      <td>35.446</td>\n",
       "      <td>-50.0</td>\n",
       "      <td>545.0</td>\n",
       "      <td>605.0</td>\n",
       "    </tr>\n",
       "    <tr>\n",
       "      <th>12</th>\n",
       "      <td>Delivery</td>\n",
       "      <td>17.381</td>\n",
       "      <td>24.472</td>\n",
       "      <td>-40.0</td>\n",
       "      <td>434.0</td>\n",
       "      <td>494.0</td>\n",
       "    </tr>\n",
       "    <tr>\n",
       "      <th>13</th>\n",
       "      <td>Delivery</td>\n",
       "      <td>43.627</td>\n",
       "      <td>19.724</td>\n",
       "      <td>-55.0</td>\n",
       "      <td>57.0</td>\n",
       "      <td>117.0</td>\n",
       "    </tr>\n",
       "    <tr>\n",
       "      <th>14</th>\n",
       "      <td>Delivery</td>\n",
       "      <td>0.062</td>\n",
       "      <td>49.145</td>\n",
       "      <td>-60.0</td>\n",
       "      <td>125.0</td>\n",
       "      <td>185.0</td>\n",
       "    </tr>\n",
       "    <tr>\n",
       "      <th>15</th>\n",
       "      <td>Depot</td>\n",
       "      <td>19.942</td>\n",
       "      <td>16.269</td>\n",
       "      <td>0.0</td>\n",
       "      <td>0.0</td>\n",
       "      <td>1000.0</td>\n",
       "    </tr>\n",
       "    <tr>\n",
       "      <th>16</th>\n",
       "      <td>Depot</td>\n",
       "      <td>8.195</td>\n",
       "      <td>24.765</td>\n",
       "      <td>0.0</td>\n",
       "      <td>0.0</td>\n",
       "      <td>1000.0</td>\n",
       "    </tr>\n",
       "  </tbody>\n",
       "</table>\n",
       "</div>"
      ],
      "text/plain": [
       "        type       x       y      d    w_a     w_b\n",
       "1      Depot  19.942  16.269    0.0    0.0  1000.0\n",
       "2      Depot   8.195  24.765    0.0    0.0  1000.0\n",
       "3     Pickup  19.942  16.269  140.0    0.0  1000.0\n",
       "4     Pickup   8.195  24.765  100.0    0.0  1000.0\n",
       "5   Delivery  35.573  46.733  -35.0  209.0   269.0\n",
       "6   Delivery  36.158  11.897  -45.0  562.0   622.0\n",
       "7   Delivery  43.760  46.624  -75.0  261.0   321.0\n",
       "8   Delivery  13.387  36.048  -25.0  549.0   609.0\n",
       "9   Delivery  21.442  34.131  -60.0  470.0   530.0\n",
       "10  Delivery   4.515  24.464  -25.0  439.0   499.0\n",
       "11  Delivery  14.379  35.446  -50.0  545.0   605.0\n",
       "12  Delivery  17.381  24.472  -40.0  434.0   494.0\n",
       "13  Delivery  43.627  19.724  -55.0   57.0   117.0\n",
       "14  Delivery   0.062  49.145  -60.0  125.0   185.0\n",
       "15     Depot  19.942  16.269    0.0    0.0  1000.0\n",
       "16     Depot   8.195  24.765    0.0    0.0  1000.0"
      ]
     },
     "execution_count": 2472,
     "metadata": {},
     "output_type": "execute_result"
    }
   ],
   "source": [
    "# Visualizing instance\n",
    "\n",
    "df_instance.set_index(pd.Index(range(1, len(df_instance) + 1)))"
   ]
  },
  {
   "cell_type": "code",
   "execution_count": 2473,
   "id": "0b0aded9",
   "metadata": {},
   "outputs": [
    {
     "data": {
      "text/plain": [
       "[400.0,\n",
       " 400.0,\n",
       " 400.0,\n",
       " 400.0,\n",
       " 269.0,\n",
       " 622.0,\n",
       " 321.0,\n",
       " 609.0,\n",
       " 530.0,\n",
       " 499.0,\n",
       " 605.0,\n",
       " 494.0,\n",
       " 117.0,\n",
       " 185.0,\n",
       " 400.0,\n",
       " 400.0]"
      ]
     },
     "execution_count": 2473,
     "metadata": {},
     "output_type": "execute_result"
    }
   ],
   "source": [
    "tw_factor = 0.4\n",
    "\n",
    "w_b = [tw*tw_factor if tw == 1000 else tw for tw in w_b]\n",
    "\n",
    "w_b"
   ]
  },
  {
   "cell_type": "markdown",
   "id": "f37cacdb",
   "metadata": {},
   "source": [
    "## Defining sets and notation"
   ]
  },
  {
   "cell_type": "markdown",
   "id": "37df9b2b",
   "metadata": {},
   "source": [
    "## $  N = S_{0} \\cup P \\cup D \\cup S_{f} = \\{1, ..., 3s + n\\} $\n",
    "## $ S_{0} = \\{1, ... , s\\} $\n",
    "## $ P = \\{s + 1, ... , 2s\\} $\n",
    "## $ D = \\{2s + 1, ... , 2s + n\\} $\n",
    "## $ S_{f} = \\{2s + n + 1, ... , 3s + n\\} $\n",
    "\n",
    "#### Vehicles set\n",
    "\n",
    "## $ \\newline K = \\{1, ..., m\\} $\n",
    "\n",
    "#### Visits set\n",
    "\n",
    "## $ \\newline V = \\{1, ..., MV\\} $\n"
   ]
  },
  {
   "cell_type": "code",
   "execution_count": 2474,
   "id": "e69c015b",
   "metadata": {},
   "outputs": [],
   "source": [
    "# Sets\n",
    "\n",
    "model.setN = pyo.Set(initialize=range(len(df_instance)))\n",
    "model.setP = pyo.Set(initialize=df_instance[df_instance['type'] == 'Pickup'].index)\n",
    "model.setD = pyo.Set(initialize=df_instance[df_instance['type'] == 'Delivery'].index)\n",
    "\n",
    "# Additional sets\n",
    "\n",
    "number_of_depots = int(len(df_instance[df_instance['type'] == 'Depot'])/2)\n",
    "model.setS_0 = pyo.Set(initialize=df_instance[df_instance['type'] == 'Depot'].iloc[:number_of_depots].index)\n",
    "model.setS_f = pyo.Set(initialize=df_instance[df_instance['type'] == 'Depot'].iloc[-number_of_depots:].index)\n",
    "model.setS = (model.setS_0 | model.setS_f)\n",
    "\n",
    "\n",
    "# Set of vehicles\n",
    "model.setK = pyo.Set(initialize=range(len(fleet_capacities)))\n",
    "\n",
    "# Set of visits\n",
    "model.setV = pyo.Set(initialize=range(MV))"
   ]
  },
  {
   "cell_type": "markdown",
   "id": "dd8221db",
   "metadata": {},
   "source": [
    "#### Defining variables"
   ]
  },
  {
   "cell_type": "markdown",
   "id": "6ae5a492",
   "metadata": {},
   "source": [
    "### $x_{ijkv} = \\text{1 if vehicle $k$ travels from $i$ to $j$ in its $v$ visit and 0 otherwise;} $\n",
    "\n",
    "### $y_{ikv} = \\text{amount of load in vehicle $k$ after visiting node $i$ in its $v$ visit;} $\n",
    "\n",
    "### $w_{ikv} = \\text{arrival time of vehicle $k$ in node $i$ in its $v$ visit;} $\n",
    "\n",
    "### $z_{ikv} = \\text{amount of load supplied/delivered by vehicle $k$ to node $i$ in its $v$ visit;} $"
   ]
  },
  {
   "cell_type": "code",
   "execution_count": 2475,
   "id": "6633419c",
   "metadata": {},
   "outputs": [],
   "source": [
    "# Variables\n",
    "\n",
    "model.x = pyo.Var(model.setN, model.setN, model.setK, model.setV, within = pyo.Binary)\n",
    "\n",
    "model.y = pyo.Var(model.setN, model.setK, model.setV, within = NonNegativeReals)\n",
    "\n",
    "model.w = pyo.Var(model.setN, model.setK, model.setV, within = NonNegativeReals)\n",
    "\n",
    "model.z = pyo.Var(model.setN, model.setK, model.setV, within = NonNegativeReals)"
   ]
  },
  {
   "cell_type": "markdown",
   "id": "7c6e2856",
   "metadata": {},
   "source": [
    "#### Defining constraints"
   ]
  },
  {
   "cell_type": "markdown",
   "id": "749bdcb2",
   "metadata": {},
   "source": [
    "#### Objective function\n",
    "\n",
    "## $ (1) $\n",
    "\n",
    "## $$ max \\displaystyle \\sum_{i \\in D}\\displaystyle \\sum_{i \\in K}\\displaystyle \\sum_{j \\in V}z_{ikv}$$"
   ]
  },
  {
   "cell_type": "code",
   "execution_count": 2476,
   "id": "7589d8d6",
   "metadata": {},
   "outputs": [],
   "source": [
    "# (1) - Objective function\n",
    "\n",
    "model.exprobj = sum(sum(sum(model.z[i,k,v] for i in model.setD) for k in model.setK) for v in model.setV)\n",
    "\n",
    "model.obj = pyo.Objective(expr= model.exprobj, sense = pyo.maximize)"
   ]
  },
  {
   "cell_type": "markdown",
   "id": "0656c312",
   "metadata": {},
   "source": [
    "## $ (2) $\n",
    "\n",
    "## $$\\displaystyle \\sum_{i \\in N}\\displaystyle \\sum_{v \\in V}x_{ijkv} \\leq \\frac{MV}{2}, \\hspace{15pt} \\forall j \\in P \\cup D, k \\in K$$"
   ]
  },
  {
   "cell_type": "code",
   "execution_count": 2477,
   "id": "5d488499",
   "metadata": {},
   "outputs": [],
   "source": [
    "# (2) - Maximum number of visits in a node must be MV/2, which would be sucessive back and forth trips\n",
    "\n",
    "model.R2 = pyo.ConstraintList()\n",
    "\n",
    "for j in (model.setP | model.setD):\n",
    "    \n",
    "    for k in model.setK:\n",
    "    \n",
    "        model.R2.add(expr = sum(sum(model.x[i,j,k,v] for i in model.setN) for v in model.setV) <= MV/2)"
   ]
  },
  {
   "cell_type": "markdown",
   "id": "628e1008",
   "metadata": {},
   "source": [
    "## $ (3) $\n",
    "\n",
    "\n",
    "## $$ \\displaystyle \\sum_{i \\in N \\setminus S_{f}}x_{ihk(v-1)} -  \\displaystyle \\sum_{j \\in N \\setminus S_{0}}x_{hjkv} = 0, \\hspace{15pt} \\forall h \\in P \\cup D, k \\in K, v \\in V \\setminus \\{0\\} $$"
   ]
  },
  {
   "cell_type": "code",
   "execution_count": 2478,
   "id": "0262901f",
   "metadata": {},
   "outputs": [],
   "source": [
    "# (3) - Flow conservation - if vehicle k goes from i to h, it has to go from h to j on the next visit\n",
    "\n",
    "model.R3 = pyo.ConstraintList()\n",
    "\n",
    "for h in (model.setP | model.setD):\n",
    "    \n",
    "    for k in model.setK:\n",
    "        \n",
    "        for v in range(1,len(model.setV)):\n",
    "\n",
    "            model.R3.add(expr = sum(model.x[i,h,k,v-1] for i in (model.setN - model.setS_f)) - sum(model.x[h,j,k,v] for j in (model.setN - model.setS_0)) == 0)\n"
   ]
  },
  {
   "cell_type": "markdown",
   "id": "3c420065",
   "metadata": {},
   "source": [
    "## $ (4) $\n",
    "\n",
    "\n",
    "\n",
    "## $$ \\displaystyle \\sum_{i \\in N}\\sum_{j \\in N}\\sum_{v \\in V}x_{ijkv} \\leq MV, \\hspace{15pt} \\forall k \\in K$$"
   ]
  },
  {
   "cell_type": "code",
   "execution_count": 2479,
   "id": "1a0218dc",
   "metadata": {},
   "outputs": [],
   "source": [
    "# (4) - Vehicles can visit \"MV\" arcs in their routes at most\n",
    "\n",
    "model.R4 = pyo.ConstraintList()\n",
    "    \n",
    "for k in model.setK:\n",
    "\n",
    "        model.R4.add(expr = sum(sum(sum(model.x[i,j,k,v] for i in model.setN) for j in model.setN) for v in model.setV) <= MV)"
   ]
  },
  {
   "cell_type": "markdown",
   "id": "1323bdce",
   "metadata": {},
   "source": [
    "## $ (5) $\n",
    "\n",
    "\n",
    "\n",
    "## $$ \\displaystyle x_{ijk0} = 0, \\hspace{15pt} \\forall i \\in N \\setminus S_{0} , j \\in N , k \\in K $$"
   ]
  },
  {
   "cell_type": "code",
   "execution_count": 2480,
   "id": "56799b8d",
   "metadata": {},
   "outputs": [],
   "source": [
    "# (5) - Vehicles must depart from depot\n",
    "\n",
    "model.R5 = pyo.ConstraintList()\n",
    "\n",
    "for i in (model.setN - model.setS_0):\n",
    "    \n",
    "    for j in model.setN:\n",
    "    \n",
    "        for k in model.setK:\n",
    "        \n",
    "            model.R5.add(expr = model.x[i,j,k,0] == 0)"
   ]
  },
  {
   "cell_type": "markdown",
   "id": "3903445f",
   "metadata": {},
   "source": [
    "## $ (6) $\n",
    "\n",
    "\n",
    "\n",
    "## $$ \\displaystyle x_{ijkMV} = 0, \\hspace{15pt} \\forall j \\in N \\setminus S_{f} , i \\in N , k \\in K $$"
   ]
  },
  {
   "cell_type": "code",
   "execution_count": 2481,
   "id": "14496eea",
   "metadata": {},
   "outputs": [],
   "source": [
    "# (6) - Vehicles must end their routes in one of the available depots\n",
    "\n",
    "model.R6 = pyo.ConstraintList()\n",
    "\n",
    "for i in model.setN:\n",
    "    \n",
    "    for j in (model.setN - model.setS_f):\n",
    "    \n",
    "        for k in model.setK:\n",
    "        \n",
    "            model.R6.add(expr = model.x[i,j,k,model.setV.bounds()[1]] == 0)"
   ]
  },
  {
   "cell_type": "markdown",
   "id": "fe20fa9f",
   "metadata": {},
   "source": [
    "## $ (7) $\n",
    "\n",
    "\n",
    "## $$ \\displaystyle x_{ijk0} = 0,  \\hspace{15pt} \\forall i \\in S_{0}; j \\in N \\setminus D_{i}; k \\in K$$"
   ]
  },
  {
   "cell_type": "code",
   "execution_count": 2482,
   "id": "693c1148",
   "metadata": {},
   "outputs": [],
   "source": [
    "# (7) - A vehicle can't depart from a depot that is not its initial depot\n",
    "\n",
    "model.R7 = pyo.ConstraintList()\n",
    "\n",
    "for i in model.setS_0:\n",
    "\n",
    "    for j in model.setN:\n",
    "        \n",
    "        for k in model.setK:\n",
    "            \n",
    "            if (k not in vehicle_locations[i]):\n",
    "                       \n",
    "                model.R7.add(expr = model.x[i, j, k, 0] == 0) "
   ]
  },
  {
   "cell_type": "markdown",
   "id": "7ae06860",
   "metadata": {},
   "source": [
    "## $ (8) $\n",
    "\n",
    "## $$ \\displaystyle \\sum_{j \\in N}\\sum_{k \\in K}x_{ijk0} \\leq K_{i}, \\hspace{15pt} \\forall i \\in S_{0} $$"
   ]
  },
  {
   "cell_type": "code",
   "execution_count": 2483,
   "id": "e090d399",
   "metadata": {},
   "outputs": [],
   "source": [
    "# (8) - Number of vehicles that depart from depot must be equal to number of vehicles available at depot\n",
    "\n",
    "# K_{i} - Number of vehicles that start their route at depot i in S_0\n",
    "\n",
    "K = [len(location) for location in vehicle_locations]\n",
    "\n",
    "model.R8 = pyo.ConstraintList()\n",
    "\n",
    "for i in (model.setS_0):\n",
    "\n",
    "    model.R8.add(expr = sum(sum(model.x[i,j,k,0] for j in model.setN) for k in model.setK) <= K[i])"
   ]
  },
  {
   "cell_type": "markdown",
   "id": "2936c0e2",
   "metadata": {},
   "source": [
    "## $ (9) $\n",
    "\n",
    "\n",
    "\n",
    "## $$ \\displaystyle x_{ijkv} = 0, \\hspace{15pt} \\forall i \\in S_{0}, j \\in D , k \\in K, v \\in V $$"
   ]
  },
  {
   "cell_type": "code",
   "execution_count": 2484,
   "id": "2ed6c8b6",
   "metadata": {},
   "outputs": [],
   "source": [
    "# (9) - Vehicles can't go from depot directly to a delivery node (was this supposed to be a constraint?)\n",
    "\n",
    "# Y and Z variables are kind of problematic for initial visit, so this is needed\n",
    "\n",
    "model.R9 = pyo.ConstraintList()\n",
    "\n",
    "for i in model.setS_0:\n",
    "    \n",
    "    for j in model.setD:\n",
    "    \n",
    "        for k in model.setK:\n",
    "            \n",
    "            for v in model.setV:\n",
    "        \n",
    "                model.R9.add(expr = model.x[i,j,k,v] == 0)"
   ]
  },
  {
   "cell_type": "markdown",
   "id": "02aeda7a",
   "metadata": {},
   "source": [
    "## $ (10) $\n",
    "\n",
    "## $$ w_{jkv} \\geq w_{ik(v-1)} + t_{ij} - M(1-x_{ijkv}), \\newline\\forall i \\in N, j \\in N, k \\in K, v \\in V \\setminus\\{0\\} $$"
   ]
  },
  {
   "cell_type": "code",
   "execution_count": 2485,
   "id": "6efb88fb",
   "metadata": {},
   "outputs": [],
   "source": [
    "# (10) - Time windows constraints - 1\n",
    "\n",
    "# Defining big M\n",
    "\n",
    "M = 1000\n",
    "\n",
    "model.R10 = pyo.ConstraintList()\n",
    "\n",
    "for i in model.setN:\n",
    "    \n",
    "    for j in model.setN:\n",
    "        \n",
    "        for k in model.setK:\n",
    "    \n",
    "            for v in range(1, len(model.setV)):\n",
    "        \n",
    "                model.R10.add(expr = model.w[j, k, v] >= model.w[i, k, v-1] + c[i][j] - M*(1 - model.x[i,j, k, v]))\n",
    "            \n",
    "                model.R10.add(expr = model.w[j, k, v] <= model.w[i, k, v-1] + c[i][j] + M*(1 - model.x[i,j, k, v]))"
   ]
  },
  {
   "cell_type": "markdown",
   "id": "a5e4c2f8",
   "metadata": {},
   "source": [
    "## $ (11) $\n",
    "\n",
    "\n",
    "\n",
    "## $$ w_{i}^{a} \\leq w_{ikv} \\leq w_{i}^{b} , \\hspace{15pt} \\forall i \\in P \\cup D, k \\in K, v \\in V $$"
   ]
  },
  {
   "cell_type": "code",
   "execution_count": 2486,
   "id": "d143eae4",
   "metadata": {},
   "outputs": [],
   "source": [
    "# (11)  - Time windows constraints - 2\n",
    "\n",
    "model.R11 = pyo.ConstraintList()\n",
    "\n",
    "for i in (model.setP | model.setD):\n",
    "    \n",
    "    for k in model.setK:\n",
    "        \n",
    "        for v in model.setV:\n",
    "    \n",
    "            model.R11.add(expr = model.w[i, k, v] >= w_a[i])\n",
    "            model.R11.add(expr = model.w[i, k, v] <= w_b[i])"
   ]
  },
  {
   "cell_type": "markdown",
   "id": "27aaf11a",
   "metadata": {},
   "source": [
    "## $ (12) $\n",
    "\n",
    "\n",
    "\n",
    "## $$ y_{jkv} \\geq y_{ik(v-1)} + z_{jkv} - M(1-x_{ijkv}), \\newline\\forall i \\in N, j \\in P, k \\in K, v \\in V \\setminus \\{0\\} $$"
   ]
  },
  {
   "cell_type": "code",
   "execution_count": 2487,
   "id": "bd813901",
   "metadata": {},
   "outputs": [],
   "source": [
    "# (12) - Load constraints - 1 (pickup)\n",
    "\n",
    "model.R12 = pyo.ConstraintList()\n",
    "\n",
    "for i in model.setN:\n",
    "    \n",
    "    for j in model.setP:\n",
    "        \n",
    "        for k in model.setK:\n",
    "    \n",
    "            for v in range(1, len(model.setV)):\n",
    "        \n",
    "                model.R12.add(expr = model.y[j,k,v] >= model.y[i,k,v-1] + model.z[j,k,v] - M*(1 - model.x[i,j,k,v]))\n",
    "            \n",
    "                model.R12.add(expr = model.y[j,k,v] <= model.y[i,k,v-1] + model.z[j,k,v] + M*(1 - model.x[i,j,k,v]))\n",
    "                \n",
    "# (12) - Load constraints - 1 (pickup)\n",
    "\n",
    "for i in model.setN:\n",
    "        \n",
    "    for k in model.setK:\n",
    "\n",
    "            model.R12.add(expr = model.y[i,k,0] >= model.z[i,k,0])\n",
    "\n",
    "            model.R12.add(expr = model.y[i,k,0] <= model.z[i,k,0])"
   ]
  },
  {
   "cell_type": "markdown",
   "id": "c8ce1ce6",
   "metadata": {},
   "source": [
    "## $ (13) $\n",
    "\n",
    "\n",
    "\n",
    "## $$ y_{jkv} \\geq y_{ik(v-1)} - z_{jkv} - M(1-x_{ijkv}), \\newline\\forall i \\in N, j \\in D, k \\in K, v \\in V \\setminus \\{0\\} $$"
   ]
  },
  {
   "cell_type": "code",
   "execution_count": 2488,
   "id": "65e57ddf",
   "metadata": {},
   "outputs": [],
   "source": [
    "# (13)  - Load constraints - 2 (delivery)\n",
    "\n",
    "model.R13 = pyo.ConstraintList()\n",
    "\n",
    "for i in model.setN:\n",
    "    \n",
    "    for j in model.setD:\n",
    "        \n",
    "        for k in model.setK:\n",
    "    \n",
    "            for v in range(1, len(model.setV)):\n",
    "            \n",
    "                model.R13.add(expr = model.y[j,k,v] >= model.y[i,k,v-1] - model.z[j,k,v] - M*(1 - model.x[i,j,k,v]))\n",
    "                \n",
    "                model.R13.add(expr = model.y[j,k,v] <= model.y[i,k,v-1] - model.z[j,k,v] + M*(1 - model.x[i,j,k,v]))"
   ]
  },
  {
   "cell_type": "markdown",
   "id": "1b317ac3",
   "metadata": {},
   "source": [
    "## $ (14) $\n",
    "\n",
    "\n",
    "\n",
    "## $$ \\displaystyle y_{ikv} \\leq Q_{k}, \\hspace{15pt} \\forall i \\in N , k \\in K, v \\in V$$"
   ]
  },
  {
   "cell_type": "code",
   "execution_count": 2489,
   "id": "dcf9ffb2",
   "metadata": {},
   "outputs": [],
   "source": [
    "# (14) - Load constraints - 3\n",
    "\n",
    "model.R14 = pyo.ConstraintList()\n",
    "\n",
    "for i in model.setN:\n",
    "\n",
    "        for k in model.setK:\n",
    "\n",
    "            for v in model.setV:\n",
    "\n",
    "                model.R14.add(expr = model.y[i,k,v] <= Q[k])\n"
   ]
  },
  {
   "cell_type": "markdown",
   "id": "e47a03e9",
   "metadata": {},
   "source": [
    "## $ (15) $\n",
    "\n",
    "\n",
    "## $$ \\displaystyle \\sum_{k \\in K}\\sum_{v \\in V} z_{ikv} \\leq d_{i}, \\hspace{15pt} \\forall i \\in P \\cup D $$"
   ]
  },
  {
   "cell_type": "code",
   "execution_count": 2490,
   "id": "2cf42ad4",
   "metadata": {},
   "outputs": [],
   "source": [
    "# (15)  - Total amount picked up/delivered to each node can't be above node supply/demand\n",
    "\n",
    "model.R15 = pyo.ConstraintList()\n",
    "\n",
    "for i in (model.setP | model.setD):\n",
    "\n",
    "    model.R15.add(expr = sum(sum(model.z[i, k, v] for k in model.setK) for v in model.setV) <= abs(d[i]))"
   ]
  },
  {
   "cell_type": "markdown",
   "id": "1601e685",
   "metadata": {},
   "source": [
    "## $ (16) $\n",
    "\n",
    "\n",
    "## $$  z_{ikv} \\leq d_{i}\\displaystyle \\sum_{j \\in N}x_{jikv}, \\hspace{15pt} \\forall i \\in N, k \\in K, v \\in V $$"
   ]
  },
  {
   "cell_type": "code",
   "execution_count": 2491,
   "id": "45be7224",
   "metadata": {},
   "outputs": [],
   "source": [
    "# (16) - Amount delivered to a node in a single visit can't exceed node demand\n",
    "\n",
    "model.R16 = pyo.ConstraintList()\n",
    "\n",
    "for i in model.setN:\n",
    "    \n",
    "    for k in model.setK:\n",
    "        \n",
    "        for v in model.setV:\n",
    "\n",
    "            model.R16.add(expr = model.z[i, k, v] <= abs(d[i])*sum(model.x[j,i,k,v] for j in model.setN))"
   ]
  },
  {
   "cell_type": "markdown",
   "id": "63bf56c3",
   "metadata": {},
   "source": [
    "## $ (17) $\n",
    "\n",
    "\n",
    "## $$  \\displaystyle \\sum_{i \\in P}\\sum_{v \\in V} z_{ikv} =\\displaystyle \\sum_{i \\in D}\\sum_{v \\in V}z_{ikv}, \\forall k \\in K$$"
   ]
  },
  {
   "cell_type": "code",
   "execution_count": 2492,
   "id": "caf80e20",
   "metadata": {},
   "outputs": [],
   "source": [
    "# (17) - Total delivered amount by a vehicle needs to be equal to total picked up demand\n",
    "\n",
    "model.R17 = pyo.ConstraintList()\n",
    "\n",
    "for k in model.setK:\n",
    "    \n",
    "    model.R17.add(expr = sum(sum(model.z[i, k, v] for i in model.setP) for v in model.setV) == sum(sum(model.z[i, k, v] for i in model.setD) for v in model.setV))\n"
   ]
  },
  {
   "cell_type": "markdown",
   "id": "cf61f1ee",
   "metadata": {},
   "source": [
    "## $ (18) $\n",
    "\n",
    "\n",
    "## $$  z_{ik0} \\leq Q_{k}, \\hspace{15pt} \\forall i \\in N, k \\in K$$"
   ]
  },
  {
   "cell_type": "code",
   "execution_count": 2493,
   "id": "09279590",
   "metadata": {},
   "outputs": [],
   "source": [
    "# # (18)  - Amount collected/delivered at the first visit can't exceed vehicle capacity\n",
    "\n",
    "# # Also needed because of problems with Y and Z for first visit\n",
    "\n",
    "# model.R18 = pyo.ConstraintList()\n",
    "\n",
    "# for i in model.setN:\n",
    "    \n",
    "#     for k in model.setK:\n",
    "\n",
    "#         model.R18.add(expr = model.z[i,k,0] <= Q[k])"
   ]
  },
  {
   "cell_type": "code",
   "execution_count": 2494,
   "id": "3f7c35bf",
   "metadata": {},
   "outputs": [],
   "source": [
    "# # (19) - Forces that a vehicle can't go to a pickup node that is not in the same place of its initial depot\n",
    "\n",
    "# # Can be turned off, if convenient in some way\n",
    "\n",
    "# model.R22 = pyo.ConstraintList()\n",
    "\n",
    "# for i in model.setS_0:\n",
    "\n",
    "#     for j in model.setP:\n",
    "        \n",
    "#         for k in model.setK:\n",
    "            \n",
    "#             if (c[i][j] > 0):\n",
    "\n",
    "#                 model.R22.add(expr = model.x[i, j, k, 0] == 0)"
   ]
  },
  {
   "cell_type": "markdown",
   "id": "91d39b34",
   "metadata": {},
   "source": [
    "#### Valid inequalities"
   ]
  },
  {
   "cell_type": "code",
   "execution_count": 2495,
   "id": "0936a8d1",
   "metadata": {},
   "outputs": [],
   "source": [
    "# # Inequalities for N set\n",
    "\n",
    "model.VI1 = pyo.ConstraintList()\n",
    "\n",
    "# No \"node to initial depot\" arcs or \"final depot to nodes\" arcs\n",
    "\n",
    "for i in model.setN:\n",
    "    \n",
    "    for k in model.setK:\n",
    "        \n",
    "        for v in model.setV:\n",
    "    \n",
    "            #model.VI1.add(expr= model.x[i, i, k, v] == 0)\n",
    "\n",
    "            for h in model.setS_0:\n",
    "\n",
    "                model.VI1.add(expr= model.x[i, h, k, v] == 0)\n",
    "\n",
    "            for h in model.setS_f:\n",
    "\n",
    "                model.VI1.add(expr= model.x[h, i, k, v] == 0)\n",
    "                \n",
    "\n",
    "# Vehicles can't visit pickup node right before ending route\n",
    "\n",
    "model.RV2 = pyo.ConstraintList()\n",
    "\n",
    "for i in model.setP:\n",
    "    \n",
    "    for j in model.setS_f:\n",
    "    \n",
    "        for k in model.setK:\n",
    "        \n",
    "            model.RV2.add(expr = model.x[i,j,k,model.setV.bounds()[1]] == 0)\n",
    "\n",
    "\n",
    "# Time windows inequalities\n",
    "\n",
    "model.VI3 = pyo.ConstraintList()\n",
    "\n",
    "for i in (model.setP | model.setD):\n",
    "    \n",
    "    for j in (model.setP | model.setD):\n",
    "        \n",
    "        for k in model.setK:\n",
    "            \n",
    "            for v in model.setV:\n",
    "        \n",
    "                if w_a[i] + c[i][j] > w_b[j]:\n",
    "\n",
    "                    model.VI3.add(expr= model.x[i, j, k, v] == 0)\n",
    "\n",
    "                    \n",
    "# Delivery capacities inequalities\n",
    "\n",
    "model.VI4 = pyo.ConstraintList()\n",
    "\n",
    "for i in model.setD:\n",
    "    \n",
    "    for j in model.setD:\n",
    "        \n",
    "        for k in model.setK:\n",
    "            \n",
    "            for v in model.setV:\n",
    "        \n",
    "                if (abs(d[i]) + abs(d[j]) > Q[k]):\n",
    "            \n",
    "                    model.VI4.add(expr= model.x[i, j, k, v] == 0)\n",
    "                \n",
    "# # (ZZ) - No \"initial depot to final depot\" arcs\n",
    "\n",
    "# model.RZZ = pyo.ConstraintList()\n",
    "\n",
    "# for i in model.setS_0:\n",
    "    \n",
    "#     for j in model.setS_f:\n",
    "        \n",
    "#         for k in model.setK:\n",
    "\n",
    "#             for v in model.setV:\n",
    "\n",
    "#                 model.RZZ.add(expr = model.x[i, j, k, v] == 0)\n",
    "        "
   ]
  },
  {
   "cell_type": "code",
   "execution_count": 2496,
   "id": "ecadb7de",
   "metadata": {},
   "outputs": [],
   "source": [
    "# (YY)\n",
    "\n",
    "model.RYY = pyo.ConstraintList()\n",
    "        \n",
    "for k in model.setK:\n",
    "    \n",
    "    for v in model.setV:\n",
    "\n",
    "        model.RYY.add(expr = sum(sum(model.x[i, j, k, v] for i in model.setN) for j in model.setN) <= 1)"
   ]
  },
  {
   "cell_type": "code",
   "execution_count": 2498,
   "id": "6fa2ec0a",
   "metadata": {},
   "outputs": [],
   "source": [
    "model.RMM = pyo.ConstraintList()\n",
    "\n",
    "for i in model.setN:\n",
    "        \n",
    "    for k in model.setK:\n",
    "        \n",
    "        for v in model.setV:\n",
    "\n",
    "            model.RMM.add(expr = model.z[i,k,v] <= M*(1-model.x[i, i, k, v]))\n",
    "            model.RMM.add(expr = model.z[i,k,v] >= (-1)*M*(1-model.x[i, i, k, v]))\n",
    "        "
   ]
  },
  {
   "cell_type": "code",
   "execution_count": 2499,
   "id": "d28bff6b",
   "metadata": {},
   "outputs": [],
   "source": [
    "# No nodes going to final depot in visits lower than MV\n",
    "\n",
    "model.RXYZ = pyo.ConstraintList()\n",
    "\n",
    "for i in model.setN:\n",
    "    \n",
    "    for j in model.setS_f:\n",
    "        \n",
    "        for k in model.setK:\n",
    "\n",
    "            for v in range(len(model.setV) - 1):\n",
    "\n",
    "                model.RXYZ.add(expr = model.x[i, j, k, v] == 0)\n",
    "                \n",
    "# No nodes starting on initial depots in visits higher than 0\n",
    "\n",
    "for i in model.setS_0:\n",
    "    \n",
    "    for j in model.setN:\n",
    "        \n",
    "        for k in model.setK:\n",
    "\n",
    "            for v in range(1, len(model.setV)):\n",
    "\n",
    "                model.RXYZ.add(expr = model.x[i, j, k, v] == 0)\n"
   ]
  },
  {
   "cell_type": "code",
   "execution_count": null,
   "id": "455f1a8f",
   "metadata": {},
   "outputs": [],
   "source": [
    "# \"Equity\" constrain"
   ]
  },
  {
   "cell_type": "markdown",
   "id": "424191fa",
   "metadata": {},
   "source": [
    "#### Solving model"
   ]
  },
  {
   "cell_type": "code",
   "execution_count": 2501,
   "id": "c96906a6",
   "metadata": {
    "scrolled": true
   },
   "outputs": [
    {
     "name": "stdout",
     "output_type": "stream",
     "text": [
      "\n",
      "Welcome to IBM(R) ILOG(R) CPLEX(R) Interactive Optimizer 20.1.0.0\n",
      "  with Simplex, Mixed Integer & Barrier Optimizers\n",
      "5725-A06 5725-A29 5724-Y48 5724-Y49 5724-Y54 5724-Y55 5655-Y21\n",
      "Copyright IBM Corp. 1988, 2020.  All Rights Reserved.\n",
      "\n",
      "Type 'help' for a list of available commands.\n",
      "Type 'help' followed by a command name for more\n",
      "information on commands.\n",
      "\n",
      "CPLEX> Logfile 'cplex.log' closed.\n",
      "Logfile 'C:\\Users\\User\\AppData\\Local\\Temp\\tmpj5ghswr4.cplex.log' open.\n",
      "CPLEX> New value for time limit in seconds: 600\n",
      "CPLEX> Problem 'C:\\Users\\User\\AppData\\Local\\Temp\\tmpg_y8ojyy.pyomo.lp' read.\n",
      "Read time = 0.06 sec. (3.10 ticks)\n",
      "CPLEX> Problem name         : C:\\Users\\User\\AppData\\Local\\Temp\\tmpg_y8ojyy.pyomo.lp\n",
      "Objective sense      : Maximize\n",
      "Variables            :    7297  [Nneg: 1153,  Binary: 6144]\n",
      "Objective nonzeros   :     240\n",
      "Linear constraints   :   30203  [Less: 21664,  Greater: 288,  Equal: 8251]\n",
      "  Nonzeros           :  108113\n",
      "  RHS nonzeros       :   21457\n",
      "\n",
      "Variables            : Min LB: 0.000000         Max UB: 1.000000       \n",
      "Objective nonzeros   : Min   : 1.000000         Max   : 1.000000       \n",
      "Linear constraints   :\n",
      "  Nonzeros           : Min   : 1.000000         Max   : 1000.000       \n",
      "  RHS nonzeros       : Min   : 1.000000         Max   : 1052.570       \n",
      "CPLEX> Version identifier: 20.1.0.0 | 2020-11-10 | 9bedb6d68\n",
      "CPXPARAM_TimeLimit                               600\n",
      "Found incumbent of value 0.000000 after 0.00 sec. (1.53 ticks)\n",
      "Tried aggregator 2 times.\n",
      "MIP Presolve eliminated 28485 rows and 6593 columns.\n",
      "MIP Presolve modified 3876 coefficients.\n",
      "Aggregator did 4 substitutions.\n",
      "Reduced MIP has 1714 rows, 700 columns, and 7220 nonzeros.\n",
      "Reduced MIP has 364 binaries, 0 generals, 0 SOSs, and 0 indicators.\n",
      "Presolve time = 0.05 sec. (23.75 ticks)\n",
      "Probing fixed 8 vars, tightened 2 bounds.\n",
      "Probing time = 0.02 sec. (7.59 ticks)\n",
      "Tried aggregator 1 time.\n",
      "Detecting symmetries...\n",
      "MIP Presolve eliminated 36 rows and 14 columns.\n",
      "MIP Presolve modified 1118 coefficients.\n",
      "Reduced MIP has 1678 rows, 686 columns, and 7022 nonzeros.\n",
      "Reduced MIP has 356 binaries, 0 generals, 0 SOSs, and 0 indicators.\n",
      "Presolve time = 0.02 sec. (6.06 ticks)\n",
      "Probing time = 0.02 sec. (3.12 ticks)\n",
      "Clique table members: 4141.\n",
      "MIP emphasis: balance optimality and feasibility.\n",
      "MIP search method: dynamic search.\n",
      "Parallel mode: deterministic, using up to 4 threads.\n",
      "Root relaxation solution time = 0.03 sec. (13.40 ticks)\n",
      "\n",
      "        Nodes                                         Cuts/\n",
      "   Node  Left     Objective  IInf  Best Integer    Best Bound    ItCnt     Gap\n",
      "\n",
      "*     0+    0                            0.0000     1050.0000              --- \n",
      "      0     0      150.0000    68        0.0000      150.0000      544     --- \n",
      "      0     0      150.0000    35        0.0000      Cuts: 39      582     --- \n",
      "      0     0      150.0000    80        0.0000     Cuts: 100      724     --- \n",
      "      0     0      150.0000    21        0.0000      Cuts: 10      742     --- \n",
      "      0     0      150.0000    42        0.0000      Cuts: 85      850     --- \n",
      "*     0+    0                          100.0000      150.0000            50.00%\n",
      "Detecting symmetries...\n",
      "      0     2      150.0000    17      100.0000      150.0000      850   50.00%\n",
      "Elapsed time = 0.73 sec. (233.05 ticks, tree = 0.02 MB, solutions = 1)\n",
      "*   520+  252                          110.0000      150.0000            36.36%\n",
      "*   787+  404                          140.0000      150.0000             7.14%\n",
      "    858   105      150.0000    30      140.0000      150.0000    16538    7.14%\n",
      "*  1320   160      integral     0      145.0000      150.0000    24536    3.45%\n",
      "*  1349   142      integral     0      150.0000      150.0000    24909    0.00%\n",
      "\n",
      "Clique cuts applied:  13\n",
      "Implied bound cuts applied:  230\n",
      "Flow cuts applied:  4\n",
      "Mixed integer rounding cuts applied:  22\n",
      "Gomory fractional cuts applied:  1\n",
      "\n",
      "Root node processing (before b&c):\n",
      "  Real time             =    0.72 sec. (232.87 ticks)\n",
      "Parallel b&c, 4 threads:\n",
      "  Real time             =    1.52 sec. (409.66 ticks)\n",
      "  Sync time (average)   =    0.26 sec.\n",
      "  Wait time (average)   =    0.00 sec.\n",
      "                          ------------\n",
      "Total (root+branch&cut) =    2.23 sec. (642.53 ticks)\n",
      "\n",
      "Solution pool: 8 solutions saved.\n",
      "\n",
      "MIP - Integer optimal solution:  Objective =  1.5000000000e+02\n",
      "Solution time =    2.23 sec.  Iterations = 26862  Nodes = 1377\n",
      "Deterministic time = 642.55 ticks  (287.50 ticks/sec)\n",
      "\n",
      "CPLEX> Incumbent solution written to file 'C:\\Users\\User\\AppData\\Local\\Temp\\tmpbinnk2x8.cplex.sol'.\n",
      "CPLEX> "
     ]
    }
   ],
   "source": [
    "# Solver\n",
    "\n",
    "TimeLimit = 600\n",
    "\n",
    "opt = pyo.SolverFactory('cplex', executable='C:/Program Files/IBM/ILOG/CPLEX_Studio201/cplex/bin/x64_win64/cplex')\n",
    "opt.options['TimeLimit'] = TimeLimit\n",
    "\n",
    "\n",
    "results = opt.solve(model, tee=True)"
   ]
  },
  {
   "cell_type": "code",
   "execution_count": 2502,
   "id": "9e1f3e54",
   "metadata": {},
   "outputs": [
    {
     "name": "stdout",
     "output_type": "stream",
     "text": [
      "x[0, 3, 0, 0] == 1.0\n",
      "x[3, 12, 0, 1] == 1.0\n",
      "x[12, 3, 0, 2] == 1.0\n",
      "x[3, 13, 0, 3] == 1.0\n",
      "x[13, 3, 0, 4] == 1.0\n",
      "x[3, 13, 0, 5] == 1.0\n",
      "x[13, 3, 0, 6] == 1.0\n",
      "x[3, 4, 0, 7] == 1.0\n",
      "x[4, 3, 0, 8] == 1.0\n",
      "x[3, 3, 0, 9] == 1.0\n",
      "x[3, 6, 0, 10] == 1.0\n",
      "x[6, 14, 0, 11] == 1.0\n",
      "x[1, 3, 1, 0] == 0.9999999999999997\n",
      "x[3, 12, 1, 1] == 0.9999999999999997\n",
      "x[12, 2, 1, 2] == 1.0\n",
      "x[2, 12, 1, 3] == 1.0\n",
      "x[12, 2, 1, 4] == 1.0\n",
      "x[2, 13, 1, 5] == 1.0\n",
      "x[13, 3, 1, 6] == 1.0\n",
      "x[3, 3, 1, 7] == 1.0\n",
      "x[3, 4, 1, 8] == 1.0\n",
      "x[4, 2, 1, 9] == 1.0\n",
      "x[2, 6, 1, 10] == 1.0\n",
      "x[6, 15, 1, 11] == 1.0\n"
     ]
    }
   ],
   "source": [
    "for k in model.setK:\n",
    "    \n",
    "    for v in model.setV:\n",
    "\n",
    "        for i in model.setN:\n",
    "\n",
    "            for j in model.setN:\n",
    "\n",
    "                if (pyo.value(model.x[i,j,k,v]))>0.01:\n",
    "\n",
    "                    print(f'x[{i}, {j}, {k}, {v}] == {pyo.value(model.x[i,j,k,v])}')"
   ]
  },
  {
   "cell_type": "code",
   "execution_count": 2467,
   "id": "466dff51",
   "metadata": {},
   "outputs": [
    {
     "name": "stdout",
     "output_type": "stream",
     "text": [
      "z[3, 0, 0] == 10.000000000000004\n",
      "z[12, 0, 1] == 10.0\n",
      "z[3, 0, 2] == 10.0\n",
      "z[13, 0, 3] == 10.0\n",
      "z[3, 0, 4] == 10.0\n",
      "z[13, 0, 5] == 10.0\n",
      "z[3, 0, 6] == 10.0\n",
      "z[4, 0, 7] == 10.0\n",
      "z[3, 0, 8] == 9.999999999999996\n",
      "z[3, 0, 9] == 0.0\n",
      "z[6, 0, 10] == 10.0\n",
      "z[14, 0, 11] == 0.0\n",
      "z[3, 1, 0] == 20.0\n",
      "z[12, 1, 1] == 19.999999999999993\n",
      "z[2, 1, 2] == 20.0\n",
      "z[12, 1, 3] == 20.0\n",
      "z[2, 1, 4] == 20.000000000000004\n",
      "z[13, 1, 5] == 20.0\n",
      "z[3, 1, 6] == 20.0\n",
      "z[3, 1, 7] == 0.0\n",
      "z[4, 1, 8] == 20.0\n",
      "z[2, 1, 9] == 19.999999999999993\n",
      "z[6, 1, 10] == 20.0\n",
      "z[15, 1, 11] == 0.0\n"
     ]
    }
   ],
   "source": [
    "for k in model.setK:\n",
    "    \n",
    "    for v in model.setV:\n",
    "\n",
    "        for i in model.setN:\n",
    "\n",
    "            for j in model.setN:\n",
    "\n",
    "                if ((pyo.value(model.x[i,j,k,v]))>0.01):\n",
    "\n",
    "                    print(f'z[{j}, {k}, {v}] == {pyo.value(model.z[j,k,v])}')"
   ]
  },
  {
   "cell_type": "code",
   "execution_count": 2462,
   "id": "9372f1ea",
   "metadata": {},
   "outputs": [
    {
     "name": "stdout",
     "output_type": "stream",
     "text": [
      "y[3, 0, 0] == 10.000000000000004\n",
      "y[12, 0, 1] == 0.0\n",
      "y[3, 0, 2] == 10.0\n",
      "y[13, 0, 3] == 0.0\n",
      "y[3, 0, 4] == 10.0\n",
      "y[13, 0, 5] == 0.0\n",
      "y[3, 0, 6] == 10.0\n",
      "y[4, 0, 7] == 0.0\n",
      "y[3, 0, 8] == 9.999999999999996\n",
      "y[3, 0, 9] == 10.0\n",
      "y[6, 0, 10] == 0.0\n",
      "y[14, 0, 11] == 0.0\n",
      "y[3, 1, 0] == 20.0\n",
      "y[12, 1, 1] == 0.0\n",
      "y[2, 1, 2] == 20.0\n",
      "y[12, 1, 3] == 0.0\n",
      "y[2, 1, 4] == 20.0\n",
      "y[13, 1, 5] == 0.0\n",
      "y[3, 1, 6] == 20.0\n",
      "y[3, 1, 7] == 20.0\n",
      "y[4, 1, 8] == 0.0\n",
      "y[2, 1, 9] == 20.0\n",
      "y[6, 1, 10] == 0.0\n",
      "y[15, 1, 11] == 0.0\n"
     ]
    }
   ],
   "source": [
    "for k in model.setK:\n",
    "    \n",
    "    for v in model.setV:\n",
    "\n",
    "        for i in model.setN:\n",
    "\n",
    "            for j in model.setN:\n",
    "\n",
    "                if ((pyo.value(model.x[i,j,k,v]))>0.01):\n",
    "\n",
    "                    print(f'y[{j}, {k}, {v}] == {pyo.value(model.y[j,k,v])}')"
   ]
  },
  {
   "cell_type": "code",
   "execution_count": 2463,
   "id": "c5571766",
   "metadata": {},
   "outputs": [
    {
     "name": "stdout",
     "output_type": "stream",
     "text": [
      "w[3, 0, 0] == 27.72000000000007\n",
      "w[12, 0, 1] == 63.51000000000003\n",
      "w[3, 0, 2] == 99.29999999999995\n",
      "w[13, 0, 3] == 125.0\n",
      "w[3, 0, 4] == 150.70000000000005\n",
      "w[13, 0, 5] == 176.4000000000001\n",
      "w[3, 0, 6] == 202.10000000000014\n",
      "w[4, 0, 7] == 237.20000000000016\n",
      "w[3, 0, 8] == 272.3000000000002\n",
      "w[3, 0, 9] == 272.3000000000002\n",
      "w[6, 0, 10] == 314.0500000000002\n",
      "w[14, 0, 11] == 352.6300000000002\n",
      "w[3, 1, 0] == 33.3299999999999\n",
      "w[12, 1, 1] == 69.11999999999989\n",
      "w[2, 1, 2] == 93.05999999999995\n",
      "w[12, 1, 3] == 117.0\n",
      "w[2, 1, 4] == 140.94000000000005\n",
      "w[13, 1, 5] == 179.36\n",
      "w[3, 1, 6] == 205.06000000000006\n",
      "w[3, 1, 7] == 205.06000000000006\n",
      "w[4, 1, 8] == 240.16000000000008\n",
      "w[2, 1, 9] == 274.4000000000001\n",
      "w[6, 1, 10] == 312.98000000000013\n",
      "w[15, 1, 11] == 354.73000000000013\n"
     ]
    }
   ],
   "source": [
    "for k in model.setK:\n",
    "\n",
    "    for v in model.setV:\n",
    "\n",
    "        for i in model.setN:\n",
    "            \n",
    "            for j in model.setN:\n",
    "            \n",
    "                if pyo.value(model.x[i,j,k,v]) > 0.01:\n",
    "\n",
    "                    print(f'w[{j}, {k}, {v}] == {pyo.value(model.w[j,k,v])}')\n",
    "                    "
   ]
  },
  {
   "cell_type": "code",
   "execution_count": 2464,
   "id": "a2fc26f1",
   "metadata": {},
   "outputs": [
    {
     "name": "stdout",
     "output_type": "stream",
     "text": [
      "[[0, 3, 12, 3, 13, 3, 13, 3, 4, 3, 3, 6, 14], [1, 3, 12, 2, 12, 2, 13, 3, 3, 4, 2, 6, 15]]\n"
     ]
    }
   ],
   "source": [
    "# Getting routes on solution\n",
    "\n",
    "routes = [[] for k in model.setK]\n",
    "\n",
    "for k in model.setK:\n",
    "    \n",
    "    for v in model.setV:\n",
    "\n",
    "        for i in model.setN:\n",
    "\n",
    "            for j in model.setN:\n",
    "\n",
    "                if (pyo.value(model.x[i,j,k,v]))>0.01:\n",
    "                    \n",
    "                    if len(routes[k]) == 0:\n",
    "                    \n",
    "                        routes[k].extend([i,j])\n",
    "                        \n",
    "                    else:\n",
    "                        \n",
    "                        routes[k].append(j)\n",
    "\n",
    "print(routes)"
   ]
  },
  {
   "cell_type": "code",
   "execution_count": 2465,
   "id": "2611b13e",
   "metadata": {
    "scrolled": true
   },
   "outputs": [
    {
     "data": {
      "application/vnd.plotly.v1+json": {
       "config": {
        "plotlyServerURL": "https://plot.ly"
       },
       "data": [
        {
         "customdata": [
          [
           0,
           "Depot",
           0
          ],
          [
           0,
           "Depot",
           1
          ],
          [
           0,
           "Depot",
           14
          ],
          [
           0,
           "Depot",
           15
          ]
         ],
         "hovertemplate": "type=%{customdata[1]}<br>index=%{customdata[2]}<br>d=%{customdata[0]}<extra></extra>",
         "legendgroup": "Depot",
         "marker": {
          "color": "#636efa",
          "symbol": "square"
         },
         "mode": "markers+text",
         "name": "Depot",
         "orientation": "v",
         "showlegend": true,
         "text": [
          0,
          1,
          14,
          15
         ],
         "textposition": "top center",
         "type": "scatter",
         "x": [
          19.942,
          8.195,
          19.942,
          8.195
         ],
         "xaxis": "x",
         "y": [
          16.269,
          24.765,
          16.269,
          24.765
         ],
         "yaxis": "y"
        },
        {
         "customdata": [
          [
           140,
           "Pickup",
           2
          ],
          [
           100,
           "Pickup",
           3
          ]
         ],
         "hovertemplate": "type=%{customdata[1]}<br>index=%{customdata[2]}<br>d=%{customdata[0]}<extra></extra>",
         "legendgroup": "Pickup",
         "marker": {
          "color": "#EF553B",
          "symbol": "star"
         },
         "mode": "markers+text",
         "name": "Pickup",
         "orientation": "v",
         "showlegend": true,
         "text": [
          2,
          3
         ],
         "textposition": "top center",
         "type": "scatter",
         "x": [
          19.942,
          8.195
         ],
         "xaxis": "x",
         "y": [
          16.269,
          24.765
         ],
         "yaxis": "y"
        },
        {
         "customdata": [
          [
           -35,
           "Delivery",
           4
          ],
          [
           -45,
           "Delivery",
           5
          ],
          [
           -75,
           "Delivery",
           6
          ],
          [
           -25,
           "Delivery",
           7
          ],
          [
           -60,
           "Delivery",
           8
          ],
          [
           -25,
           "Delivery",
           9
          ],
          [
           -50,
           "Delivery",
           10
          ],
          [
           -40,
           "Delivery",
           11
          ],
          [
           -55,
           "Delivery",
           12
          ],
          [
           -60,
           "Delivery",
           13
          ]
         ],
         "hovertemplate": "type=%{customdata[1]}<br>index=%{customdata[2]}<br>d=%{customdata[0]}<extra></extra>",
         "legendgroup": "Delivery",
         "marker": {
          "color": "#00cc96",
          "symbol": "cross"
         },
         "mode": "markers+text",
         "name": "Delivery",
         "orientation": "v",
         "showlegend": true,
         "text": [
          4,
          5,
          6,
          7,
          8,
          9,
          10,
          11,
          12,
          13
         ],
         "textposition": "top center",
         "type": "scatter",
         "x": [
          35.573,
          36.158,
          43.76,
          13.387,
          21.442,
          4.515,
          14.379,
          17.381,
          43.627,
          0.062
         ],
         "xaxis": "x",
         "y": [
          46.733,
          11.897,
          46.624,
          36.048,
          34.131,
          24.464,
          35.446,
          24.472,
          19.724,
          49.145
         ],
         "yaxis": "y"
        }
       ],
       "layout": {
        "font": {
         "size": 9
        },
        "legend": {
         "title": {
          "text": "type"
         },
         "tracegroupgap": 0
        },
        "margin": {
         "t": 60
        },
        "shapes": [
         {
          "line": {
           "color": "#5F9EA0",
           "width": 3
          },
          "opacity": 0.2,
          "type": "line",
          "visible": true,
          "x0": 19.942,
          "x1": 8.195,
          "y0": 16.269,
          "y1": 24.765
         },
         {
          "line": {
           "color": "#5F9EA0",
           "width": 3
          },
          "opacity": 0.2,
          "type": "line",
          "visible": true,
          "x0": 8.195,
          "x1": 43.627,
          "y0": 24.765,
          "y1": 19.724
         },
         {
          "line": {
           "color": "#5F9EA0",
           "width": 3
          },
          "opacity": 0.2,
          "type": "line",
          "visible": true,
          "x0": 43.627,
          "x1": 8.195,
          "y0": 19.724,
          "y1": 24.765
         },
         {
          "line": {
           "color": "#5F9EA0",
           "width": 3
          },
          "opacity": 0.2,
          "type": "line",
          "visible": true,
          "x0": 8.195,
          "x1": 0.062,
          "y0": 24.765,
          "y1": 49.145
         },
         {
          "line": {
           "color": "#5F9EA0",
           "width": 3
          },
          "opacity": 0.2,
          "type": "line",
          "visible": true,
          "x0": 0.062,
          "x1": 8.195,
          "y0": 49.145,
          "y1": 24.765
         },
         {
          "line": {
           "color": "#5F9EA0",
           "width": 3
          },
          "opacity": 0.2,
          "type": "line",
          "visible": true,
          "x0": 8.195,
          "x1": 0.062,
          "y0": 24.765,
          "y1": 49.145
         },
         {
          "line": {
           "color": "#5F9EA0",
           "width": 3
          },
          "opacity": 0.2,
          "type": "line",
          "visible": true,
          "x0": 0.062,
          "x1": 8.195,
          "y0": 49.145,
          "y1": 24.765
         },
         {
          "line": {
           "color": "#5F9EA0",
           "width": 3
          },
          "opacity": 0.2,
          "type": "line",
          "visible": true,
          "x0": 8.195,
          "x1": 35.573,
          "y0": 24.765,
          "y1": 46.733
         },
         {
          "line": {
           "color": "#5F9EA0",
           "width": 3
          },
          "opacity": 0.2,
          "type": "line",
          "visible": true,
          "x0": 35.573,
          "x1": 8.195,
          "y0": 46.733,
          "y1": 24.765
         },
         {
          "line": {
           "color": "#5F9EA0",
           "width": 3
          },
          "opacity": 0.2,
          "type": "line",
          "visible": true,
          "x0": 8.195,
          "x1": 8.195,
          "y0": 24.765,
          "y1": 24.765
         },
         {
          "line": {
           "color": "#5F9EA0",
           "width": 3
          },
          "opacity": 0.2,
          "type": "line",
          "visible": true,
          "x0": 8.195,
          "x1": 43.76,
          "y0": 24.765,
          "y1": 46.624
         },
         {
          "line": {
           "color": "#5F9EA0",
           "width": 3
          },
          "opacity": 0.2,
          "type": "line",
          "visible": true,
          "x0": 43.76,
          "x1": 19.942,
          "y0": 46.624,
          "y1": 16.269
         },
         {
          "line": {
           "color": "#F08080",
           "width": 3
          },
          "opacity": 0.2,
          "type": "line",
          "visible": true,
          "x0": 8.195,
          "x1": 8.195,
          "y0": 24.765,
          "y1": 24.765
         },
         {
          "line": {
           "color": "#F08080",
           "width": 3
          },
          "opacity": 0.2,
          "type": "line",
          "visible": true,
          "x0": 8.195,
          "x1": 43.627,
          "y0": 24.765,
          "y1": 19.724
         },
         {
          "line": {
           "color": "#F08080",
           "width": 3
          },
          "opacity": 0.2,
          "type": "line",
          "visible": true,
          "x0": 43.627,
          "x1": 19.942,
          "y0": 19.724,
          "y1": 16.269
         },
         {
          "line": {
           "color": "#F08080",
           "width": 3
          },
          "opacity": 0.2,
          "type": "line",
          "visible": true,
          "x0": 19.942,
          "x1": 43.627,
          "y0": 16.269,
          "y1": 19.724
         },
         {
          "line": {
           "color": "#F08080",
           "width": 3
          },
          "opacity": 0.2,
          "type": "line",
          "visible": true,
          "x0": 43.627,
          "x1": 19.942,
          "y0": 19.724,
          "y1": 16.269
         },
         {
          "line": {
           "color": "#F08080",
           "width": 3
          },
          "opacity": 0.2,
          "type": "line",
          "visible": true,
          "x0": 19.942,
          "x1": 0.062,
          "y0": 16.269,
          "y1": 49.145
         },
         {
          "line": {
           "color": "#F08080",
           "width": 3
          },
          "opacity": 0.2,
          "type": "line",
          "visible": true,
          "x0": 0.062,
          "x1": 8.195,
          "y0": 49.145,
          "y1": 24.765
         },
         {
          "line": {
           "color": "#F08080",
           "width": 3
          },
          "opacity": 0.2,
          "type": "line",
          "visible": true,
          "x0": 8.195,
          "x1": 8.195,
          "y0": 24.765,
          "y1": 24.765
         },
         {
          "line": {
           "color": "#F08080",
           "width": 3
          },
          "opacity": 0.2,
          "type": "line",
          "visible": true,
          "x0": 8.195,
          "x1": 35.573,
          "y0": 24.765,
          "y1": 46.733
         },
         {
          "line": {
           "color": "#F08080",
           "width": 3
          },
          "opacity": 0.2,
          "type": "line",
          "visible": true,
          "x0": 35.573,
          "x1": 19.942,
          "y0": 46.733,
          "y1": 16.269
         },
         {
          "line": {
           "color": "#F08080",
           "width": 3
          },
          "opacity": 0.2,
          "type": "line",
          "visible": true,
          "x0": 19.942,
          "x1": 43.76,
          "y0": 16.269,
          "y1": 46.624
         },
         {
          "line": {
           "color": "#F08080",
           "width": 3
          },
          "opacity": 0.2,
          "type": "line",
          "visible": true,
          "x0": 43.76,
          "x1": 8.195,
          "y0": 46.624,
          "y1": 24.765
         }
        ],
        "template": {
         "data": {
          "bar": [
           {
            "error_x": {
             "color": "#2a3f5f"
            },
            "error_y": {
             "color": "#2a3f5f"
            },
            "marker": {
             "line": {
              "color": "#E5ECF6",
              "width": 0.5
             },
             "pattern": {
              "fillmode": "overlay",
              "size": 10,
              "solidity": 0.2
             }
            },
            "type": "bar"
           }
          ],
          "barpolar": [
           {
            "marker": {
             "line": {
              "color": "#E5ECF6",
              "width": 0.5
             },
             "pattern": {
              "fillmode": "overlay",
              "size": 10,
              "solidity": 0.2
             }
            },
            "type": "barpolar"
           }
          ],
          "carpet": [
           {
            "aaxis": {
             "endlinecolor": "#2a3f5f",
             "gridcolor": "white",
             "linecolor": "white",
             "minorgridcolor": "white",
             "startlinecolor": "#2a3f5f"
            },
            "baxis": {
             "endlinecolor": "#2a3f5f",
             "gridcolor": "white",
             "linecolor": "white",
             "minorgridcolor": "white",
             "startlinecolor": "#2a3f5f"
            },
            "type": "carpet"
           }
          ],
          "choropleth": [
           {
            "colorbar": {
             "outlinewidth": 0,
             "ticks": ""
            },
            "type": "choropleth"
           }
          ],
          "contour": [
           {
            "colorbar": {
             "outlinewidth": 0,
             "ticks": ""
            },
            "colorscale": [
             [
              0,
              "#0d0887"
             ],
             [
              0.1111111111111111,
              "#46039f"
             ],
             [
              0.2222222222222222,
              "#7201a8"
             ],
             [
              0.3333333333333333,
              "#9c179e"
             ],
             [
              0.4444444444444444,
              "#bd3786"
             ],
             [
              0.5555555555555556,
              "#d8576b"
             ],
             [
              0.6666666666666666,
              "#ed7953"
             ],
             [
              0.7777777777777778,
              "#fb9f3a"
             ],
             [
              0.8888888888888888,
              "#fdca26"
             ],
             [
              1,
              "#f0f921"
             ]
            ],
            "type": "contour"
           }
          ],
          "contourcarpet": [
           {
            "colorbar": {
             "outlinewidth": 0,
             "ticks": ""
            },
            "type": "contourcarpet"
           }
          ],
          "heatmap": [
           {
            "colorbar": {
             "outlinewidth": 0,
             "ticks": ""
            },
            "colorscale": [
             [
              0,
              "#0d0887"
             ],
             [
              0.1111111111111111,
              "#46039f"
             ],
             [
              0.2222222222222222,
              "#7201a8"
             ],
             [
              0.3333333333333333,
              "#9c179e"
             ],
             [
              0.4444444444444444,
              "#bd3786"
             ],
             [
              0.5555555555555556,
              "#d8576b"
             ],
             [
              0.6666666666666666,
              "#ed7953"
             ],
             [
              0.7777777777777778,
              "#fb9f3a"
             ],
             [
              0.8888888888888888,
              "#fdca26"
             ],
             [
              1,
              "#f0f921"
             ]
            ],
            "type": "heatmap"
           }
          ],
          "heatmapgl": [
           {
            "colorbar": {
             "outlinewidth": 0,
             "ticks": ""
            },
            "colorscale": [
             [
              0,
              "#0d0887"
             ],
             [
              0.1111111111111111,
              "#46039f"
             ],
             [
              0.2222222222222222,
              "#7201a8"
             ],
             [
              0.3333333333333333,
              "#9c179e"
             ],
             [
              0.4444444444444444,
              "#bd3786"
             ],
             [
              0.5555555555555556,
              "#d8576b"
             ],
             [
              0.6666666666666666,
              "#ed7953"
             ],
             [
              0.7777777777777778,
              "#fb9f3a"
             ],
             [
              0.8888888888888888,
              "#fdca26"
             ],
             [
              1,
              "#f0f921"
             ]
            ],
            "type": "heatmapgl"
           }
          ],
          "histogram": [
           {
            "marker": {
             "pattern": {
              "fillmode": "overlay",
              "size": 10,
              "solidity": 0.2
             }
            },
            "type": "histogram"
           }
          ],
          "histogram2d": [
           {
            "colorbar": {
             "outlinewidth": 0,
             "ticks": ""
            },
            "colorscale": [
             [
              0,
              "#0d0887"
             ],
             [
              0.1111111111111111,
              "#46039f"
             ],
             [
              0.2222222222222222,
              "#7201a8"
             ],
             [
              0.3333333333333333,
              "#9c179e"
             ],
             [
              0.4444444444444444,
              "#bd3786"
             ],
             [
              0.5555555555555556,
              "#d8576b"
             ],
             [
              0.6666666666666666,
              "#ed7953"
             ],
             [
              0.7777777777777778,
              "#fb9f3a"
             ],
             [
              0.8888888888888888,
              "#fdca26"
             ],
             [
              1,
              "#f0f921"
             ]
            ],
            "type": "histogram2d"
           }
          ],
          "histogram2dcontour": [
           {
            "colorbar": {
             "outlinewidth": 0,
             "ticks": ""
            },
            "colorscale": [
             [
              0,
              "#0d0887"
             ],
             [
              0.1111111111111111,
              "#46039f"
             ],
             [
              0.2222222222222222,
              "#7201a8"
             ],
             [
              0.3333333333333333,
              "#9c179e"
             ],
             [
              0.4444444444444444,
              "#bd3786"
             ],
             [
              0.5555555555555556,
              "#d8576b"
             ],
             [
              0.6666666666666666,
              "#ed7953"
             ],
             [
              0.7777777777777778,
              "#fb9f3a"
             ],
             [
              0.8888888888888888,
              "#fdca26"
             ],
             [
              1,
              "#f0f921"
             ]
            ],
            "type": "histogram2dcontour"
           }
          ],
          "mesh3d": [
           {
            "colorbar": {
             "outlinewidth": 0,
             "ticks": ""
            },
            "type": "mesh3d"
           }
          ],
          "parcoords": [
           {
            "line": {
             "colorbar": {
              "outlinewidth": 0,
              "ticks": ""
             }
            },
            "type": "parcoords"
           }
          ],
          "pie": [
           {
            "automargin": true,
            "type": "pie"
           }
          ],
          "scatter": [
           {
            "marker": {
             "colorbar": {
              "outlinewidth": 0,
              "ticks": ""
             }
            },
            "type": "scatter"
           }
          ],
          "scatter3d": [
           {
            "line": {
             "colorbar": {
              "outlinewidth": 0,
              "ticks": ""
             }
            },
            "marker": {
             "colorbar": {
              "outlinewidth": 0,
              "ticks": ""
             }
            },
            "type": "scatter3d"
           }
          ],
          "scattercarpet": [
           {
            "marker": {
             "colorbar": {
              "outlinewidth": 0,
              "ticks": ""
             }
            },
            "type": "scattercarpet"
           }
          ],
          "scattergeo": [
           {
            "marker": {
             "colorbar": {
              "outlinewidth": 0,
              "ticks": ""
             }
            },
            "type": "scattergeo"
           }
          ],
          "scattergl": [
           {
            "marker": {
             "colorbar": {
              "outlinewidth": 0,
              "ticks": ""
             }
            },
            "type": "scattergl"
           }
          ],
          "scattermapbox": [
           {
            "marker": {
             "colorbar": {
              "outlinewidth": 0,
              "ticks": ""
             }
            },
            "type": "scattermapbox"
           }
          ],
          "scatterpolar": [
           {
            "marker": {
             "colorbar": {
              "outlinewidth": 0,
              "ticks": ""
             }
            },
            "type": "scatterpolar"
           }
          ],
          "scatterpolargl": [
           {
            "marker": {
             "colorbar": {
              "outlinewidth": 0,
              "ticks": ""
             }
            },
            "type": "scatterpolargl"
           }
          ],
          "scatterternary": [
           {
            "marker": {
             "colorbar": {
              "outlinewidth": 0,
              "ticks": ""
             }
            },
            "type": "scatterternary"
           }
          ],
          "surface": [
           {
            "colorbar": {
             "outlinewidth": 0,
             "ticks": ""
            },
            "colorscale": [
             [
              0,
              "#0d0887"
             ],
             [
              0.1111111111111111,
              "#46039f"
             ],
             [
              0.2222222222222222,
              "#7201a8"
             ],
             [
              0.3333333333333333,
              "#9c179e"
             ],
             [
              0.4444444444444444,
              "#bd3786"
             ],
             [
              0.5555555555555556,
              "#d8576b"
             ],
             [
              0.6666666666666666,
              "#ed7953"
             ],
             [
              0.7777777777777778,
              "#fb9f3a"
             ],
             [
              0.8888888888888888,
              "#fdca26"
             ],
             [
              1,
              "#f0f921"
             ]
            ],
            "type": "surface"
           }
          ],
          "table": [
           {
            "cells": {
             "fill": {
              "color": "#EBF0F8"
             },
             "line": {
              "color": "white"
             }
            },
            "header": {
             "fill": {
              "color": "#C8D4E3"
             },
             "line": {
              "color": "white"
             }
            },
            "type": "table"
           }
          ]
         },
         "layout": {
          "annotationdefaults": {
           "arrowcolor": "#2a3f5f",
           "arrowhead": 0,
           "arrowwidth": 1
          },
          "autotypenumbers": "strict",
          "coloraxis": {
           "colorbar": {
            "outlinewidth": 0,
            "ticks": ""
           }
          },
          "colorscale": {
           "diverging": [
            [
             0,
             "#8e0152"
            ],
            [
             0.1,
             "#c51b7d"
            ],
            [
             0.2,
             "#de77ae"
            ],
            [
             0.3,
             "#f1b6da"
            ],
            [
             0.4,
             "#fde0ef"
            ],
            [
             0.5,
             "#f7f7f7"
            ],
            [
             0.6,
             "#e6f5d0"
            ],
            [
             0.7,
             "#b8e186"
            ],
            [
             0.8,
             "#7fbc41"
            ],
            [
             0.9,
             "#4d9221"
            ],
            [
             1,
             "#276419"
            ]
           ],
           "sequential": [
            [
             0,
             "#0d0887"
            ],
            [
             0.1111111111111111,
             "#46039f"
            ],
            [
             0.2222222222222222,
             "#7201a8"
            ],
            [
             0.3333333333333333,
             "#9c179e"
            ],
            [
             0.4444444444444444,
             "#bd3786"
            ],
            [
             0.5555555555555556,
             "#d8576b"
            ],
            [
             0.6666666666666666,
             "#ed7953"
            ],
            [
             0.7777777777777778,
             "#fb9f3a"
            ],
            [
             0.8888888888888888,
             "#fdca26"
            ],
            [
             1,
             "#f0f921"
            ]
           ],
           "sequentialminus": [
            [
             0,
             "#0d0887"
            ],
            [
             0.1111111111111111,
             "#46039f"
            ],
            [
             0.2222222222222222,
             "#7201a8"
            ],
            [
             0.3333333333333333,
             "#9c179e"
            ],
            [
             0.4444444444444444,
             "#bd3786"
            ],
            [
             0.5555555555555556,
             "#d8576b"
            ],
            [
             0.6666666666666666,
             "#ed7953"
            ],
            [
             0.7777777777777778,
             "#fb9f3a"
            ],
            [
             0.8888888888888888,
             "#fdca26"
            ],
            [
             1,
             "#f0f921"
            ]
           ]
          },
          "colorway": [
           "#636efa",
           "#EF553B",
           "#00cc96",
           "#ab63fa",
           "#FFA15A",
           "#19d3f3",
           "#FF6692",
           "#B6E880",
           "#FF97FF",
           "#FECB52"
          ],
          "font": {
           "color": "#2a3f5f"
          },
          "geo": {
           "bgcolor": "white",
           "lakecolor": "white",
           "landcolor": "#E5ECF6",
           "showlakes": true,
           "showland": true,
           "subunitcolor": "white"
          },
          "hoverlabel": {
           "align": "left"
          },
          "hovermode": "closest",
          "mapbox": {
           "style": "light"
          },
          "paper_bgcolor": "white",
          "plot_bgcolor": "#E5ECF6",
          "polar": {
           "angularaxis": {
            "gridcolor": "white",
            "linecolor": "white",
            "ticks": ""
           },
           "bgcolor": "#E5ECF6",
           "radialaxis": {
            "gridcolor": "white",
            "linecolor": "white",
            "ticks": ""
           }
          },
          "scene": {
           "xaxis": {
            "backgroundcolor": "#E5ECF6",
            "gridcolor": "white",
            "gridwidth": 2,
            "linecolor": "white",
            "showbackground": true,
            "ticks": "",
            "zerolinecolor": "white"
           },
           "yaxis": {
            "backgroundcolor": "#E5ECF6",
            "gridcolor": "white",
            "gridwidth": 2,
            "linecolor": "white",
            "showbackground": true,
            "ticks": "",
            "zerolinecolor": "white"
           },
           "zaxis": {
            "backgroundcolor": "#E5ECF6",
            "gridcolor": "white",
            "gridwidth": 2,
            "linecolor": "white",
            "showbackground": true,
            "ticks": "",
            "zerolinecolor": "white"
           }
          },
          "shapedefaults": {
           "line": {
            "color": "#2a3f5f"
           }
          },
          "ternary": {
           "aaxis": {
            "gridcolor": "white",
            "linecolor": "white",
            "ticks": ""
           },
           "baxis": {
            "gridcolor": "white",
            "linecolor": "white",
            "ticks": ""
           },
           "bgcolor": "#E5ECF6",
           "caxis": {
            "gridcolor": "white",
            "linecolor": "white",
            "ticks": ""
           }
          },
          "title": {
           "x": 0.05
          },
          "xaxis": {
           "automargin": true,
           "gridcolor": "white",
           "linecolor": "white",
           "ticks": "",
           "title": {
            "standoff": 15
           },
           "zerolinecolor": "white",
           "zerolinewidth": 2
          },
          "yaxis": {
           "automargin": true,
           "gridcolor": "white",
           "linecolor": "white",
           "ticks": "",
           "title": {
            "standoff": 15
           },
           "zerolinecolor": "white",
           "zerolinewidth": 2
          }
         }
        },
        "xaxis": {
         "anchor": "y",
         "domain": [
          0,
          1
         ],
         "title": {
          "text": "x"
         }
        },
        "yaxis": {
         "anchor": "x",
         "domain": [
          0,
          1
         ],
         "title": {
          "text": "y"
         }
        }
       }
      },
      "text/html": [
       "<div>                            <div id=\"01307595-2fae-4c70-b81c-09e2746352b7\" class=\"plotly-graph-div\" style=\"height:525px; width:100%;\"></div>            <script type=\"text/javascript\">                require([\"plotly\"], function(Plotly) {                    window.PLOTLYENV=window.PLOTLYENV || {};                                    if (document.getElementById(\"01307595-2fae-4c70-b81c-09e2746352b7\")) {                    Plotly.newPlot(                        \"01307595-2fae-4c70-b81c-09e2746352b7\",                        [{\"customdata\":[[0.0,\"Depot\",0],[0.0,\"Depot\",1],[0.0,\"Depot\",14],[0.0,\"Depot\",15]],\"hovertemplate\":\"type=%{customdata[1]}<br>index=%{customdata[2]}<br>d=%{customdata[0]}<extra></extra>\",\"legendgroup\":\"Depot\",\"marker\":{\"color\":\"#636efa\",\"symbol\":\"square\"},\"mode\":\"markers+text\",\"name\":\"Depot\",\"orientation\":\"v\",\"showlegend\":true,\"text\":[0.0,1.0,14.0,15.0],\"x\":[19.942,8.195,19.942,8.195],\"xaxis\":\"x\",\"y\":[16.269,24.765,16.269,24.765],\"yaxis\":\"y\",\"type\":\"scatter\",\"textposition\":\"top center\"},{\"customdata\":[[140.0,\"Pickup\",2],[100.0,\"Pickup\",3]],\"hovertemplate\":\"type=%{customdata[1]}<br>index=%{customdata[2]}<br>d=%{customdata[0]}<extra></extra>\",\"legendgroup\":\"Pickup\",\"marker\":{\"color\":\"#EF553B\",\"symbol\":\"star\"},\"mode\":\"markers+text\",\"name\":\"Pickup\",\"orientation\":\"v\",\"showlegend\":true,\"text\":[2.0,3.0],\"x\":[19.942,8.195],\"xaxis\":\"x\",\"y\":[16.269,24.765],\"yaxis\":\"y\",\"type\":\"scatter\",\"textposition\":\"top center\"},{\"customdata\":[[-35.0,\"Delivery\",4],[-45.0,\"Delivery\",5],[-75.0,\"Delivery\",6],[-25.0,\"Delivery\",7],[-60.0,\"Delivery\",8],[-25.0,\"Delivery\",9],[-50.0,\"Delivery\",10],[-40.0,\"Delivery\",11],[-55.0,\"Delivery\",12],[-60.0,\"Delivery\",13]],\"hovertemplate\":\"type=%{customdata[1]}<br>index=%{customdata[2]}<br>d=%{customdata[0]}<extra></extra>\",\"legendgroup\":\"Delivery\",\"marker\":{\"color\":\"#00cc96\",\"symbol\":\"cross\"},\"mode\":\"markers+text\",\"name\":\"Delivery\",\"orientation\":\"v\",\"showlegend\":true,\"text\":[4.0,5.0,6.0,7.0,8.0,9.0,10.0,11.0,12.0,13.0],\"x\":[35.573,36.158,43.76,13.387,21.442,4.515,14.379,17.381,43.627,0.062],\"xaxis\":\"x\",\"y\":[46.733,11.897,46.624,36.048,34.131,24.464,35.446,24.472,19.724,49.145],\"yaxis\":\"y\",\"type\":\"scatter\",\"textposition\":\"top center\"}],                        {\"template\":{\"data\":{\"bar\":[{\"error_x\":{\"color\":\"#2a3f5f\"},\"error_y\":{\"color\":\"#2a3f5f\"},\"marker\":{\"line\":{\"color\":\"#E5ECF6\",\"width\":0.5},\"pattern\":{\"fillmode\":\"overlay\",\"size\":10,\"solidity\":0.2}},\"type\":\"bar\"}],\"barpolar\":[{\"marker\":{\"line\":{\"color\":\"#E5ECF6\",\"width\":0.5},\"pattern\":{\"fillmode\":\"overlay\",\"size\":10,\"solidity\":0.2}},\"type\":\"barpolar\"}],\"carpet\":[{\"aaxis\":{\"endlinecolor\":\"#2a3f5f\",\"gridcolor\":\"white\",\"linecolor\":\"white\",\"minorgridcolor\":\"white\",\"startlinecolor\":\"#2a3f5f\"},\"baxis\":{\"endlinecolor\":\"#2a3f5f\",\"gridcolor\":\"white\",\"linecolor\":\"white\",\"minorgridcolor\":\"white\",\"startlinecolor\":\"#2a3f5f\"},\"type\":\"carpet\"}],\"choropleth\":[{\"colorbar\":{\"outlinewidth\":0,\"ticks\":\"\"},\"type\":\"choropleth\"}],\"contour\":[{\"colorbar\":{\"outlinewidth\":0,\"ticks\":\"\"},\"colorscale\":[[0.0,\"#0d0887\"],[0.1111111111111111,\"#46039f\"],[0.2222222222222222,\"#7201a8\"],[0.3333333333333333,\"#9c179e\"],[0.4444444444444444,\"#bd3786\"],[0.5555555555555556,\"#d8576b\"],[0.6666666666666666,\"#ed7953\"],[0.7777777777777778,\"#fb9f3a\"],[0.8888888888888888,\"#fdca26\"],[1.0,\"#f0f921\"]],\"type\":\"contour\"}],\"contourcarpet\":[{\"colorbar\":{\"outlinewidth\":0,\"ticks\":\"\"},\"type\":\"contourcarpet\"}],\"heatmap\":[{\"colorbar\":{\"outlinewidth\":0,\"ticks\":\"\"},\"colorscale\":[[0.0,\"#0d0887\"],[0.1111111111111111,\"#46039f\"],[0.2222222222222222,\"#7201a8\"],[0.3333333333333333,\"#9c179e\"],[0.4444444444444444,\"#bd3786\"],[0.5555555555555556,\"#d8576b\"],[0.6666666666666666,\"#ed7953\"],[0.7777777777777778,\"#fb9f3a\"],[0.8888888888888888,\"#fdca26\"],[1.0,\"#f0f921\"]],\"type\":\"heatmap\"}],\"heatmapgl\":[{\"colorbar\":{\"outlinewidth\":0,\"ticks\":\"\"},\"colorscale\":[[0.0,\"#0d0887\"],[0.1111111111111111,\"#46039f\"],[0.2222222222222222,\"#7201a8\"],[0.3333333333333333,\"#9c179e\"],[0.4444444444444444,\"#bd3786\"],[0.5555555555555556,\"#d8576b\"],[0.6666666666666666,\"#ed7953\"],[0.7777777777777778,\"#fb9f3a\"],[0.8888888888888888,\"#fdca26\"],[1.0,\"#f0f921\"]],\"type\":\"heatmapgl\"}],\"histogram\":[{\"marker\":{\"pattern\":{\"fillmode\":\"overlay\",\"size\":10,\"solidity\":0.2}},\"type\":\"histogram\"}],\"histogram2d\":[{\"colorbar\":{\"outlinewidth\":0,\"ticks\":\"\"},\"colorscale\":[[0.0,\"#0d0887\"],[0.1111111111111111,\"#46039f\"],[0.2222222222222222,\"#7201a8\"],[0.3333333333333333,\"#9c179e\"],[0.4444444444444444,\"#bd3786\"],[0.5555555555555556,\"#d8576b\"],[0.6666666666666666,\"#ed7953\"],[0.7777777777777778,\"#fb9f3a\"],[0.8888888888888888,\"#fdca26\"],[1.0,\"#f0f921\"]],\"type\":\"histogram2d\"}],\"histogram2dcontour\":[{\"colorbar\":{\"outlinewidth\":0,\"ticks\":\"\"},\"colorscale\":[[0.0,\"#0d0887\"],[0.1111111111111111,\"#46039f\"],[0.2222222222222222,\"#7201a8\"],[0.3333333333333333,\"#9c179e\"],[0.4444444444444444,\"#bd3786\"],[0.5555555555555556,\"#d8576b\"],[0.6666666666666666,\"#ed7953\"],[0.7777777777777778,\"#fb9f3a\"],[0.8888888888888888,\"#fdca26\"],[1.0,\"#f0f921\"]],\"type\":\"histogram2dcontour\"}],\"mesh3d\":[{\"colorbar\":{\"outlinewidth\":0,\"ticks\":\"\"},\"type\":\"mesh3d\"}],\"parcoords\":[{\"line\":{\"colorbar\":{\"outlinewidth\":0,\"ticks\":\"\"}},\"type\":\"parcoords\"}],\"pie\":[{\"automargin\":true,\"type\":\"pie\"}],\"scatter\":[{\"marker\":{\"colorbar\":{\"outlinewidth\":0,\"ticks\":\"\"}},\"type\":\"scatter\"}],\"scatter3d\":[{\"line\":{\"colorbar\":{\"outlinewidth\":0,\"ticks\":\"\"}},\"marker\":{\"colorbar\":{\"outlinewidth\":0,\"ticks\":\"\"}},\"type\":\"scatter3d\"}],\"scattercarpet\":[{\"marker\":{\"colorbar\":{\"outlinewidth\":0,\"ticks\":\"\"}},\"type\":\"scattercarpet\"}],\"scattergeo\":[{\"marker\":{\"colorbar\":{\"outlinewidth\":0,\"ticks\":\"\"}},\"type\":\"scattergeo\"}],\"scattergl\":[{\"marker\":{\"colorbar\":{\"outlinewidth\":0,\"ticks\":\"\"}},\"type\":\"scattergl\"}],\"scattermapbox\":[{\"marker\":{\"colorbar\":{\"outlinewidth\":0,\"ticks\":\"\"}},\"type\":\"scattermapbox\"}],\"scatterpolar\":[{\"marker\":{\"colorbar\":{\"outlinewidth\":0,\"ticks\":\"\"}},\"type\":\"scatterpolar\"}],\"scatterpolargl\":[{\"marker\":{\"colorbar\":{\"outlinewidth\":0,\"ticks\":\"\"}},\"type\":\"scatterpolargl\"}],\"scatterternary\":[{\"marker\":{\"colorbar\":{\"outlinewidth\":0,\"ticks\":\"\"}},\"type\":\"scatterternary\"}],\"surface\":[{\"colorbar\":{\"outlinewidth\":0,\"ticks\":\"\"},\"colorscale\":[[0.0,\"#0d0887\"],[0.1111111111111111,\"#46039f\"],[0.2222222222222222,\"#7201a8\"],[0.3333333333333333,\"#9c179e\"],[0.4444444444444444,\"#bd3786\"],[0.5555555555555556,\"#d8576b\"],[0.6666666666666666,\"#ed7953\"],[0.7777777777777778,\"#fb9f3a\"],[0.8888888888888888,\"#fdca26\"],[1.0,\"#f0f921\"]],\"type\":\"surface\"}],\"table\":[{\"cells\":{\"fill\":{\"color\":\"#EBF0F8\"},\"line\":{\"color\":\"white\"}},\"header\":{\"fill\":{\"color\":\"#C8D4E3\"},\"line\":{\"color\":\"white\"}},\"type\":\"table\"}]},\"layout\":{\"annotationdefaults\":{\"arrowcolor\":\"#2a3f5f\",\"arrowhead\":0,\"arrowwidth\":1},\"autotypenumbers\":\"strict\",\"coloraxis\":{\"colorbar\":{\"outlinewidth\":0,\"ticks\":\"\"}},\"colorscale\":{\"diverging\":[[0,\"#8e0152\"],[0.1,\"#c51b7d\"],[0.2,\"#de77ae\"],[0.3,\"#f1b6da\"],[0.4,\"#fde0ef\"],[0.5,\"#f7f7f7\"],[0.6,\"#e6f5d0\"],[0.7,\"#b8e186\"],[0.8,\"#7fbc41\"],[0.9,\"#4d9221\"],[1,\"#276419\"]],\"sequential\":[[0.0,\"#0d0887\"],[0.1111111111111111,\"#46039f\"],[0.2222222222222222,\"#7201a8\"],[0.3333333333333333,\"#9c179e\"],[0.4444444444444444,\"#bd3786\"],[0.5555555555555556,\"#d8576b\"],[0.6666666666666666,\"#ed7953\"],[0.7777777777777778,\"#fb9f3a\"],[0.8888888888888888,\"#fdca26\"],[1.0,\"#f0f921\"]],\"sequentialminus\":[[0.0,\"#0d0887\"],[0.1111111111111111,\"#46039f\"],[0.2222222222222222,\"#7201a8\"],[0.3333333333333333,\"#9c179e\"],[0.4444444444444444,\"#bd3786\"],[0.5555555555555556,\"#d8576b\"],[0.6666666666666666,\"#ed7953\"],[0.7777777777777778,\"#fb9f3a\"],[0.8888888888888888,\"#fdca26\"],[1.0,\"#f0f921\"]]},\"colorway\":[\"#636efa\",\"#EF553B\",\"#00cc96\",\"#ab63fa\",\"#FFA15A\",\"#19d3f3\",\"#FF6692\",\"#B6E880\",\"#FF97FF\",\"#FECB52\"],\"font\":{\"color\":\"#2a3f5f\"},\"geo\":{\"bgcolor\":\"white\",\"lakecolor\":\"white\",\"landcolor\":\"#E5ECF6\",\"showlakes\":true,\"showland\":true,\"subunitcolor\":\"white\"},\"hoverlabel\":{\"align\":\"left\"},\"hovermode\":\"closest\",\"mapbox\":{\"style\":\"light\"},\"paper_bgcolor\":\"white\",\"plot_bgcolor\":\"#E5ECF6\",\"polar\":{\"angularaxis\":{\"gridcolor\":\"white\",\"linecolor\":\"white\",\"ticks\":\"\"},\"bgcolor\":\"#E5ECF6\",\"radialaxis\":{\"gridcolor\":\"white\",\"linecolor\":\"white\",\"ticks\":\"\"}},\"scene\":{\"xaxis\":{\"backgroundcolor\":\"#E5ECF6\",\"gridcolor\":\"white\",\"gridwidth\":2,\"linecolor\":\"white\",\"showbackground\":true,\"ticks\":\"\",\"zerolinecolor\":\"white\"},\"yaxis\":{\"backgroundcolor\":\"#E5ECF6\",\"gridcolor\":\"white\",\"gridwidth\":2,\"linecolor\":\"white\",\"showbackground\":true,\"ticks\":\"\",\"zerolinecolor\":\"white\"},\"zaxis\":{\"backgroundcolor\":\"#E5ECF6\",\"gridcolor\":\"white\",\"gridwidth\":2,\"linecolor\":\"white\",\"showbackground\":true,\"ticks\":\"\",\"zerolinecolor\":\"white\"}},\"shapedefaults\":{\"line\":{\"color\":\"#2a3f5f\"}},\"ternary\":{\"aaxis\":{\"gridcolor\":\"white\",\"linecolor\":\"white\",\"ticks\":\"\"},\"baxis\":{\"gridcolor\":\"white\",\"linecolor\":\"white\",\"ticks\":\"\"},\"bgcolor\":\"#E5ECF6\",\"caxis\":{\"gridcolor\":\"white\",\"linecolor\":\"white\",\"ticks\":\"\"}},\"title\":{\"x\":0.05},\"xaxis\":{\"automargin\":true,\"gridcolor\":\"white\",\"linecolor\":\"white\",\"ticks\":\"\",\"title\":{\"standoff\":15},\"zerolinecolor\":\"white\",\"zerolinewidth\":2},\"yaxis\":{\"automargin\":true,\"gridcolor\":\"white\",\"linecolor\":\"white\",\"ticks\":\"\",\"title\":{\"standoff\":15},\"zerolinecolor\":\"white\",\"zerolinewidth\":2}}},\"xaxis\":{\"anchor\":\"y\",\"domain\":[0.0,1.0],\"title\":{\"text\":\"x\"}},\"yaxis\":{\"anchor\":\"x\",\"domain\":[0.0,1.0],\"title\":{\"text\":\"y\"}},\"legend\":{\"title\":{\"text\":\"type\"},\"tracegroupgap\":0},\"margin\":{\"t\":60},\"font\":{\"size\":9},\"shapes\":[{\"line\":{\"color\":\"#5F9EA0\",\"width\":3},\"opacity\":0.2,\"type\":\"line\",\"visible\":true,\"x0\":19.942,\"x1\":8.195,\"y0\":16.269,\"y1\":24.765},{\"line\":{\"color\":\"#5F9EA0\",\"width\":3},\"opacity\":0.2,\"type\":\"line\",\"visible\":true,\"x0\":8.195,\"x1\":43.627,\"y0\":24.765,\"y1\":19.724},{\"line\":{\"color\":\"#5F9EA0\",\"width\":3},\"opacity\":0.2,\"type\":\"line\",\"visible\":true,\"x0\":43.627,\"x1\":8.195,\"y0\":19.724,\"y1\":24.765},{\"line\":{\"color\":\"#5F9EA0\",\"width\":3},\"opacity\":0.2,\"type\":\"line\",\"visible\":true,\"x0\":8.195,\"x1\":0.062,\"y0\":24.765,\"y1\":49.145},{\"line\":{\"color\":\"#5F9EA0\",\"width\":3},\"opacity\":0.2,\"type\":\"line\",\"visible\":true,\"x0\":0.062,\"x1\":8.195,\"y0\":49.145,\"y1\":24.765},{\"line\":{\"color\":\"#5F9EA0\",\"width\":3},\"opacity\":0.2,\"type\":\"line\",\"visible\":true,\"x0\":8.195,\"x1\":0.062,\"y0\":24.765,\"y1\":49.145},{\"line\":{\"color\":\"#5F9EA0\",\"width\":3},\"opacity\":0.2,\"type\":\"line\",\"visible\":true,\"x0\":0.062,\"x1\":8.195,\"y0\":49.145,\"y1\":24.765},{\"line\":{\"color\":\"#5F9EA0\",\"width\":3},\"opacity\":0.2,\"type\":\"line\",\"visible\":true,\"x0\":8.195,\"x1\":35.573,\"y0\":24.765,\"y1\":46.733},{\"line\":{\"color\":\"#5F9EA0\",\"width\":3},\"opacity\":0.2,\"type\":\"line\",\"visible\":true,\"x0\":35.573,\"x1\":8.195,\"y0\":46.733,\"y1\":24.765},{\"line\":{\"color\":\"#5F9EA0\",\"width\":3},\"opacity\":0.2,\"type\":\"line\",\"visible\":true,\"x0\":8.195,\"x1\":8.195,\"y0\":24.765,\"y1\":24.765},{\"line\":{\"color\":\"#5F9EA0\",\"width\":3},\"opacity\":0.2,\"type\":\"line\",\"visible\":true,\"x0\":8.195,\"x1\":43.76,\"y0\":24.765,\"y1\":46.624},{\"line\":{\"color\":\"#5F9EA0\",\"width\":3},\"opacity\":0.2,\"type\":\"line\",\"visible\":true,\"x0\":43.76,\"x1\":19.942,\"y0\":46.624,\"y1\":16.269},{\"line\":{\"color\":\"#F08080\",\"width\":3},\"opacity\":0.2,\"type\":\"line\",\"visible\":true,\"x0\":8.195,\"x1\":8.195,\"y0\":24.765,\"y1\":24.765},{\"line\":{\"color\":\"#F08080\",\"width\":3},\"opacity\":0.2,\"type\":\"line\",\"visible\":true,\"x0\":8.195,\"x1\":43.627,\"y0\":24.765,\"y1\":19.724},{\"line\":{\"color\":\"#F08080\",\"width\":3},\"opacity\":0.2,\"type\":\"line\",\"visible\":true,\"x0\":43.627,\"x1\":19.942,\"y0\":19.724,\"y1\":16.269},{\"line\":{\"color\":\"#F08080\",\"width\":3},\"opacity\":0.2,\"type\":\"line\",\"visible\":true,\"x0\":19.942,\"x1\":43.627,\"y0\":16.269,\"y1\":19.724},{\"line\":{\"color\":\"#F08080\",\"width\":3},\"opacity\":0.2,\"type\":\"line\",\"visible\":true,\"x0\":43.627,\"x1\":19.942,\"y0\":19.724,\"y1\":16.269},{\"line\":{\"color\":\"#F08080\",\"width\":3},\"opacity\":0.2,\"type\":\"line\",\"visible\":true,\"x0\":19.942,\"x1\":0.062,\"y0\":16.269,\"y1\":49.145},{\"line\":{\"color\":\"#F08080\",\"width\":3},\"opacity\":0.2,\"type\":\"line\",\"visible\":true,\"x0\":0.062,\"x1\":8.195,\"y0\":49.145,\"y1\":24.765},{\"line\":{\"color\":\"#F08080\",\"width\":3},\"opacity\":0.2,\"type\":\"line\",\"visible\":true,\"x0\":8.195,\"x1\":8.195,\"y0\":24.765,\"y1\":24.765},{\"line\":{\"color\":\"#F08080\",\"width\":3},\"opacity\":0.2,\"type\":\"line\",\"visible\":true,\"x0\":8.195,\"x1\":35.573,\"y0\":24.765,\"y1\":46.733},{\"line\":{\"color\":\"#F08080\",\"width\":3},\"opacity\":0.2,\"type\":\"line\",\"visible\":true,\"x0\":35.573,\"x1\":19.942,\"y0\":46.733,\"y1\":16.269},{\"line\":{\"color\":\"#F08080\",\"width\":3},\"opacity\":0.2,\"type\":\"line\",\"visible\":true,\"x0\":19.942,\"x1\":43.76,\"y0\":16.269,\"y1\":46.624},{\"line\":{\"color\":\"#F08080\",\"width\":3},\"opacity\":0.2,\"type\":\"line\",\"visible\":true,\"x0\":43.76,\"x1\":8.195,\"y0\":46.624,\"y1\":24.765}]},                        {\"responsive\": true}                    ).then(function(){\n",
       "                            \n",
       "var gd = document.getElementById('01307595-2fae-4c70-b81c-09e2746352b7');\n",
       "var x = new MutationObserver(function (mutations, observer) {{\n",
       "        var display = window.getComputedStyle(gd).display;\n",
       "        if (!display || display === 'none') {{\n",
       "            console.log([gd, 'removed!']);\n",
       "            Plotly.purge(gd);\n",
       "            observer.disconnect();\n",
       "        }}\n",
       "}});\n",
       "\n",
       "// Listen for the removal of the full notebook cells\n",
       "var notebookContainer = gd.closest('#notebook-container');\n",
       "if (notebookContainer) {{\n",
       "    x.observe(notebookContainer, {childList: true});\n",
       "}}\n",
       "\n",
       "// Listen for the clearing of the current output cell\n",
       "var outputEl = gd.closest('.output');\n",
       "if (outputEl) {{\n",
       "    x.observe(outputEl, {childList: true});\n",
       "}}\n",
       "\n",
       "                        })                };                });            </script>        </div>"
      ]
     },
     "metadata": {},
     "output_type": "display_data"
    }
   ],
   "source": [
    "import plotly.express as px\n",
    "import plotly.graph_objects as go\n",
    "import matplotlib, random\n",
    "\n",
    "random.seed(123)\n",
    "colors = dict(matplotlib.colors.cnames.items())\n",
    "\n",
    "hex_colors = tuple(colors.values())\n",
    "\n",
    "\n",
    "fig = px.scatter(df_instance,x=\"x\", y=\"y\", symbol='type', symbol_sequence=[\"square\",\"star\",\"cross\", \"star\", \"x\"], color='type', text=df_instance.index, hover_data={\"x\":False, \"y\":False,  \"d\":True, \"type\":True, \"index\":df_instance.index})\n",
    "\n",
    "fig.update_traces(textposition='top center')\n",
    "\n",
    "fig.update_layout(font=dict(size=9))\n",
    "\n",
    "# Create scatter trace of text labels\n",
    "\n",
    "for route in routes:\n",
    "    \n",
    "    color = random.choice(hex_colors)\n",
    "    \n",
    "    for index_node in range(1, len(route)):\n",
    "        \n",
    "        fig.add_shape(type=\"line\",\n",
    "            x0=df_instance.iloc[route[index_node-1]].x, \n",
    "            y0=df_instance.iloc[route[index_node-1]].y,\n",
    "            x1=df_instance.iloc[route[index_node]].x,\n",
    "            y1=df_instance.iloc[route[index_node]].y,\n",
    "\n",
    "            line=dict(color=color,width=3), \n",
    "            opacity = 0.2,\n",
    "            visible = True\n",
    "        )\n",
    "        \n",
    "\n",
    "\n",
    "fig.show()\n"
   ]
  },
  {
   "cell_type": "code",
   "execution_count": 2457,
   "id": "c478fbcf",
   "metadata": {},
   "outputs": [
    {
     "data": {
      "text/plain": [
       "23.403275641025637"
      ]
     },
     "execution_count": 2457,
     "metadata": {},
     "output_type": "execute_result"
    }
   ],
   "source": [
    "import numpy as np\n",
    "\n",
    "np.mean([np.mean([el for el in c[i] if el > 0]) for i in range(len(c))])"
   ]
  },
  {
   "cell_type": "code",
   "execution_count": 2458,
   "id": "6cce4f90",
   "metadata": {},
   "outputs": [
    {
     "data": {
      "text/plain": [
       "17.091624528782"
      ]
     },
     "execution_count": 2458,
     "metadata": {},
     "output_type": "execute_result"
    }
   ],
   "source": [
    "w_b[0]/np.mean([np.mean([el for el in c[i] if el > 0]) for i in range(len(c))])"
   ]
  },
  {
   "cell_type": "code",
   "execution_count": 2459,
   "id": "441b0ca2",
   "metadata": {},
   "outputs": [
    {
     "data": {
      "text/plain": [
       "11.833333333333334"
      ]
     },
     "execution_count": 2459,
     "metadata": {},
     "output_type": "execute_result"
    }
   ],
   "source": [
    "np.mean([demanda/10 for demanda in abs(d) if demanda > 0])*2"
   ]
  },
  {
   "cell_type": "code",
   "execution_count": 2460,
   "id": "f1d754fb",
   "metadata": {},
   "outputs": [
    {
     "data": {
      "text/plain": [
       "14.0"
      ]
     },
     "execution_count": 2460,
     "metadata": {},
     "output_type": "execute_result"
    }
   ],
   "source": [
    "np.sum([demanda/10 for demanda in abs(d) if demanda > 100])"
   ]
  }
 ],
 "metadata": {
  "kernelspec": {
   "display_name": "Python 3 (ipykernel)",
   "language": "python",
   "name": "python3"
  },
  "language_info": {
   "codemirror_mode": {
    "name": "ipython",
    "version": 3
   },
   "file_extension": ".py",
   "mimetype": "text/x-python",
   "name": "python",
   "nbconvert_exporter": "python",
   "pygments_lexer": "ipython3",
   "version": "3.9.7"
  }
 },
 "nbformat": 4,
 "nbformat_minor": 5
}
