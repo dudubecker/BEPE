{
 "cells": [
  {
   "cell_type": "markdown",
   "id": "b73b61fc",
   "metadata": {},
   "source": [
    "#### Reading instance and defining model"
   ]
  },
  {
   "cell_type": "code",
   "execution_count": 82,
   "id": "83eebd47",
   "metadata": {
    "scrolled": true
   },
   "outputs": [
    {
     "name": "stdout",
     "output_type": "stream",
     "text": [
      "WARNING: Constant objective detected, replacing with a placeholder to prevent\n",
      "    solver failure.\n"
     ]
    }
   ],
   "source": [
    "# Reading instance\n",
    "\n",
    "from instanceReaderHPDPTW import Instance\n",
    "\n",
    "instanceName = \"PDPTW/AA30\"\n",
    "\n",
    "number_of_depots = 2\n",
    "\n",
    "fleet_capacities = [15, 16]\n",
    "\n",
    "vehicle_locations = [[0], [1]]\n",
    "\n",
    "inst = Instance(instanceName,\n",
    "                fleet_capacities,\n",
    "                True,\n",
    "                number_of_depots,\n",
    "                vehicle_locations)"
   ]
  },
  {
   "cell_type": "code",
   "execution_count": 83,
   "id": "7531aea5",
   "metadata": {
    "scrolled": false
   },
   "outputs": [
    {
     "data": {
      "text/html": [
       "<div>\n",
       "<style scoped>\n",
       "    .dataframe tbody tr th:only-of-type {\n",
       "        vertical-align: middle;\n",
       "    }\n",
       "\n",
       "    .dataframe tbody tr th {\n",
       "        vertical-align: top;\n",
       "    }\n",
       "\n",
       "    .dataframe thead th {\n",
       "        text-align: right;\n",
       "    }\n",
       "</style>\n",
       "<table border=\"1\" class=\"dataframe\">\n",
       "  <thead>\n",
       "    <tr style=\"text-align: right;\">\n",
       "      <th></th>\n",
       "      <th>type</th>\n",
       "      <th>x</th>\n",
       "      <th>y</th>\n",
       "      <th>d</th>\n",
       "      <th>w_a</th>\n",
       "      <th>w_b</th>\n",
       "    </tr>\n",
       "  </thead>\n",
       "  <tbody>\n",
       "    <tr>\n",
       "      <th>0</th>\n",
       "      <td>Depot</td>\n",
       "      <td>19.942</td>\n",
       "      <td>16.269</td>\n",
       "      <td>0</td>\n",
       "      <td>0</td>\n",
       "      <td>1000</td>\n",
       "    </tr>\n",
       "    <tr>\n",
       "      <th>1</th>\n",
       "      <td>Depot</td>\n",
       "      <td>26.591</td>\n",
       "      <td>36.243</td>\n",
       "      <td>0</td>\n",
       "      <td>0</td>\n",
       "      <td>1000</td>\n",
       "    </tr>\n",
       "    <tr>\n",
       "      <th>2</th>\n",
       "      <td>Artificial pickup</td>\n",
       "      <td>19.942</td>\n",
       "      <td>16.269</td>\n",
       "      <td>1</td>\n",
       "      <td>0</td>\n",
       "      <td>1000</td>\n",
       "    </tr>\n",
       "    <tr>\n",
       "      <th>3</th>\n",
       "      <td>Artificial pickup</td>\n",
       "      <td>26.591</td>\n",
       "      <td>36.243</td>\n",
       "      <td>0</td>\n",
       "      <td>0</td>\n",
       "      <td>1000</td>\n",
       "    </tr>\n",
       "    <tr>\n",
       "      <th>4</th>\n",
       "      <td>Pickup</td>\n",
       "      <td>19.942</td>\n",
       "      <td>16.269</td>\n",
       "      <td>7.0</td>\n",
       "      <td>0</td>\n",
       "      <td>1000</td>\n",
       "    </tr>\n",
       "    <tr>\n",
       "      <th>5</th>\n",
       "      <td>Pickup</td>\n",
       "      <td>19.942</td>\n",
       "      <td>16.269</td>\n",
       "      <td>9.0</td>\n",
       "      <td>0</td>\n",
       "      <td>1000</td>\n",
       "    </tr>\n",
       "    <tr>\n",
       "      <th>6</th>\n",
       "      <td>Pickup</td>\n",
       "      <td>19.942</td>\n",
       "      <td>16.269</td>\n",
       "      <td>15.0</td>\n",
       "      <td>0</td>\n",
       "      <td>1000</td>\n",
       "    </tr>\n",
       "    <tr>\n",
       "      <th>7</th>\n",
       "      <td>Pickup</td>\n",
       "      <td>19.942</td>\n",
       "      <td>16.269</td>\n",
       "      <td>5.0</td>\n",
       "      <td>0</td>\n",
       "      <td>1000</td>\n",
       "    </tr>\n",
       "    <tr>\n",
       "      <th>8</th>\n",
       "      <td>Pickup</td>\n",
       "      <td>19.942</td>\n",
       "      <td>16.269</td>\n",
       "      <td>12.0</td>\n",
       "      <td>0</td>\n",
       "      <td>1000</td>\n",
       "    </tr>\n",
       "    <tr>\n",
       "      <th>9</th>\n",
       "      <td>Pickup</td>\n",
       "      <td>19.942</td>\n",
       "      <td>16.269</td>\n",
       "      <td>5.0</td>\n",
       "      <td>0</td>\n",
       "      <td>1000</td>\n",
       "    </tr>\n",
       "    <tr>\n",
       "      <th>10</th>\n",
       "      <td>Pickup</td>\n",
       "      <td>19.942</td>\n",
       "      <td>16.269</td>\n",
       "      <td>10.0</td>\n",
       "      <td>0</td>\n",
       "      <td>1000</td>\n",
       "    </tr>\n",
       "    <tr>\n",
       "      <th>11</th>\n",
       "      <td>Pickup</td>\n",
       "      <td>19.942</td>\n",
       "      <td>16.269</td>\n",
       "      <td>8.0</td>\n",
       "      <td>0</td>\n",
       "      <td>1000</td>\n",
       "    </tr>\n",
       "    <tr>\n",
       "      <th>12</th>\n",
       "      <td>Pickup</td>\n",
       "      <td>19.942</td>\n",
       "      <td>16.269</td>\n",
       "      <td>11.0</td>\n",
       "      <td>0</td>\n",
       "      <td>1000</td>\n",
       "    </tr>\n",
       "    <tr>\n",
       "      <th>13</th>\n",
       "      <td>Pickup</td>\n",
       "      <td>19.942</td>\n",
       "      <td>16.269</td>\n",
       "      <td>12.0</td>\n",
       "      <td>0</td>\n",
       "      <td>1000</td>\n",
       "    </tr>\n",
       "    <tr>\n",
       "      <th>14</th>\n",
       "      <td>Pickup</td>\n",
       "      <td>19.942</td>\n",
       "      <td>16.269</td>\n",
       "      <td>8.0</td>\n",
       "      <td>0</td>\n",
       "      <td>1000</td>\n",
       "    </tr>\n",
       "    <tr>\n",
       "      <th>15</th>\n",
       "      <td>Pickup</td>\n",
       "      <td>19.942</td>\n",
       "      <td>16.269</td>\n",
       "      <td>14.0</td>\n",
       "      <td>0</td>\n",
       "      <td>1000</td>\n",
       "    </tr>\n",
       "    <tr>\n",
       "      <th>16</th>\n",
       "      <td>Pickup</td>\n",
       "      <td>19.942</td>\n",
       "      <td>16.269</td>\n",
       "      <td>15.0</td>\n",
       "      <td>0</td>\n",
       "      <td>1000</td>\n",
       "    </tr>\n",
       "    <tr>\n",
       "      <th>17</th>\n",
       "      <td>Pickup</td>\n",
       "      <td>19.942</td>\n",
       "      <td>16.269</td>\n",
       "      <td>8.0</td>\n",
       "      <td>0</td>\n",
       "      <td>1000</td>\n",
       "    </tr>\n",
       "    <tr>\n",
       "      <th>18</th>\n",
       "      <td>Pickup</td>\n",
       "      <td>19.942</td>\n",
       "      <td>16.269</td>\n",
       "      <td>11.0</td>\n",
       "      <td>0</td>\n",
       "      <td>1000</td>\n",
       "    </tr>\n",
       "    <tr>\n",
       "      <th>19</th>\n",
       "      <td>Pickup</td>\n",
       "      <td>26.591</td>\n",
       "      <td>36.243</td>\n",
       "      <td>11.0</td>\n",
       "      <td>0</td>\n",
       "      <td>1000</td>\n",
       "    </tr>\n",
       "    <tr>\n",
       "      <th>20</th>\n",
       "      <td>Pickup</td>\n",
       "      <td>26.591</td>\n",
       "      <td>36.243</td>\n",
       "      <td>5.0</td>\n",
       "      <td>0</td>\n",
       "      <td>1000</td>\n",
       "    </tr>\n",
       "    <tr>\n",
       "      <th>21</th>\n",
       "      <td>Pickup</td>\n",
       "      <td>26.591</td>\n",
       "      <td>36.243</td>\n",
       "      <td>11.0</td>\n",
       "      <td>0</td>\n",
       "      <td>1000</td>\n",
       "    </tr>\n",
       "    <tr>\n",
       "      <th>22</th>\n",
       "      <td>Pickup</td>\n",
       "      <td>26.591</td>\n",
       "      <td>36.243</td>\n",
       "      <td>7.0</td>\n",
       "      <td>0</td>\n",
       "      <td>1000</td>\n",
       "    </tr>\n",
       "    <tr>\n",
       "      <th>23</th>\n",
       "      <td>Pickup</td>\n",
       "      <td>26.591</td>\n",
       "      <td>36.243</td>\n",
       "      <td>10.0</td>\n",
       "      <td>0</td>\n",
       "      <td>1000</td>\n",
       "    </tr>\n",
       "    <tr>\n",
       "      <th>24</th>\n",
       "      <td>Pickup</td>\n",
       "      <td>26.591</td>\n",
       "      <td>36.243</td>\n",
       "      <td>13.0</td>\n",
       "      <td>0</td>\n",
       "      <td>1000</td>\n",
       "    </tr>\n",
       "    <tr>\n",
       "      <th>25</th>\n",
       "      <td>Pickup</td>\n",
       "      <td>26.591</td>\n",
       "      <td>36.243</td>\n",
       "      <td>10.0</td>\n",
       "      <td>0</td>\n",
       "      <td>1000</td>\n",
       "    </tr>\n",
       "    <tr>\n",
       "      <th>26</th>\n",
       "      <td>Pickup</td>\n",
       "      <td>26.591</td>\n",
       "      <td>36.243</td>\n",
       "      <td>10.0</td>\n",
       "      <td>0</td>\n",
       "      <td>1000</td>\n",
       "    </tr>\n",
       "    <tr>\n",
       "      <th>27</th>\n",
       "      <td>Pickup</td>\n",
       "      <td>26.591</td>\n",
       "      <td>36.243</td>\n",
       "      <td>14.0</td>\n",
       "      <td>0</td>\n",
       "      <td>1000</td>\n",
       "    </tr>\n",
       "    <tr>\n",
       "      <th>28</th>\n",
       "      <td>Pickup</td>\n",
       "      <td>26.591</td>\n",
       "      <td>36.243</td>\n",
       "      <td>10.0</td>\n",
       "      <td>0</td>\n",
       "      <td>1000</td>\n",
       "    </tr>\n",
       "    <tr>\n",
       "      <th>29</th>\n",
       "      <td>Pickup</td>\n",
       "      <td>26.591</td>\n",
       "      <td>36.243</td>\n",
       "      <td>13.0</td>\n",
       "      <td>0</td>\n",
       "      <td>1000</td>\n",
       "    </tr>\n",
       "    <tr>\n",
       "      <th>30</th>\n",
       "      <td>Pickup</td>\n",
       "      <td>26.591</td>\n",
       "      <td>36.243</td>\n",
       "      <td>6.0</td>\n",
       "      <td>0</td>\n",
       "      <td>1000</td>\n",
       "    </tr>\n",
       "    <tr>\n",
       "      <th>31</th>\n",
       "      <td>Pickup</td>\n",
       "      <td>26.591</td>\n",
       "      <td>36.243</td>\n",
       "      <td>8.0</td>\n",
       "      <td>0</td>\n",
       "      <td>1000</td>\n",
       "    </tr>\n",
       "    <tr>\n",
       "      <th>32</th>\n",
       "      <td>Pickup</td>\n",
       "      <td>26.591</td>\n",
       "      <td>36.243</td>\n",
       "      <td>9.0</td>\n",
       "      <td>0</td>\n",
       "      <td>1000</td>\n",
       "    </tr>\n",
       "    <tr>\n",
       "      <th>33</th>\n",
       "      <td>Pickup</td>\n",
       "      <td>26.591</td>\n",
       "      <td>36.243</td>\n",
       "      <td>11.0</td>\n",
       "      <td>0</td>\n",
       "      <td>1000</td>\n",
       "    </tr>\n",
       "    <tr>\n",
       "      <th>34</th>\n",
       "      <td>Artificial delivery</td>\n",
       "      <td>19.942</td>\n",
       "      <td>16.269</td>\n",
       "      <td>-1</td>\n",
       "      <td>0</td>\n",
       "      <td>1000</td>\n",
       "    </tr>\n",
       "    <tr>\n",
       "      <th>35</th>\n",
       "      <td>Artificial delivery</td>\n",
       "      <td>26.591</td>\n",
       "      <td>36.243</td>\n",
       "      <td>0</td>\n",
       "      <td>0</td>\n",
       "      <td>1000</td>\n",
       "    </tr>\n",
       "    <tr>\n",
       "      <th>36</th>\n",
       "      <td>Delivery</td>\n",
       "      <td>35.573</td>\n",
       "      <td>46.733</td>\n",
       "      <td>-7.0</td>\n",
       "      <td>209.0</td>\n",
       "      <td>269.0</td>\n",
       "    </tr>\n",
       "    <tr>\n",
       "      <th>37</th>\n",
       "      <td>Delivery</td>\n",
       "      <td>36.158</td>\n",
       "      <td>11.897</td>\n",
       "      <td>-9.0</td>\n",
       "      <td>562.0</td>\n",
       "      <td>622.0</td>\n",
       "    </tr>\n",
       "    <tr>\n",
       "      <th>38</th>\n",
       "      <td>Delivery</td>\n",
       "      <td>43.76</td>\n",
       "      <td>46.624</td>\n",
       "      <td>-15.0</td>\n",
       "      <td>261.0</td>\n",
       "      <td>321.0</td>\n",
       "    </tr>\n",
       "    <tr>\n",
       "      <th>39</th>\n",
       "      <td>Delivery</td>\n",
       "      <td>13.387</td>\n",
       "      <td>36.048</td>\n",
       "      <td>-5.0</td>\n",
       "      <td>549.0</td>\n",
       "      <td>609.0</td>\n",
       "    </tr>\n",
       "    <tr>\n",
       "      <th>40</th>\n",
       "      <td>Delivery</td>\n",
       "      <td>21.442</td>\n",
       "      <td>34.131</td>\n",
       "      <td>-12.0</td>\n",
       "      <td>470.0</td>\n",
       "      <td>530.0</td>\n",
       "    </tr>\n",
       "    <tr>\n",
       "      <th>41</th>\n",
       "      <td>Delivery</td>\n",
       "      <td>4.515</td>\n",
       "      <td>24.464</td>\n",
       "      <td>-5.0</td>\n",
       "      <td>439.0</td>\n",
       "      <td>499.0</td>\n",
       "    </tr>\n",
       "    <tr>\n",
       "      <th>42</th>\n",
       "      <td>Delivery</td>\n",
       "      <td>14.379</td>\n",
       "      <td>35.446</td>\n",
       "      <td>-10.0</td>\n",
       "      <td>545.0</td>\n",
       "      <td>605.0</td>\n",
       "    </tr>\n",
       "    <tr>\n",
       "      <th>43</th>\n",
       "      <td>Delivery</td>\n",
       "      <td>17.381</td>\n",
       "      <td>24.472</td>\n",
       "      <td>-8.0</td>\n",
       "      <td>434.0</td>\n",
       "      <td>494.0</td>\n",
       "    </tr>\n",
       "    <tr>\n",
       "      <th>44</th>\n",
       "      <td>Delivery</td>\n",
       "      <td>43.627</td>\n",
       "      <td>19.724</td>\n",
       "      <td>-11.0</td>\n",
       "      <td>57.0</td>\n",
       "      <td>117.0</td>\n",
       "    </tr>\n",
       "    <tr>\n",
       "      <th>45</th>\n",
       "      <td>Delivery</td>\n",
       "      <td>0.062</td>\n",
       "      <td>49.145</td>\n",
       "      <td>-12.0</td>\n",
       "      <td>125.0</td>\n",
       "      <td>185.0</td>\n",
       "    </tr>\n",
       "    <tr>\n",
       "      <th>46</th>\n",
       "      <td>Delivery</td>\n",
       "      <td>42.389</td>\n",
       "      <td>13.101</td>\n",
       "      <td>-8.0</td>\n",
       "      <td>173.0</td>\n",
       "      <td>233.0</td>\n",
       "    </tr>\n",
       "    <tr>\n",
       "      <th>47</th>\n",
       "      <td>Delivery</td>\n",
       "      <td>6.799</td>\n",
       "      <td>22.468</td>\n",
       "      <td>-14.0</td>\n",
       "      <td>97.0</td>\n",
       "      <td>157.0</td>\n",
       "    </tr>\n",
       "    <tr>\n",
       "      <th>48</th>\n",
       "      <td>Delivery</td>\n",
       "      <td>24.429</td>\n",
       "      <td>6.787</td>\n",
       "      <td>-15.0</td>\n",
       "      <td>439.0</td>\n",
       "      <td>499.0</td>\n",
       "    </tr>\n",
       "    <tr>\n",
       "      <th>49</th>\n",
       "      <td>Delivery</td>\n",
       "      <td>44.972</td>\n",
       "      <td>41.699</td>\n",
       "      <td>-8.0</td>\n",
       "      <td>124.0</td>\n",
       "      <td>184.0</td>\n",
       "    </tr>\n",
       "    <tr>\n",
       "      <th>50</th>\n",
       "      <td>Delivery</td>\n",
       "      <td>30.09</td>\n",
       "      <td>18.098</td>\n",
       "      <td>-11.0</td>\n",
       "      <td>527.0</td>\n",
       "      <td>587.0</td>\n",
       "    </tr>\n",
       "    <tr>\n",
       "      <th>51</th>\n",
       "      <td>Delivery</td>\n",
       "      <td>17.571</td>\n",
       "      <td>39.599</td>\n",
       "      <td>-11.0</td>\n",
       "      <td>45.0</td>\n",
       "      <td>105.0</td>\n",
       "    </tr>\n",
       "    <tr>\n",
       "      <th>52</th>\n",
       "      <td>Delivery</td>\n",
       "      <td>30.378</td>\n",
       "      <td>32.49</td>\n",
       "      <td>-5.0</td>\n",
       "      <td>58.0</td>\n",
       "      <td>118.0</td>\n",
       "    </tr>\n",
       "    <tr>\n",
       "      <th>53</th>\n",
       "      <td>Delivery</td>\n",
       "      <td>20.594</td>\n",
       "      <td>9.692</td>\n",
       "      <td>-11.0</td>\n",
       "      <td>316.0</td>\n",
       "      <td>376.0</td>\n",
       "    </tr>\n",
       "    <tr>\n",
       "      <th>54</th>\n",
       "      <td>Delivery</td>\n",
       "      <td>19.93</td>\n",
       "      <td>25.913</td>\n",
       "      <td>-7.0</td>\n",
       "      <td>428.0</td>\n",
       "      <td>488.0</td>\n",
       "    </tr>\n",
       "    <tr>\n",
       "      <th>55</th>\n",
       "      <td>Delivery</td>\n",
       "      <td>5.808</td>\n",
       "      <td>45.172</td>\n",
       "      <td>-10.0</td>\n",
       "      <td>538.0</td>\n",
       "      <td>598.0</td>\n",
       "    </tr>\n",
       "    <tr>\n",
       "      <th>56</th>\n",
       "      <td>Delivery</td>\n",
       "      <td>0.497</td>\n",
       "      <td>25.269</td>\n",
       "      <td>-13.0</td>\n",
       "      <td>517.0</td>\n",
       "      <td>577.0</td>\n",
       "    </tr>\n",
       "    <tr>\n",
       "      <th>57</th>\n",
       "      <td>Delivery</td>\n",
       "      <td>43.952</td>\n",
       "      <td>38.259</td>\n",
       "      <td>-10.0</td>\n",
       "      <td>320.0</td>\n",
       "      <td>380.0</td>\n",
       "    </tr>\n",
       "    <tr>\n",
       "      <th>58</th>\n",
       "      <td>Delivery</td>\n",
       "      <td>13.843</td>\n",
       "      <td>16.968</td>\n",
       "      <td>-10.0</td>\n",
       "      <td>306.0</td>\n",
       "      <td>366.0</td>\n",
       "    </tr>\n",
       "    <tr>\n",
       "      <th>59</th>\n",
       "      <td>Delivery</td>\n",
       "      <td>19.524</td>\n",
       "      <td>12.881</td>\n",
       "      <td>-14.0</td>\n",
       "      <td>99.0</td>\n",
       "      <td>159.0</td>\n",
       "    </tr>\n",
       "    <tr>\n",
       "      <th>60</th>\n",
       "      <td>Delivery</td>\n",
       "      <td>30.948</td>\n",
       "      <td>13.248</td>\n",
       "      <td>-10.0</td>\n",
       "      <td>427.0</td>\n",
       "      <td>487.0</td>\n",
       "    </tr>\n",
       "    <tr>\n",
       "      <th>61</th>\n",
       "      <td>Delivery</td>\n",
       "      <td>15.145</td>\n",
       "      <td>19.745</td>\n",
       "      <td>-13.0</td>\n",
       "      <td>317.0</td>\n",
       "      <td>377.0</td>\n",
       "    </tr>\n",
       "    <tr>\n",
       "      <th>62</th>\n",
       "      <td>Delivery</td>\n",
       "      <td>18.778</td>\n",
       "      <td>35.536</td>\n",
       "      <td>-6.0</td>\n",
       "      <td>555.0</td>\n",
       "      <td>615.0</td>\n",
       "    </tr>\n",
       "    <tr>\n",
       "      <th>63</th>\n",
       "      <td>Delivery</td>\n",
       "      <td>47.436</td>\n",
       "      <td>7.99</td>\n",
       "      <td>-8.0</td>\n",
       "      <td>414.0</td>\n",
       "      <td>474.0</td>\n",
       "    </tr>\n",
       "    <tr>\n",
       "      <th>64</th>\n",
       "      <td>Delivery</td>\n",
       "      <td>6.843</td>\n",
       "      <td>25.729</td>\n",
       "      <td>-9.0</td>\n",
       "      <td>582.0</td>\n",
       "      <td>642.0</td>\n",
       "    </tr>\n",
       "    <tr>\n",
       "      <th>65</th>\n",
       "      <td>Delivery</td>\n",
       "      <td>17.743</td>\n",
       "      <td>42.465</td>\n",
       "      <td>-11.0</td>\n",
       "      <td>82.0</td>\n",
       "      <td>142.0</td>\n",
       "    </tr>\n",
       "    <tr>\n",
       "      <th>66</th>\n",
       "      <td>Depot</td>\n",
       "      <td>19.942</td>\n",
       "      <td>16.269</td>\n",
       "      <td>0</td>\n",
       "      <td>0</td>\n",
       "      <td>1000</td>\n",
       "    </tr>\n",
       "    <tr>\n",
       "      <th>67</th>\n",
       "      <td>Depot</td>\n",
       "      <td>26.591</td>\n",
       "      <td>36.243</td>\n",
       "      <td>0</td>\n",
       "      <td>0</td>\n",
       "      <td>1000</td>\n",
       "    </tr>\n",
       "  </tbody>\n",
       "</table>\n",
       "</div>"
      ],
      "text/plain": [
       "                   type       x       y     d    w_a    w_b\n",
       "0                 Depot  19.942  16.269     0      0   1000\n",
       "1                 Depot  26.591  36.243     0      0   1000\n",
       "2     Artificial pickup  19.942  16.269     1      0   1000\n",
       "3     Artificial pickup  26.591  36.243     0      0   1000\n",
       "4                Pickup  19.942  16.269   7.0      0   1000\n",
       "5                Pickup  19.942  16.269   9.0      0   1000\n",
       "6                Pickup  19.942  16.269  15.0      0   1000\n",
       "7                Pickup  19.942  16.269   5.0      0   1000\n",
       "8                Pickup  19.942  16.269  12.0      0   1000\n",
       "9                Pickup  19.942  16.269   5.0      0   1000\n",
       "10               Pickup  19.942  16.269  10.0      0   1000\n",
       "11               Pickup  19.942  16.269   8.0      0   1000\n",
       "12               Pickup  19.942  16.269  11.0      0   1000\n",
       "13               Pickup  19.942  16.269  12.0      0   1000\n",
       "14               Pickup  19.942  16.269   8.0      0   1000\n",
       "15               Pickup  19.942  16.269  14.0      0   1000\n",
       "16               Pickup  19.942  16.269  15.0      0   1000\n",
       "17               Pickup  19.942  16.269   8.0      0   1000\n",
       "18               Pickup  19.942  16.269  11.0      0   1000\n",
       "19               Pickup  26.591  36.243  11.0      0   1000\n",
       "20               Pickup  26.591  36.243   5.0      0   1000\n",
       "21               Pickup  26.591  36.243  11.0      0   1000\n",
       "22               Pickup  26.591  36.243   7.0      0   1000\n",
       "23               Pickup  26.591  36.243  10.0      0   1000\n",
       "24               Pickup  26.591  36.243  13.0      0   1000\n",
       "25               Pickup  26.591  36.243  10.0      0   1000\n",
       "26               Pickup  26.591  36.243  10.0      0   1000\n",
       "27               Pickup  26.591  36.243  14.0      0   1000\n",
       "28               Pickup  26.591  36.243  10.0      0   1000\n",
       "29               Pickup  26.591  36.243  13.0      0   1000\n",
       "30               Pickup  26.591  36.243   6.0      0   1000\n",
       "31               Pickup  26.591  36.243   8.0      0   1000\n",
       "32               Pickup  26.591  36.243   9.0      0   1000\n",
       "33               Pickup  26.591  36.243  11.0      0   1000\n",
       "34  Artificial delivery  19.942  16.269    -1      0   1000\n",
       "35  Artificial delivery  26.591  36.243     0      0   1000\n",
       "36             Delivery  35.573  46.733  -7.0  209.0  269.0\n",
       "37             Delivery  36.158  11.897  -9.0  562.0  622.0\n",
       "38             Delivery   43.76  46.624 -15.0  261.0  321.0\n",
       "39             Delivery  13.387  36.048  -5.0  549.0  609.0\n",
       "40             Delivery  21.442  34.131 -12.0  470.0  530.0\n",
       "41             Delivery   4.515  24.464  -5.0  439.0  499.0\n",
       "42             Delivery  14.379  35.446 -10.0  545.0  605.0\n",
       "43             Delivery  17.381  24.472  -8.0  434.0  494.0\n",
       "44             Delivery  43.627  19.724 -11.0   57.0  117.0\n",
       "45             Delivery   0.062  49.145 -12.0  125.0  185.0\n",
       "46             Delivery  42.389  13.101  -8.0  173.0  233.0\n",
       "47             Delivery   6.799  22.468 -14.0   97.0  157.0\n",
       "48             Delivery  24.429   6.787 -15.0  439.0  499.0\n",
       "49             Delivery  44.972  41.699  -8.0  124.0  184.0\n",
       "50             Delivery   30.09  18.098 -11.0  527.0  587.0\n",
       "51             Delivery  17.571  39.599 -11.0   45.0  105.0\n",
       "52             Delivery  30.378   32.49  -5.0   58.0  118.0\n",
       "53             Delivery  20.594   9.692 -11.0  316.0  376.0\n",
       "54             Delivery   19.93  25.913  -7.0  428.0  488.0\n",
       "55             Delivery   5.808  45.172 -10.0  538.0  598.0\n",
       "56             Delivery   0.497  25.269 -13.0  517.0  577.0\n",
       "57             Delivery  43.952  38.259 -10.0  320.0  380.0\n",
       "58             Delivery  13.843  16.968 -10.0  306.0  366.0\n",
       "59             Delivery  19.524  12.881 -14.0   99.0  159.0\n",
       "60             Delivery  30.948  13.248 -10.0  427.0  487.0\n",
       "61             Delivery  15.145  19.745 -13.0  317.0  377.0\n",
       "62             Delivery  18.778  35.536  -6.0  555.0  615.0\n",
       "63             Delivery  47.436    7.99  -8.0  414.0  474.0\n",
       "64             Delivery   6.843  25.729  -9.0  582.0  642.0\n",
       "65             Delivery  17.743  42.465 -11.0   82.0  142.0\n",
       "66                Depot  19.942  16.269     0      0   1000\n",
       "67                Depot  26.591  36.243     0      0   1000"
      ]
     },
     "execution_count": 83,
     "metadata": {},
     "output_type": "execute_result"
    }
   ],
   "source": [
    "# Instance data\n",
    "\n",
    "df_instance = inst.instance_data\n",
    "\n",
    "df_instance"
   ]
  },
  {
   "cell_type": "code",
   "execution_count": 84,
   "id": "54f5e48f",
   "metadata": {},
   "outputs": [],
   "source": [
    "# Importing pyomo modules\n",
    "\n",
    "import pyomo.environ as pyo\n",
    "from pyomo.environ import *\n",
    "from pyomo.opt import SolverFactory\n",
    "\n",
    "# Creating model\n",
    "model = pyo.ConcreteModel()"
   ]
  },
  {
   "cell_type": "markdown",
   "id": "f37cacdb",
   "metadata": {},
   "source": [
    "#### Defining sets"
   ]
  },
  {
   "cell_type": "markdown",
   "id": "37df9b2b",
   "metadata": {},
   "source": [
    "#### Additional set:\n",
    "\n",
    "## $$ S_{0} = \\{0, 1, ... , p\\} $$\n",
    "## $$ S_{f} = \\{2n + p, ... , 2n + 2p\\} $$\n",
    "\n",
    "## $$ S = S_{i} \\cup S_{f} $$\n"
   ]
  },
  {
   "cell_type": "code",
   "execution_count": 85,
   "id": "e69c015b",
   "metadata": {},
   "outputs": [],
   "source": [
    "# Sets\n",
    "\n",
    "model.setN = pyo.Set(initialize=range((inst.n)*2 + number_of_depots*2))\n",
    "\n",
    "model.setP = pyo.Set(initialize=range(number_of_depots, inst.n + number_of_depots))\n",
    "\n",
    "model.setD = pyo.Set(initialize=range(inst.n + number_of_depots, (inst.n)*2 + number_of_depots))\n",
    "\n",
    "model.setP_a = pyo.Set(initialize=range(number_of_depots, number_of_depots + inst.m))\n",
    "\n",
    "model.setD_a = pyo.Set(initialize=range(inst.n + number_of_depots, inst.n + number_of_depots + inst.m))\n",
    "\n",
    "# Additional sets\n",
    "\n",
    "model.setS_i = pyo.Set(initialize=range(0, number_of_depots))\n",
    "\n",
    "model.setS_f = pyo.Set(initialize=range((inst.n)*2 + number_of_depots, (inst.n)*2 + number_of_depots*2))\n",
    "\n",
    "model.setS = (model.setS_i | model.setS_f)"
   ]
  },
  {
   "cell_type": "markdown",
   "id": "dd8221db",
   "metadata": {},
   "source": [
    "#### Defining variables"
   ]
  },
  {
   "cell_type": "code",
   "execution_count": 86,
   "id": "6633419c",
   "metadata": {},
   "outputs": [],
   "source": [
    "# Variables\n",
    "\n",
    "model.x = pyo.Var(model.setN, model.setN, within = pyo.Binary)\n",
    "\n",
    "model.y = pyo.Var(model.setN, within = NonNegativeReals)\n",
    "\n",
    "model.w = pyo.Var(model.setN, within = NonNegativeReals)\n",
    "\n",
    "model.v = pyo.Var((model.setP | model.setD), within = NonNegativeReals)"
   ]
  },
  {
   "cell_type": "code",
   "execution_count": 87,
   "id": "0cb7457f",
   "metadata": {},
   "outputs": [],
   "source": [
    "# Making all costs to and from artificial delivery equal to 0\n",
    "\n",
    "for i in model.setN:\n",
    "    for j in model.setD_a:\n",
    "        \n",
    "        inst.c[i][j] = 0\n",
    "\n",
    "for i in model.setD_a:\n",
    "    for j in model.setN:\n",
    "        \n",
    "        inst.c[i][j] = 0\n",
    "        "
   ]
  },
  {
   "cell_type": "markdown",
   "id": "7c6e2856",
   "metadata": {},
   "source": [
    "#### Defining constraints"
   ]
  },
  {
   "cell_type": "markdown",
   "id": "749bdcb2",
   "metadata": {},
   "source": [
    "#### Objective function\n",
    "\n",
    "## $ (1) $\n",
    "\n",
    "## $$ max \\displaystyle \\sum_{i \\in N}\\displaystyle \\sum_{j \\in D}d_{j}x_{ij}$$"
   ]
  },
  {
   "cell_type": "code",
   "execution_count": 88,
   "id": "7589d8d6",
   "metadata": {},
   "outputs": [],
   "source": [
    "# Obs: constraints notation and order is following Gasque 2022\n",
    "\n",
    "# (1) - Objective function\n",
    "\n",
    "# Weight for unmet demand\n",
    "gamma1 = 1\n",
    "\n",
    "# Weight for arrival times\n",
    "gamma2 = 2\n",
    "\n",
    "#model.exprobj = gamma1*(sum(abs(inst.d[j]) for j in model.setD) - sum(sum(abs(inst.d[j])*model.x[i,j] for j in model.setD) for i in model.setN)) + gamma2*(sum(abs(inst.d[i])*model.w[i] for i in model.setD))\n",
    "\n",
    "model.exprobj = sum(sum(abs(inst.d[j])*model.x[i,j] for j in (model.setD - model.setD_a)) for i in (model.setN - model.setP_a))\n",
    "\n",
    "model.obj = pyo.Objective(expr= model.exprobj, sense = pyo.maximize)"
   ]
  },
  {
   "cell_type": "markdown",
   "id": "0656c312",
   "metadata": {},
   "source": [
    "## $ (2) $\n",
    "\n",
    "## $$\\displaystyle \\sum_{i \\in N}x_{ij} \\leq 1, \\hspace{15pt} \\forall j \\in P \\cup D$$"
   ]
  },
  {
   "cell_type": "code",
   "execution_count": 89,
   "id": "5d488499",
   "metadata": {},
   "outputs": [],
   "source": [
    "# (2) \n",
    "\n",
    "model.R2 = pyo.ConstraintList()\n",
    "\n",
    "for j in (model.setP | model.setD):\n",
    "    \n",
    "    #model.R2.add(expr = sum(model.x[i,j] for i in model.setN) <= 1)\n",
    "    model.R2.add(expr = sum(model.x[i,j] for i in (model.setN - model.setS_i) if i != j ) <= 1)"
   ]
  },
  {
   "cell_type": "markdown",
   "id": "2069f4a1",
   "metadata": {},
   "source": [
    "## $ (3) $\n",
    "\n",
    "## $$ \\displaystyle \\sum_{j \\in N}x_{ij} \\leq 1, \\hspace{15pt} \\forall i \\in P \\cup D$$"
   ]
  },
  {
   "cell_type": "code",
   "execution_count": 90,
   "id": "6498cec6",
   "metadata": {},
   "outputs": [],
   "source": [
    "# (3) \n",
    "\n",
    "model.R3 = pyo.ConstraintList()\n",
    "\n",
    "for i in (model.setP | model.setD):\n",
    "    \n",
    "    #model.R3.add(expr = sum(model.x[i,j] for j in model.setN) <= 1)\n",
    "    model.R3.add(expr = sum(model.x[i,j] for j in (model.setN - model.setS_f) if i != j ) <= 1)"
   ]
  },
  {
   "cell_type": "markdown",
   "id": "02aeda7a",
   "metadata": {},
   "source": [
    "## $ (4) $\n",
    "\n",
    "## $$ w_{j} \\geq w_{i} + t_{ij} - M(1-x_{ij}), \\hspace{15pt} \\forall i \\in N, j \\in N $$"
   ]
  },
  {
   "cell_type": "code",
   "execution_count": 91,
   "id": "6efb88fb",
   "metadata": {},
   "outputs": [],
   "source": [
    "# (4)\n",
    "\n",
    "# Defining big M\n",
    "\n",
    "M = 1000\n",
    "\n",
    "model.R4 = pyo.ConstraintList()\n",
    "\n",
    "for i in model.setN:\n",
    "    \n",
    "    for j in model.setN:\n",
    "        \n",
    "        model.R4.add(expr = model.w[j] >= model.w[i] + inst.c[i][j] - M*(1 - model.x[i,j]))"
   ]
  },
  {
   "cell_type": "markdown",
   "id": "a5e4c2f8",
   "metadata": {},
   "source": [
    "## $ (5) $\n",
    "\n",
    "\n",
    "\n",
    "## $$ w_{i}^{a} \\leq w_{i} \\leq w_{i}^{b} , \\hspace{15pt} \\forall i \\in N $$"
   ]
  },
  {
   "cell_type": "code",
   "execution_count": 92,
   "id": "d143eae4",
   "metadata": {},
   "outputs": [],
   "source": [
    "# (5)\n",
    "\n",
    "model.R5 = pyo.ConstraintList()\n",
    "\n",
    "for i in model.setN:\n",
    "    \n",
    "    model.R5.add(expr = model.w[i] >= inst.w_a[i])\n",
    "    model.R5.add(expr = model.w[i] <= inst.w_b[i])\n",
    "    "
   ]
  },
  {
   "cell_type": "markdown",
   "id": "27aaf11a",
   "metadata": {},
   "source": [
    "## $ (6) $\n",
    "\n",
    "\n",
    "\n",
    "## $$ y_{j} \\geq y_{i} + d_{j} - M(1-x_{ij}), \\hspace{15pt} \\forall i \\in N, j \\in N $$"
   ]
  },
  {
   "cell_type": "code",
   "execution_count": 93,
   "id": "bd813901",
   "metadata": {},
   "outputs": [],
   "source": [
    "# (6)\n",
    "\n",
    "model.R6 = pyo.ConstraintList()\n",
    "\n",
    "for i in model.setN:\n",
    "    \n",
    "    for j in model.setN:\n",
    "        \n",
    "        model.R6.add(expr = model.y[j] >= model.y[i] + inst.d[j] - M*(1 - model.x[i,j]))"
   ]
  },
  {
   "cell_type": "markdown",
   "id": "1b317ac3",
   "metadata": {},
   "source": [
    "## $ (7) $\n",
    "\n",
    "\n",
    "\n",
    "## $$ \\displaystyle \\max \\{0,d_{i}\\} \\leq y_{i} \\leq \\min \\{Q, Q + d_{i} \\}, \\hspace{15pt} \\forall i \\in N $$"
   ]
  },
  {
   "cell_type": "code",
   "execution_count": 94,
   "id": "dcf9ffb2",
   "metadata": {},
   "outputs": [],
   "source": [
    "# (7)\n",
    "\n",
    "model.R7 = pyo.ConstraintList()\n",
    "\n",
    "for i in model.setN:\n",
    "    \n",
    "    model.R7.add(expr = model.y[i] >= max(0, inst.d[i]))\n",
    "    model.R7.add(expr = model.y[i] <= min(inst.maxQ, inst.maxQ + inst.d[i]))"
   ]
  },
  {
   "cell_type": "markdown",
   "id": "56b3274e",
   "metadata": {},
   "source": [
    "## $ (8) $\n",
    "\n",
    "\n",
    "\n",
    "## $$ \\displaystyle w_{n+i} \\geq w_{i} + t_{i,i+n}, \\hspace{15pt} \\forall i \\in P $$"
   ]
  },
  {
   "cell_type": "code",
   "execution_count": 95,
   "id": "45d84d61",
   "metadata": {},
   "outputs": [],
   "source": [
    "# (8)\n",
    "\n",
    "model.R8 = pyo.ConstraintList()\n",
    "\n",
    "for i in model.setP:\n",
    "    \n",
    "     model.R8.add(expr = model.w[inst.n+i] >= model.w[i] + inst.s[i] + inst.c[i][inst.n+i])"
   ]
  },
  {
   "cell_type": "markdown",
   "id": "4baef44e",
   "metadata": {},
   "source": [
    "## $ (9) $\n",
    "\n",
    "\n",
    "\n",
    "## $$ \\displaystyle v_{n+i} = v_{i}, \\hspace{15pt} \\forall i \\in P $$"
   ]
  },
  {
   "cell_type": "code",
   "execution_count": 96,
   "id": "cff0bfe0",
   "metadata": {},
   "outputs": [],
   "source": [
    "# (9)\n",
    "\n",
    "model.R9 = pyo.ConstraintList()\n",
    "\n",
    "for i in model.setP:\n",
    "    \n",
    "    model.R9.add(expr = model.v[inst.n+i] == model.v[i])"
   ]
  },
  {
   "cell_type": "markdown",
   "id": "3fb0d14d",
   "metadata": {},
   "source": [
    "## $ (10) $\n",
    "\n",
    "\n",
    "## $$ \\displaystyle v_{j} \\geq j \\cdot x_{ij}, \\hspace{15pt} \\forall i \\in S; j \\in P \\cup D $$"
   ]
  },
  {
   "cell_type": "code",
   "execution_count": 97,
   "id": "41705ba1",
   "metadata": {},
   "outputs": [],
   "source": [
    "# (10)\n",
    "\n",
    "model.R10 = pyo.ConstraintList()\n",
    "\n",
    "for i in model.setS:\n",
    "\n",
    "    for j in (model.setP | model.setD):\n",
    "\n",
    "        model.R10.add(expr = model.v[j] >= j*model.x[i,j])"
   ]
  },
  {
   "cell_type": "markdown",
   "id": "538dafbb",
   "metadata": {},
   "source": [
    "## $ (11) $\n",
    "\n",
    "\n",
    "## $$ \\displaystyle v_{j} \\leq j \\cdot x_{ij} - n(x_{ij}-1), \\hspace{15pt} \\forall i \\in S; j \\in P \\cup D $$"
   ]
  },
  {
   "cell_type": "code",
   "execution_count": 98,
   "id": "27f49006",
   "metadata": {},
   "outputs": [],
   "source": [
    "# (11)\n",
    "\n",
    "model.R11 = pyo.ConstraintList()\n",
    "\n",
    "for i in model.setS:\n",
    "\n",
    "    for j in (model.setP | model.setD):\n",
    "\n",
    "        model.R11.add(expr = model.v[j] <= j*model.x[i,j] - inst.n*(model.x[i,j] - 1))"
   ]
  },
  {
   "cell_type": "markdown",
   "id": "afdb5223",
   "metadata": {},
   "source": [
    "## $ (12) $\n",
    "\n",
    "\n",
    "## $$ \\displaystyle v_{j} \\geq v_{i} + n(x_{ij}-1), \\hspace{15pt} \\forall i,j \\in P \\cup D $$"
   ]
  },
  {
   "cell_type": "code",
   "execution_count": 99,
   "id": "fe2d484a",
   "metadata": {},
   "outputs": [],
   "source": [
    "# (12)\n",
    "\n",
    "model.R12 = pyo.ConstraintList()\n",
    "\n",
    "for i in (model.setP | model.setD):\n",
    "\n",
    "    for j in (model.setP | model.setD):\n",
    "\n",
    "        model.R12.add(expr = model.v[j] >= model.v[i] + inst.n*(model.x[i,j] - 1))"
   ]
  },
  {
   "cell_type": "markdown",
   "id": "11768b4f",
   "metadata": {},
   "source": [
    "## $ (13) $\n",
    "\n",
    "\n",
    "## $$ \\displaystyle v_{j} \\leq v_{i} + n(1-x_{ij}), \\hspace{15pt} \\forall i,j \\in P \\cup D $$"
   ]
  },
  {
   "cell_type": "code",
   "execution_count": 100,
   "id": "e504a5a6",
   "metadata": {},
   "outputs": [],
   "source": [
    "# (13)\n",
    "\n",
    "model.R13 = pyo.ConstraintList()\n",
    "\n",
    "for i in (model.setP | model.setD):\n",
    "\n",
    "    for j in (model.setP | model.setD):\n",
    "\n",
    "        model.R13.add(expr = model.v[j] <= model.v[i] + inst.n*(1 - model.x[i,j]))"
   ]
  },
  {
   "cell_type": "markdown",
   "id": "108ba627",
   "metadata": {},
   "source": [
    "#### Artificial nodes constraints"
   ]
  },
  {
   "cell_type": "markdown",
   "id": "cacf3fbf",
   "metadata": {},
   "source": [
    "## $ (14) $\n",
    "\n",
    "\n",
    "## $$ \\displaystyle x_{ij} = 0,  \\hspace{15pt} \\forall  i \\in S_{0}; j \\in N \\setminus P_{a} $$"
   ]
  },
  {
   "cell_type": "code",
   "execution_count": 101,
   "id": "1fa86dc0",
   "metadata": {},
   "outputs": [],
   "source": [
    "# Beginning of artificial nodes constraints\n",
    "\n",
    "# (14)\n",
    "\n",
    "model.R14 = pyo.ConstraintList()\n",
    "\n",
    "for i in model.setS_i:\n",
    "\n",
    "    for j in model.setN - model.setP_a:\n",
    "\n",
    "        model.R14.add(expr = model.x[i, j] == 0)"
   ]
  },
  {
   "cell_type": "markdown",
   "id": "a1842bd8",
   "metadata": {},
   "source": [
    "## $ (15) $\n",
    "\n",
    "\n",
    "## $$ \\displaystyle x_{ij} = 0, \\hspace{15pt} \\forall i \\in P_{a}; j \\in N \\setminus P \\cup D_{a} $$"
   ]
  },
  {
   "cell_type": "code",
   "execution_count": 102,
   "id": "5742440c",
   "metadata": {},
   "outputs": [],
   "source": [
    "# (15)\n",
    "\n",
    "model.R15 = pyo.ConstraintList()\n",
    "\n",
    "for i in model.setP_a:\n",
    "    \n",
    "    for j in model.setN - (model.setP | model.setD_a):\n",
    "    \n",
    "        model.R15.add(expr = model.x[i, j] == 0)"
   ]
  },
  {
   "cell_type": "markdown",
   "id": "80e86679",
   "metadata": {},
   "source": [
    "## $ (16) $\n",
    "\n",
    "\n",
    "## $$ \\displaystyle x_{ij} = 0, \\hspace{15pt} \\forall i \\in N \\setminus D \\cup P_{a}; j \\in D_{a} $$"
   ]
  },
  {
   "cell_type": "code",
   "execution_count": 103,
   "id": "e699f7f8",
   "metadata": {},
   "outputs": [],
   "source": [
    "# (16)\n",
    "\n",
    "model.R16 = pyo.ConstraintList()\n",
    "\n",
    "for i in model.setN - (model.setD | model.setP_a):\n",
    "    \n",
    "    for j in model.setD_a:\n",
    "    \n",
    "        model.R16.add(expr = model.x[i, j] == 0)"
   ]
  },
  {
   "cell_type": "markdown",
   "id": "39dd4249",
   "metadata": {},
   "source": [
    "## $ (17) $\n",
    "\n",
    "\n",
    "## $$ \\displaystyle x_{ij} = 0,  \\hspace{15pt} \\forall i \\in N \\setminus D_{a}; j \\in S_{f} $$"
   ]
  },
  {
   "cell_type": "code",
   "execution_count": 104,
   "id": "b7282433",
   "metadata": {},
   "outputs": [],
   "source": [
    "# (17)\n",
    "\n",
    "model.R17 = pyo.ConstraintList()\n",
    "\n",
    "for i in model.setN - model.setD_a:\n",
    "    \n",
    "    for j in model.setS_f:\n",
    "    \n",
    "        model.R17.add(expr = model.x[i, j] == 0)"
   ]
  },
  {
   "cell_type": "markdown",
   "id": "2fcd5314",
   "metadata": {},
   "source": [
    "#### Additional constraints for this formulation"
   ]
  },
  {
   "cell_type": "markdown",
   "id": "fe20fa9f",
   "metadata": {},
   "source": [
    "## $ (18) $\n",
    "\n",
    "\n",
    "## $$ \\displaystyle x_{ij} = 0,  \\hspace{15pt} \\forall i \\in S; j \\in P_{a} \\setminus P_{i} $$"
   ]
  },
  {
   "cell_type": "code",
   "execution_count": 105,
   "id": "693c1148",
   "metadata": {},
   "outputs": [],
   "source": [
    "# (18)\n",
    "\n",
    "# Parameter - P_i -> artificial pickup nodes served by vehicles in depot i\n",
    "\n",
    "v = 0\n",
    "\n",
    "P = []\n",
    "\n",
    "artificial_pickup_nodes = [node for node in model.setP_a]\n",
    "\n",
    "for location in vehicle_locations:\n",
    "    \n",
    "    P_i = []\n",
    "    \n",
    "    for vehicle in location:\n",
    "        \n",
    "        P_i.append(artificial_pickup_nodes[v])\n",
    "        \n",
    "        v += 1\n",
    "    \n",
    "    P.append(P_i)\n",
    "        \n",
    "\n",
    "model.R18 = pyo.ConstraintList()\n",
    "\n",
    "for i in model.setS_i:\n",
    "    \n",
    "    for j in (model.setP_a - P[i]):\n",
    "    \n",
    "        model.R18.add(expr = model.x[i, j] == 0) \n"
   ]
  },
  {
   "cell_type": "markdown",
   "id": "628e1008",
   "metadata": {},
   "source": [
    "## $ (19) $\n",
    "\n",
    "\n",
    "## $$ \\displaystyle \\sum_{i \\in N \\setminus S_{f}}x_{ih} -  \\displaystyle \\sum_{j \\in N \\setminus S_{0}}x_{hj} = 0, \\hspace{15pt} \\forall h \\in P \\cup D $$"
   ]
  },
  {
   "cell_type": "code",
   "execution_count": 106,
   "id": "0262901f",
   "metadata": {},
   "outputs": [],
   "source": [
    "# (19) \n",
    "\n",
    "model.R19 = pyo.ConstraintList()\n",
    "\n",
    "for h in (model.setP | model.setD):\n",
    "#for h in (model.setP):\n",
    "\n",
    "    model.R19.add(expr = sum(model.x[i,h] for i in (model.setN - model.setS_f) if i != h) - sum(model.x[h,j] for j in (model.setN - model.setS_i) if j != h) == 0)"
   ]
  },
  {
   "cell_type": "markdown",
   "id": "066cef40",
   "metadata": {},
   "source": [
    "## $ (20) $\n",
    "\n",
    "\n",
    "## $$ \\displaystyle \\sum_{i \\in N}x_{ij} -  \\sum_{i \\in N}x_{i,j+n} = 0, \\hspace{15pt} \\forall j \\in P $$"
   ]
  },
  {
   "cell_type": "code",
   "execution_count": 107,
   "id": "34e47e7d",
   "metadata": {},
   "outputs": [],
   "source": [
    "# (20) \n",
    "\n",
    "model.R20 = pyo.ConstraintList()\n",
    "\n",
    "for j in (model.setP):\n",
    "\n",
    "    model.R20.add(expr = sum(model.x[i,j] for i in model.setN) - sum(model.x[i,j+inst.n] for i in model.setN) == 0)\n",
    "    "
   ]
  },
  {
   "cell_type": "markdown",
   "id": "7ae06860",
   "metadata": {},
   "source": [
    "## $ (21) $\n",
    "\n",
    "## $$ \\displaystyle \\sum_{j \\in N}x_{ij} \\leq K_{i}, \\hspace{15pt} \\forall i \\in S_{0} $$"
   ]
  },
  {
   "cell_type": "code",
   "execution_count": 108,
   "id": "e090d399",
   "metadata": {},
   "outputs": [],
   "source": [
    "# (21) \n",
    "\n",
    "# Fleet constraint\n",
    "\n",
    "# K_{i} - Number of vehicles that start their route at depot i in S_i\n",
    "\n",
    "K = [len(location) for location in vehicle_locations]\n",
    "\n",
    "model.R21 = pyo.ConstraintList()\n",
    "\n",
    "for i in (model.setS_i):\n",
    "\n",
    "    model.R21.add(expr = sum(model.x[i,j] for j in model.setN) <= K[i])"
   ]
  },
  {
   "cell_type": "markdown",
   "id": "91d39b34",
   "metadata": {},
   "source": [
    "#### Valid inequalities"
   ]
  },
  {
   "cell_type": "code",
   "execution_count": 109,
   "id": "0936a8d1",
   "metadata": {},
   "outputs": [],
   "source": [
    "# Inequalities for N set\n",
    "\n",
    "model.VI1 = pyo.ConstraintList()\n",
    "\n",
    "    \n",
    "for i in model.setN:\n",
    "    \n",
    "    model.VI1.add(expr= model.x[i,i] == 0)\n",
    "    \n",
    "    for h in model.setS_i:\n",
    "        \n",
    "        model.VI1.add(expr= model.x[i,h] == 0)\n",
    "    \n",
    "    for h in model.setS_f:\n",
    "        \n",
    "        model.VI1.add(expr= model.x[h, i] == 0)\n",
    "    "
   ]
  },
  {
   "cell_type": "code",
   "execution_count": 110,
   "id": "4feff3e3",
   "metadata": {},
   "outputs": [],
   "source": [
    "# Inequalities for P set\n",
    "\n",
    "model.VI2 = pyo.ConstraintList()\n",
    "\n",
    "for i in model.setP:\n",
    "    \n",
    "    for h in model.setS_i:\n",
    "        \n",
    "        model.VI2.add(expr= model.x[h,inst.n + i] == 0)\n",
    "        \n",
    "    for h in model.setS_f:\n",
    "        \n",
    "        model.VI2.add(expr= model.x[i,h] == 0)\n",
    "        \n",
    "    model.VI2.add(expr= model.x[inst.n + i, i] == 0)\n",
    "    "
   ]
  },
  {
   "cell_type": "code",
   "execution_count": 111,
   "id": "d2ff683f",
   "metadata": {},
   "outputs": [],
   "source": [
    "# Inequalities for D set\n",
    "\n",
    "model.VI3 = pyo.ConstraintList()\n",
    "\n",
    "for i in model.setD:\n",
    "    \n",
    "    for h in model.setS_i:\n",
    "    \n",
    "        model.VI3.add(expr= model.x[h, i] == 0)\n",
    "    \n",
    "    "
   ]
  },
  {
   "cell_type": "code",
   "execution_count": 112,
   "id": "67ea94e3",
   "metadata": {},
   "outputs": [],
   "source": [
    "# Inequalities for P U D set\n",
    "\n",
    "model.VI4 = pyo.ConstraintList()\n",
    "\n",
    "for i in (model.setP | model.setD):\n",
    "    \n",
    "    for j in (model.setP | model.setD):\n",
    "        \n",
    "        if inst.w_a[i] + inst.c[i][j] > inst.w_b[j]:\n",
    "    \n",
    "            model.VI4.add(expr= model.x[i, j] == 0)\n",
    "    "
   ]
  },
  {
   "cell_type": "code",
   "execution_count": 113,
   "id": "e734be1f",
   "metadata": {},
   "outputs": [],
   "source": [
    "# Inequalities for 2D P set (arcs between pickup deliveries)\n",
    "\n",
    "model.VI5 = pyo.ConstraintList()\n",
    "\n",
    "for i in model.setP:\n",
    "    \n",
    "    for j in model.setP:\n",
    "        \n",
    "        if (inst.d[i] + inst.d[j] > inst.maxQ) and (i != j):\n",
    "            \n",
    "            model.VI5.add(expr = model.x[i,j] == 0)\n",
    "            model.VI5.add(expr = model.x[j,i] == 0)\n",
    "            model.VI5.add(expr = model.x[i,j+inst.n] == 0)\n",
    "            model.VI5.add(expr = model.x[j,i+inst.n] == 0)\n",
    "            model.VI5.add(expr = model.x[i+inst.n, j+inst.n] == 0)\n",
    "            model.VI5.add(expr = model.x[j+inst.n, i+inst.n] == 0)"
   ]
  },
  {
   "cell_type": "code",
   "execution_count": 114,
   "id": "c62198a3",
   "metadata": {},
   "outputs": [],
   "source": [
    "# Inequalities for artificial nodes (trying to improve)\n",
    "\n",
    "model.VI6 = pyo.ConstraintList()\n",
    "\n",
    "for i in (model.setP | model.setD):\n",
    "    \n",
    "    for j in model.setP_a:\n",
    "        \n",
    "        model.VI6.add(expr = model.x[i,j] == 0)\n",
    "        \n",
    "model.VI7 = pyo.ConstraintList()\n",
    "\n",
    "for i in model.setD_a:\n",
    "    \n",
    "    for j in (model.setP | model.setD):\n",
    "        \n",
    "        model.VI7.add(expr = model.x[i,j] == 0)\n",
    "        "
   ]
  },
  {
   "cell_type": "markdown",
   "id": "424191fa",
   "metadata": {},
   "source": [
    "#### Solving model"
   ]
  },
  {
   "cell_type": "code",
   "execution_count": 115,
   "id": "c96906a6",
   "metadata": {},
   "outputs": [
    {
     "name": "stdout",
     "output_type": "stream",
     "text": [
      "\n",
      "Welcome to IBM(R) ILOG(R) CPLEX(R) Interactive Optimizer 20.1.0.0\n",
      "  with Simplex, Mixed Integer & Barrier Optimizers\n",
      "5725-A06 5725-A29 5724-Y48 5724-Y49 5724-Y54 5724-Y55 5655-Y21\n",
      "Copyright IBM Corp. 1988, 2020.  All Rights Reserved.\n",
      "\n",
      "Type 'help' for a list of available commands.\n",
      "Type 'help' followed by a command name for more\n",
      "information on commands.\n",
      "\n",
      "CPLEX> Logfile 'cplex.log' closed.\n",
      "Logfile 'C:\\Users\\User\\AppData\\Local\\Temp\\tmpp4i42jct.cplex.log' open.\n",
      "CPLEX> New value for time limit in seconds: 3600\n",
      "CPLEX> Problem 'C:\\Users\\User\\AppData\\Local\\Temp\\tmppgnldizg.pyomo.lp' read.\n",
      "Read time = 0.05 sec. (2.42 ticks)\n",
      "CPLEX> Problem name         : C:\\Users\\User\\AppData\\Local\\Temp\\tmppgnldizg.pyomo.lp\n",
      "Objective sense      : Maximize\n",
      "Variables            :    4825  [Nneg: 201,  Binary: 4624]\n",
      "Objective nonzeros   :    1980\n",
      "Linear constraints   :   24230  [Less: 18250,  Greater: 136,  Equal: 5844]\n",
      "  Nonzeros           :   80056\n",
      "  RHS nonzeros       :   18054\n",
      "\n",
      "Variables            : Min LB: 0.000000         Max UB: 1.000000       \n",
      "Objective nonzeros   : Min   : 5.000000         Max   : 15.00000       \n",
      "Linear constraints   :\n",
      "  Nonzeros           : Min   : 1.000000         Max   : 1000.000       \n",
      "  RHS nonzeros       : Min   : 1.000000         Max   : 1015.000       \n",
      "CPLEX> Version identifier: 20.1.0.0 | 2020-11-10 | 9bedb6d68\n",
      "CPXPARAM_TimeLimit                               3600\n",
      "Found incumbent of value 0.000000 after 0.01 sec. (1.07 ticks)\n",
      "Tried aggregator 2 times.\n",
      "MIP Presolve eliminated 20004 rows and 3523 columns.\n",
      "MIP Presolve modified 5718 coefficients.\n",
      "Aggregator did 40 substitutions.\n",
      "Reduced MIP has 4186 rows, 1262 columns, and 16960 nonzeros.\n",
      "Reduced MIP has 1112 binaries, 0 generals, 0 SOSs, and 0 indicators.\n",
      "Presolve time = 0.05 sec. (26.96 ticks)\n",
      "Probing fixed 2 vars, tightened 0 bounds.\n",
      "Probing time = 0.05 sec. (5.16 ticks)\n",
      "Tried aggregator 1 time.\n",
      "Detecting symmetries...\n",
      "MIP Presolve eliminated 94 rows and 10 columns.\n",
      "MIP Presolve modified 132 coefficients.\n",
      "Reduced MIP has 4092 rows, 1250 columns, and 16592 nonzeros.\n",
      "Reduced MIP has 1106 binaries, 0 generals, 0 SOSs, and 0 indicators.\n",
      "Presolve time = 0.03 sec. (9.14 ticks)\n",
      "Probing time = 0.05 sec. (3.74 ticks)\n",
      "Clique table members: 6709.\n",
      "MIP emphasis: balance optimality and feasibility.\n",
      "MIP search method: dynamic search.\n",
      "Parallel mode: deterministic, using up to 4 threads.\n",
      "Root relaxation solution time = 0.06 sec. (22.30 ticks)\n",
      "\n",
      "        Nodes                                         Cuts/\n",
      "   Node  Left     Objective  IInf  Best Integer    Best Bound    ItCnt     Gap\n",
      "\n",
      "*     0+    0                            0.0000     2413.0000              --- \n",
      "      0     0      298.0000   183        0.0000      298.0000      724     --- \n",
      "*     0+    0                          164.0000      298.0000            81.71%\n",
      "      0     0      298.0000    61      164.0000       Cuts: 9      802   81.71%\n",
      "      0     0      298.0000   213      164.0000     Cuts: 329     1541   81.71%\n",
      "      0     0      298.0000    50      164.0000       Cuts: 3     1639   81.71%\n",
      "*     0+    0                          190.0000      298.0000            56.84%\n",
      "      0     0      298.0000   120      190.0000     Cuts: 444     1927   56.84%\n",
      "*     0+    0                          216.0000      298.0000            37.96%\n",
      "Detecting symmetries...\n",
      "      0     2      298.0000    37      216.0000      298.0000     1927   37.96%\n",
      "Elapsed time = 5.30 sec. (1234.72 ticks, tree = 0.02 MB, solutions = 3)\n",
      "     31    33      298.0000    92      216.0000      298.0000     4880   37.96%\n",
      "     78    40      298.0000   235      216.0000      298.0000     7394   37.96%\n",
      "    126    79      298.0000   222      216.0000      298.0000    15664   37.96%\n",
      "    164    97      298.0000    85      216.0000      298.0000    20261   37.96%\n",
      "    242   139      298.0000    70      216.0000      298.0000    23333   37.96%\n",
      "    415   189    infeasible            216.0000      298.0000    27813   37.96%\n",
      "    601   420      298.0000    59      216.0000      298.0000    37481   37.96%\n",
      "    800   520      298.0000    62      216.0000      298.0000    43505   37.96%\n",
      "    965   602      294.5000    44      216.0000      298.0000    48769   37.96%\n",
      "   1449   819    infeasible            216.0000      298.0000    77734   37.96%\n",
      "Elapsed time = 17.56 sec. (4361.83 ticks, tree = 23.97 MB, solutions = 3)\n",
      "   1919  1018      298.0000    74      216.0000      298.0000    99716   37.96%\n",
      "   2297  1173    infeasible            216.0000      298.0000   122336   37.96%\n",
      "   2708  1376      298.0000    64      216.0000      298.0000   143791   37.96%\n",
      "   3215  1744      298.0000    75      216.0000      298.0000   166237   37.96%\n",
      "   3597  1909      298.0000    56      216.0000      298.0000   189946   37.96%\n",
      "\n",
      "Performing restart 1\n",
      "\n",
      "Repeating presolve.\n",
      "Tried aggregator 1 time.\n",
      "MIP Presolve modified 1581 coefficients.\n",
      "Reduced MIP has 4092 rows, 1250 columns, and 16133 nonzeros.\n",
      "Reduced MIP has 1106 binaries, 0 generals, 0 SOSs, and 0 indicators.\n",
      "Presolve time = 0.03 sec. (10.31 ticks)\n",
      "Tried aggregator 1 time.\n",
      "Reduced MIP has 4092 rows, 1250 columns, and 16133 nonzeros.\n",
      "Reduced MIP has 1106 binaries, 0 generals, 0 SOSs, and 0 indicators.\n",
      "Presolve time = 0.02 sec. (8.79 ticks)\n",
      "Represolve time = 0.27 sec. (33.20 ticks)\n",
      "   3599     0      298.0000   115      216.0000      Cuts: 42   195329   37.96%\n",
      "   3599     0      298.0000   242      216.0000     Cuts: 484   196400   37.96%\n",
      "   3599     0      298.0000    93      216.0000      Cuts: 10   196554   37.96%\n",
      "   3599     0      298.0000   132      216.0000     Cuts: 263   196917   37.96%\n",
      "   3599     0      298.0000    79      216.0000      Cuts: 43   197064   37.96%\n",
      "   3599     0      298.0000   139      216.0000     Cuts: 156   197349   37.96%\n",
      "   3599     0      298.0000    51      216.0000      Cuts: 13   197425   37.96%\n",
      "   3599     0      298.0000   121      216.0000     Cuts: 308   197751   37.96%\n",
      "*  3599+    0                          256.0000      298.0000            16.41%\n",
      "   3599     0        cutoff            256.0000      298.0000   197751   16.41%\n",
      "   3599     2      298.0000    38      256.0000      298.0000   197751   16.41%\n",
      "*  3601+    2                          264.0000      298.0000            12.88%\n",
      "   3602     5      298.0000   255      264.0000      298.0000   200552   12.88%\n",
      "   3607     9      298.0000   247      264.0000      298.0000   203730   12.88%\n",
      "   3613    15      298.0000    97      264.0000      298.0000   212082   12.88%\n",
      "   3631    26      298.0000    81      264.0000      298.0000   213943   12.88%\n",
      "Elapsed time = 79.55 sec. (18364.39 ticks, tree = 0.22 MB, solutions = 6)\n",
      "   3666    44      298.0000   113      264.0000      298.0000   215926   12.88%\n",
      "   3709    88      298.0000   201      264.0000      298.0000   220912   12.88%\n",
      "   3802   126      298.0000   167      264.0000      298.0000   227830   12.88%\n",
      "   3885   207      298.0000   115      264.0000      298.0000   234409   12.88%\n",
      "   3953   263      298.0000    86      264.0000      298.0000   247332   12.88%\n",
      "   4032   322      285.0000    71      264.0000      298.0000   261607   12.88%\n",
      "   4179   394    infeasible            264.0000      298.0000   278713   12.88%\n",
      "   4329   499    infeasible            264.0000      298.0000   295812   12.88%\n",
      "   4408   558      272.8889    52      264.0000      298.0000   316612   12.88%\n",
      "   4546   585      285.0000   122      264.0000      298.0000   321888   12.88%\n",
      "Elapsed time = 114.36 sec. (28088.95 ticks, tree = 1.04 MB, solutions = 6)\n",
      "   4701   698      298.0000    69      264.0000      298.0000   343124   12.88%\n",
      "   4771   726      298.0000    96      264.0000      298.0000   357750   12.88%\n",
      "   4847   777      298.0000   126      264.0000      298.0000   369425   12.88%\n",
      "   5064   896      298.0000   131      264.0000      298.0000   380122   12.88%\n",
      "   5364   901      298.0000    46      264.0000      298.0000   398251   12.88%\n",
      "   5530  1088    infeasible            264.0000      298.0000   427835   12.88%\n",
      "   5659  1159      298.0000   125      264.0000      298.0000   441784   12.88%\n",
      "   5852  1245      293.0000    68      264.0000      298.0000   468867   12.88%\n",
      "   6197  1349      278.5000    61      264.0000      298.0000   480933   12.88%\n"
     ]
    },
    {
     "name": "stdout",
     "output_type": "stream",
     "text": [
      "   6354  1544      298.0000   154      264.0000      298.0000   506570   12.88%\n",
      "Elapsed time = 141.63 sec. (37686.07 ticks, tree = 2.01 MB, solutions = 6)\n",
      "   6482  1706      298.0000   115      264.0000      298.0000   535625   12.88%\n",
      "   6558  1726      298.0000   124      264.0000      298.0000   548233   12.88%\n",
      "   6629  1787      297.2305    81      264.0000      298.0000   566510   12.88%\n",
      "   6732  1816    infeasible            264.0000      298.0000   580370   12.88%\n",
      "   6799  1727      298.0000   111      264.0000      298.0000   547427   12.88%\n",
      "   6897  1958      285.0000    54      264.0000      298.0000   592060   12.88%\n",
      "   7041  1995      298.0000    44      264.0000      298.0000   602422   12.88%\n",
      "   7297  1997      297.9479    73      264.0000      298.0000   607373   12.88%\n",
      "   7433  2130    infeasible            264.0000      298.0000   641891   12.88%\n",
      "   7527  2189      283.6726    53      264.0000      298.0000   662450   12.88%\n",
      "Elapsed time = 186.89 sec. (48264.35 ticks, tree = 2.77 MB, solutions = 6)\n",
      "   7627  2268      298.0000   142      264.0000      298.0000   669660   12.88%\n",
      "   7897  2407    infeasible            264.0000      298.0000   683120   12.88%\n",
      "   8465  2529    infeasible            264.0000      298.0000   694243   12.88%\n",
      "   8862  2922    infeasible            264.0000      298.0000   731199   12.88%\n",
      "   9143  3046        cutoff            264.0000      298.0000   751934   12.88%\n",
      "   9439  3073      298.0000    66      264.0000      298.0000   759957   12.88%\n",
      "   9708  3175      298.0000    51      264.0000      298.0000   777451   12.88%\n",
      "   9944  3263      289.6800    75      264.0000      298.0000   797392   12.88%\n",
      "  10162  3308        cutoff            264.0000      298.0000   812050   12.88%\n",
      "  10390  3341      298.0000    60      264.0000      298.0000   838884   12.88%\n",
      "Elapsed time = 220.83 sec. (57838.65 ticks, tree = 31.41 MB, solutions = 6)\n",
      "  10616  3380      298.0000    53      264.0000      298.0000   861278   12.88%\n",
      "  10849  3387      298.0000    60      264.0000      298.0000   866313   12.88%\n",
      "  11052  3489      298.0000    53      264.0000      298.0000   896013   12.88%\n",
      "  11267  3515      298.0000    60      264.0000      298.0000   911597   12.88%\n",
      "  11463  3528      298.0000    67      264.0000      298.0000   926203   12.88%\n",
      "  11624  3660    infeasible            264.0000      298.0000   956300   12.88%\n",
      "  11839  3677      283.2500    68      264.0000      298.0000   967419   12.88%\n",
      "  11990  3712      281.9997    84      264.0000      298.0000   976108   12.88%\n",
      "  12212  3871    infeasible            264.0000      298.0000  1014876   12.88%\n",
      "  12368  3866        cutoff            264.0000      298.0000  1019879   12.88%\n",
      "Elapsed time = 251.05 sec. (67422.32 ticks, tree = 48.30 MB, solutions = 6)\n",
      "  12491  3908      270.9509    54      264.0000      298.0000  1055298   12.88%\n",
      "  12685  3955        cutoff            264.0000      298.0000  1067350   12.88%\n",
      "  12872  3985      298.0000    63      264.0000      298.0000  1082976   12.88%\n",
      "  13070  4050      298.0000    59      264.0000      298.0000  1103315   12.88%\n",
      "  13294  4069    infeasible            264.0000      298.0000  1113829   12.88%\n",
      "  13497  4162        cutoff            264.0000      298.0000  1133948   12.88%\n",
      "  13705  4248      298.0000    58      264.0000      298.0000  1160189   12.88%\n",
      "  13939  4232        cutoff            264.0000      298.0000  1173649   12.88%\n",
      "  14181  4390      298.0000    59      264.0000      298.0000  1195028   12.88%\n",
      "  14408  4389        cutoff            264.0000      298.0000  1205227   12.88%\n",
      "Elapsed time = 288.08 sec. (76986.76 ticks, tree = 66.23 MB, solutions = 6)\n",
      "  14616  4457        cutoff            264.0000      298.0000  1221041   12.88%\n",
      "  14797  4544      284.0000    47      264.0000      298.0000  1247100   12.88%\n",
      "  14974  4640        cutoff            264.0000      298.0000  1268690   12.88%\n",
      "  15155  4698      293.5000    72      264.0000      298.0000  1277796   12.88%\n",
      "  15380  4687        cutoff            264.0000      298.0000  1294823   12.88%\n",
      "  15557  4750      283.0000    55      264.0000      298.0000  1314325   12.88%\n",
      "  15712  4834        cutoff            264.0000      298.0000  1342900   12.88%\n",
      "  15869  4837      296.8286   109      264.0000      298.0000  1348269   12.88%\n",
      "  16083  4847      297.8413    64      264.0000      298.0000  1367760   12.88%\n",
      "  16266  4943      281.4994    39      264.0000      298.0000  1411186   12.88%\n",
      "Elapsed time = 326.31 sec. (86555.90 ticks, tree = 85.68 MB, solutions = 6)\n",
      "  16475  4955      298.0000    53      264.0000      298.0000  1423330   12.88%\n",
      "  16664  4991        cutoff            264.0000      298.0000  1442235   12.88%\n",
      "  16874  4995      297.5962    53      264.0000      298.0000  1447512   12.88%\n",
      "  17141  5088    infeasible            264.0000      298.0000  1465654   12.88%\n",
      "  17329  5249      293.6808    64      264.0000      298.0000  1506258   12.88%\n",
      "  17486  5256      296.3739    71      264.0000      298.0000  1517262   12.88%\n",
      "  17650  5306      279.4615    46      264.0000      298.0000  1538216   12.88%\n",
      "  17795  5338      297.9904    75      264.0000      298.0000  1558615   12.88%\n",
      "  17901  5394      298.0000    94      264.0000      298.0000  1575395   12.88%\n",
      "  18597  5536    infeasible            264.0000      298.0000  1650689   12.88%\n",
      "Elapsed time = 372.58 sec. (98993.39 ticks, tree = 104.52 MB, solutions = 6)\n",
      "  19444  5869      283.0000    71      264.0000      298.0000  1736709   12.88%\n",
      "  20163  5979      283.0000    90      264.0000      298.0000  1787594   12.88%\n",
      "  21028  6115      292.5000    95      264.0000      298.0000  1863867   12.88%\n",
      "  21827  6572        cutoff            264.0000      298.0000  1969114   12.88%\n",
      "  22450  6672      283.0000    54      264.0000      298.0000  2035510   12.88%\n",
      "  23109  6764      298.0000    60      264.0000      298.0000  2087993   12.88%\n",
      "  24183  7108      283.0000    50      264.0000      298.0000  2184890   12.88%\n",
      "  25241  7816      297.5183    90      264.0000      298.0000  2285852   12.88%\n",
      "  26031  7968      298.0000    89      264.0000      298.0000  2335587   12.88%\n",
      "* 27102+ 8520                          271.0000      298.0000             9.96%\n",
      "  27132  8255      298.0000    72      271.0000      298.0000  2415173    9.96%\n",
      "Elapsed time = 504.81 sec. (137185.53 ticks, tree = 200.39 MB, solutions = 6)\n",
      "  27457  8639      294.2168    89      271.0000      298.0000  2499018    9.96%\n",
      "* 27644+ 8520                          279.0000      298.0000             6.81%\n",
      "  27835  8718      279.8390    63      279.0000      298.0000  2530033    6.81%\n",
      "* 27845+ 8589                          282.0000      298.0000             5.67%\n",
      "  28311  9005      298.0000    94      282.0000      298.0000  2560485    5.67%\n",
      "* 29198+ 8520                          285.0000      298.0000             4.56%\n",
      "  29579  7786      295.8926    63      285.0000      298.0000  2604449    4.56%\n",
      "  30378  5984        cutoff            285.0000      298.0000  2669720    4.56%\n",
      "  31133  6061        cutoff            285.0000      298.0000  2729357    4.56%\n",
      "  32221  6662      286.0000    46      285.0000      298.0000  2795336    4.56%\n",
      "  33113  7009      286.0000    51      285.0000      298.0000  2836328    4.56%\n",
      "  34083  7603      298.0000    96      285.0000      298.0000  2898955    4.56%\n",
      "  35470  8456      298.0000    74      285.0000      298.0000  3004548    4.56%\n",
      "Elapsed time = 669.91 sec. (175400.36 ticks, tree = 221.88 MB, solutions = 12)\n",
      "  36153  8810      297.1104    82      285.0000      298.0000  3071884    4.56%\n",
      "  37138  9272      294.6667    75      285.0000      298.0000  3143970    4.56%\n",
      "  37881  9717      298.0000    93      285.0000      298.0000  3206313    4.56%\n",
      "  38974 10235      297.7799    88      285.0000      298.0000  3272525    4.56%\n",
      "  39520 10718      298.0000    81      285.0000      298.0000  3343849    4.56%\n",
      "  40371 10955      286.0000    84      285.0000      298.0000  3424644    4.56%\n",
      "  41148 11438        cutoff            285.0000      298.0000  3493229    4.56%\n",
      "  42131 12017      289.8571    70      285.0000      298.0000  3577442    4.56%\n",
      "  43411 12688      295.9090    70      285.0000      298.0000  3633281    4.56%\n"
     ]
    },
    {
     "name": "stdout",
     "output_type": "stream",
     "text": [
      "  44037 13241      298.0000    85      285.0000      298.0000  3712236    4.56%\n",
      "Elapsed time = 816.95 sec. (213588.66 ticks, tree = 404.99 MB, solutions = 12)\n",
      "  44142 13215      298.0000    93      285.0000      298.0000  3724729    4.56%\n",
      "  44636 13307      298.0000    84      285.0000      298.0000  3745221    4.56%\n",
      "  45192 13727      298.0000    88      285.0000      298.0000  3814032    4.56%\n",
      "  46123 14108      293.8333    74      285.0000      298.0000  3862696    4.56%\n",
      "  46948 14534      296.9587    80      285.0000      298.0000  3920721    4.56%\n",
      "  47450 14730        cutoff            285.0000      298.0000  3975406    4.56%\n",
      "  48482 15201      298.0000    74      285.0000      298.0000  4027756    4.56%\n",
      "  49342 15537      294.0000    78      285.0000      298.0000  4083583    4.56%\n",
      "  49988 15963      298.0000    79      285.0000      298.0000  4148437    4.56%\n",
      "  51063 16517      293.0000    75      285.0000      298.0000  4229087    4.56%\n",
      "Elapsed time = 973.03 sec. (251799.44 ticks, tree = 532.81 MB, solutions = 12)\n",
      "  51604 16808      298.0000    83      285.0000      298.0000  4313508    4.56%\n",
      "  52092 16864    infeasible            285.0000      298.0000  4358476    4.56%\n",
      "  53283 17201        cutoff            285.0000      298.0000  4420274    4.56%\n",
      "  54083 17729        cutoff            285.0000      298.0000  4506868    4.56%\n",
      "  55276 17990    infeasible            285.0000      298.0000  4570596    4.56%\n",
      "  56310 18559      297.8987   102      285.0000      298.0000  4654032    4.56%\n",
      "  57041 18818      286.0000    80      285.0000      298.0000  4712144    4.56%\n",
      "  58274 19387      286.0000    80      285.0000      298.0000  4784261    4.56%\n",
      "  58994 19911      297.8396    88      285.0000      298.0000  4866526    4.56%\n",
      "  59869 20239      286.0000    62      285.0000      298.0000  4923624    4.56%\n",
      "Elapsed time = 1132.50 sec. (290027.24 ticks, tree = 680.85 MB, solutions = 12)\n",
      "  60796 20673      293.2000    83      285.0000      298.0000  5005126    4.56%\n",
      "  61368 20802        cutoff            285.0000      298.0000  5063739    4.56%\n",
      "  62060 21007      298.0000   110      285.0000      298.0000  5134917    4.56%\n",
      "  62999 21536      291.5000    73      285.0000      298.0000  5210627    4.56%\n",
      "  63562 21667      286.0000    77      285.0000      298.0000  5269820    4.56%\n",
      "  64627 21888      297.5742    89      285.0000      298.0000  5324555    4.56%\n",
      "  65324 22339      297.5739   111      285.0000      298.0000  5389917    4.56%\n",
      "  66037 22601      297.1874    67      285.0000      298.0000  5466028    4.56%\n",
      "  67298 23293      294.0000    65      285.0000      298.0000  5552830    4.56%\n",
      "  67897 23738      296.0995    70      285.0000      298.0000  5627049    4.56%\n",
      "Elapsed time = 1301.38 sec. (328211.10 ticks, tree = 821.22 MB, solutions = 12)\n",
      "  68707 23907      298.0000    64      285.0000      298.0000  5677054    4.56%\n",
      "  69603 24414      298.0000    89      285.0000      298.0000  5778085    4.56%\n",
      "  70772 24825      298.0000    86      285.0000      298.0000  5829822    4.56%\n",
      "  72819 25313      298.0000    82      285.0000      298.0000  5886084    4.56%\n",
      "  73799 26220      298.0000    68      285.0000      298.0000  6001597    4.56%\n",
      "  74930 26453      297.3717    78      285.0000      298.0000  6030198    4.56%\n",
      "  76048 27071      286.0000   114      285.0000      298.0000  6125637    4.56%\n",
      "  76820 27504      292.1845    72      285.0000      298.0000  6203141    4.56%\n",
      "  78232 27886      298.0000   102      285.0000      298.0000  6282767    4.56%\n",
      "  79401 28268    infeasible            285.0000      298.0000  6359532    4.56%\n",
      "Elapsed time = 1608.75 sec. (366392.32 ticks, tree = 1003.36 MB, solutions = 12)\n",
      "  80172 28441    infeasible            285.0000      298.0000  6413066    4.56%\n",
      "  81934 28634      298.0000    73      285.0000      298.0000  6471953    4.56%\n",
      "  83095 29373      287.4153    74      285.0000      298.0000  6567006    4.56%\n",
      "  83735 29460        cutoff            285.0000      298.0000  6644253    4.56%\n",
      "  84908 29752    infeasible            285.0000      298.0000  6693810    4.56%\n",
      "  85578 30144      298.0000    67      285.0000      298.0000  6779443    4.56%\n",
      "  86796 30413        cutoff            285.0000      298.0000  6844603    4.56%\n",
      "  87819 30694      286.0000    79      285.0000      298.0000  6898519    4.56%\n",
      "  88480 31063      298.0000    77      285.0000      298.0000  6999421    4.56%\n",
      "  89416 31216      286.0000   100      285.0000      298.0000  7055699    4.56%\n",
      "Elapsed time = 1833.16 sec. (404599.77 ticks, tree = 1123.54 MB, solutions = 12)\n",
      "  90186 31843      286.0000    83      285.0000      298.0000  7145640    4.56%\n",
      "  90703 31932    infeasible            285.0000      298.0000  7179553    4.56%\n",
      "  91847 32293        cutoff            285.0000      298.0000  7253550    4.56%\n",
      "  92516 32798    infeasible            285.0000      298.0000  7330064    4.56%\n",
      "  93638 33102      286.0000   102      285.0000      298.0000  7395849    4.56%\n",
      "  94778 33484      298.0000   116      285.0000      298.0000  7462686    4.56%\n",
      "  95554 33808        cutoff            285.0000      298.0000  7541704    4.56%\n",
      "  96797 34228      298.0000    64      285.0000      298.0000  7620410    4.56%\n",
      "  97747 34674      295.8498    80      285.0000      298.0000  7694703    4.56%\n",
      "  98581 34973      295.6774    73      285.0000      298.0000  7751339    4.56%\n",
      "Elapsed time = 2074.86 sec. (442800.55 ticks, tree = 1279.03 MB, solutions = 12)\n",
      "  99721 35358      286.0000    66      285.0000      298.0000  7831868    4.56%\n",
      " 100422 35714      294.5000    86      285.0000      298.0000  7903208    4.56%\n",
      " 101224 35986      298.0000    62      285.0000      298.0000  7958522    4.56%\n",
      " 102085 36487      298.0000    60      285.0000      298.0000  8031032    4.56%\n",
      " 102599 36639      297.1933    69      285.0000      298.0000  8072237    4.56%\n",
      " 103563 36968      295.1200    82      285.0000      298.0000  8126966    4.56%\n",
      " 104888 37596      296.5656   105      285.0000      298.0000  8209975    4.56%\n",
      " 105502 37748      290.0000    97      285.0000      298.0000  8263457    4.56%\n",
      " 106300 37897      298.0000    97      285.0000      298.0000  8318466    4.56%\n",
      " 107248 38085        cutoff            285.0000      298.0000  8370780    4.56%\n",
      "Elapsed time = 2400.63 sec. (481015.54 ticks, tree = 1408.09 MB, solutions = 12)\n",
      " 107705 38334      298.0000    97      285.0000      298.0000  8437555    4.56%\n",
      " 108856 38549      297.5565    93      285.0000      298.0000  8523028    4.56%\n",
      " 109361 38935      298.0000    68      285.0000      298.0000  8579822    4.56%\n",
      " 110195 39225      286.0000    79      285.0000      298.0000  8654638    4.56%\n",
      " 111126 39521      296.7569    66      285.0000      298.0000  8722955    4.56%\n",
      " 111652 39824      298.0000    75      285.0000      298.0000  8778464    4.56%\n",
      " 112588 40107      295.6359    73      285.0000      298.0000  8868734    4.56%\n",
      " 113476 40456      297.0476   100      285.0000      298.0000  8911212    4.56%\n",
      " 114027 40821      291.3258   120      285.0000      298.0000  9007654    4.56%\n",
      " 114831 40973      298.0000    77      285.0000      298.0000  9057081    4.56%\n",
      "Elapsed time = 2657.47 sec. (519206.71 ticks, tree = 1528.01 MB, solutions = 12)\n",
      " 116042 41265      298.0000    85      285.0000      298.0000  9106038    4.56%\n",
      " 116734 41983      297.9132    68      285.0000      298.0000  9219555    4.56%\n",
      " 118112 42539      298.0000    65      285.0000      298.0000  9274547    4.56%\n",
      " 119361 43140      298.0000    91      285.0000      298.0000  9347034    4.56%\n",
      " 119982 43824      298.0000    72      285.0000      298.0000  9433956    4.56%\n",
      " 120321 43972      298.0000    63      285.0000      298.0000  9457515    4.56%\n",
      " 121086 44132      298.0000    78      285.0000      298.0000  9498122    4.56%\n",
      " 122287 44622        cutoff            285.0000      298.0000  9595600    4.56%\n",
      " 122965 44846        cutoff            285.0000      298.0000  9628749    4.56%\n",
      " 124087 45113        cutoff            285.0000      298.0000  9708086    4.56%\n",
      "Elapsed time = 3019.31 sec. (557450.41 ticks, tree = 1700.28 MB, solutions = 12)\n",
      " 125070 45746        cutoff            285.0000      298.0000  9810578    4.56%\n",
      " 125818 45999      286.0000    78      285.0000      298.0000  9860453    4.56%\n"
     ]
    },
    {
     "name": "stdout",
     "output_type": "stream",
     "text": [
      " 127009 46195      293.2453    78      285.0000      298.0000  9904831    4.56%\n",
      " 127917 47010      298.0000    68      285.0000      298.0000 10024473    4.56%\n",
      " 128538 47103      298.0000    81      285.0000      298.0000 10066761    4.56%\n",
      " 129676 47343      286.0000    80      285.0000      298.0000 10133088    4.56%\n",
      "Starting limited solution polishing.\n",
      " 130469 48065      297.6937   102      285.0000      298.0000 10238172    4.56%\n",
      " 130991 48173      298.0000    74      285.0000      298.0000 10282778    4.56%\n",
      "*131505+48245                          290.0000      298.0000             2.76%\n",
      " 131584 48295      286.0000    71      290.0000      298.0000 10348667    2.76%\n",
      " 132423 35451      298.0000    86      290.0000      298.0000 10409369    2.76%\n",
      "Elapsed time = 3459.19 sec. (595656.57 ticks, tree = 1332.37 MB, solutions = 13)\n",
      "*132799+35350                          298.0000      298.0000             0.00%\n",
      " 132889 35617      298.0000   116      298.0000      298.0000 10478670    0.00%\n",
      "\n",
      "GUB cover cuts applied:  10\n",
      "Clique cuts applied:  126\n",
      "Cover cuts applied:  189\n",
      "Implied bound cuts applied:  669\n",
      "Flow cuts applied:  29\n",
      "Mixed integer rounding cuts applied:  202\n",
      "Gomory fractional cuts applied:  4\n",
      "\n",
      "Root node processing (before b&c):\n",
      "  Real time             =    5.28 sec. (1222.44 ticks)\n",
      "Parallel b&c, 4 threads:\n",
      "  Real time             = 3632.23 sec. (602012.69 ticks)\n",
      "  Sync time (average)   =  467.61 sec.\n",
      "  Wait time (average)   =    0.02 sec.\n",
      "                          ------------\n",
      "Total (root+branch&cut) = 3637.51 sec. (603235.12 ticks)\n",
      "\n",
      "Solution pool: 16 solutions saved.\n",
      "\n",
      "MIP - Integer optimal solution:  Objective =  2.9800000000e+02\n",
      "Solution time = 3637.55 sec.  Iterations = 10524495  Nodes = 132994\n",
      "Deterministic time = 603235.13 ticks  (165.84 ticks/sec)\n",
      "\n",
      "CPLEX> Incumbent solution written to file 'C:\\Users\\User\\AppData\\Local\\Temp\\tmp_0qjxdn1.cplex.sol'.\n",
      "CPLEX> "
     ]
    }
   ],
   "source": [
    "# Solver\n",
    "\n",
    "TimeLimit = 3600\n",
    "\n",
    "opt = pyo.SolverFactory('cplex', executable='C:/Program Files/IBM/ILOG/CPLEX_Studio201/cplex/bin/x64_win64/cplex')\n",
    "opt.options['TimeLimit'] = TimeLimit\n",
    "\n",
    "\n",
    "results = opt.solve(model, tee=True)"
   ]
  },
  {
   "cell_type": "code",
   "execution_count": 119,
   "id": "9e1f3e54",
   "metadata": {},
   "outputs": [
    {
     "name": "stdout",
     "output_type": "stream",
     "text": [
      "x[0, 2] == 1.0\n",
      "x[1, 3] == 1.0\n",
      "x[2, 12] == 1.0\n",
      "x[3, 33] == 1.0\n",
      "x[4, 36] == 1.0\n",
      "x[5, 37] == 1.0\n",
      "x[6, 38] == 1.0\n",
      "x[7, 39] == 1.0\n",
      "x[8, 40] == 1.0\n",
      "x[9, 25] == 1.0\n",
      "x[10, 7] == 1.0\n",
      "x[11, 43] == 1.0\n",
      "x[12, 44] == 1.0\n",
      "x[13, 45] == 1.0\n",
      "x[14, 46] == 1.0\n",
      "x[15, 47] == 1.0\n",
      "x[16, 48] == 1.0\n",
      "x[17, 49] == 1.0\n",
      "x[18, 50] == 1.0\n",
      "x[19, 51] == 1.0\n",
      "x[20, 52] == 1.0\n",
      "x[21, 53] == 1.0\n",
      "x[22, 54] == 1.0\n",
      "x[23, 55] == 1.0\n",
      "x[24, 56] == 1.0\n",
      "x[25, 57] == 1.0\n",
      "x[26, 58] == 1.0\n",
      "x[27, 59] == 1.0\n",
      "x[28, 60] == 1.0\n",
      "x[29, 61] == 1.0\n",
      "x[30, 62] == 1.0\n",
      "x[31, 63] == 1.0\n",
      "x[32, 64] == 1.0\n",
      "x[33, 65] == 1.0\n",
      "x[34, 66] == 1.0\n",
      "x[35, 66] == 1.0\n",
      "x[36, 29] == 1.0\n",
      "x[37, 35] == 1.0\n",
      "x[38, 21] == 1.0\n",
      "x[39, 42] == 1.0\n",
      "x[40, 23] == 1.0\n",
      "x[41, 22] == 1.0\n",
      "x[42, 32] == 1.0\n",
      "x[43, 41] == 1.0\n",
      "x[44, 19] == 1.0\n",
      "x[45, 4] == 1.0\n",
      "x[46, 6] == 1.0\n",
      "x[47, 13] == 1.0\n",
      "x[48, 8] == 1.0\n",
      "x[49, 14] == 1.0\n",
      "x[50, 10] == 1.0\n",
      "x[51, 27] == 1.0\n",
      "x[52, 15] == 1.0\n",
      "x[53, 9] == 1.0\n",
      "x[54, 24] == 1.0\n",
      "x[55, 30] == 1.0\n",
      "x[56, 18] == 1.0\n",
      "x[57, 11] == 1.0\n",
      "x[58, 31] == 1.0\n",
      "x[59, 17] == 1.0\n",
      "x[60, 16] == 1.0\n",
      "x[61, 26] == 1.0\n",
      "x[62, 5] == 1.0\n",
      "x[63, 28] == 1.0\n",
      "x[64, 34] == 1.0\n",
      "x[65, 20] == 1.0\n"
     ]
    }
   ],
   "source": [
    "for i in model.setN:\n",
    "    for j in model.setN:\n",
    "        \n",
    "        if pyo.value(model.x[i,j]) > 0.01:\n",
    "        \n",
    "            print(f'x[{i}, {j}] == {pyo.value(model.x[i,j])}')"
   ]
  },
  {
   "cell_type": "code",
   "execution_count": 120,
   "id": "84be14bc",
   "metadata": {},
   "outputs": [
    {
     "name": "stdout",
     "output_type": "stream",
     "text": [
      "[[0, 2, 12, 44, 19, 51, 27, 59, 17, 49, 14, 46, 6, 38, 21, 53, 9, 25, 57, 11, 43, 41, 22, 54, 24, 56, 18, 50, 10, 7, 39, 42, 32, 64, 34, 66], [1, 3, 33, 65, 20, 52, 15, 47, 13, 45, 4, 36, 29, 61, 26, 58, 31, 63, 28, 60, 16, 48, 8, 40, 23, 55, 30, 62, 5, 37, 35, 66]]\n"
     ]
    }
   ],
   "source": [
    "# Getting routes on solution\n",
    "\n",
    "routes = []\n",
    "\n",
    "# Start visiting nodes\n",
    "\n",
    "for i in model.setS_i:\n",
    "    \n",
    "    for j in model.setN:\n",
    "\n",
    "        if pyo.value(model.x[i,j]) > 0.1:\n",
    "\n",
    "            routes.append([i, j])\n",
    "        \n",
    "# Iterating for each route\n",
    "\n",
    "for route in routes:\n",
    "    \n",
    "    last_node = route[-1]\n",
    "    \n",
    "    cont = 0\n",
    "    \n",
    "    while (last_node not in model.setS_f):\n",
    "        \n",
    "        cont += 1\n",
    "        \n",
    "        if cont == 100:\n",
    "            \n",
    "            break\n",
    "\n",
    "        last_node = route[-1]\n",
    "\n",
    "        for j in model.setN:\n",
    "\n",
    "            if pyo.value(model.x[last_node,j]) > 0.1:\n",
    "\n",
    "                route.append(j)\n",
    "\n",
    "\n",
    "print(routes)"
   ]
  },
  {
   "cell_type": "code",
   "execution_count": 123,
   "id": "2611b13e",
   "metadata": {},
   "outputs": [
    {
     "data": {
      "application/vnd.plotly.v1+json": {
       "config": {
        "plotlyServerURL": "https://plot.ly"
       },
       "data": [
        {
         "customdata": [
          [
           0,
           "Depot",
           0
          ],
          [
           0,
           "Depot",
           1
          ],
          [
           0,
           "Depot",
           66
          ],
          [
           0,
           "Depot",
           67
          ]
         ],
         "hovertemplate": "type=%{customdata[1]}<br>index=%{customdata[2]}<br>d=%{customdata[0]}<extra></extra>",
         "legendgroup": "Depot",
         "marker": {
          "color": "#636efa",
          "symbol": "square"
         },
         "mode": "markers+text",
         "name": "Depot",
         "orientation": "v",
         "showlegend": true,
         "text": [
          0,
          1,
          66,
          67
         ],
         "textposition": "top center",
         "type": "scatter",
         "x": [
          19.942,
          26.591,
          19.942,
          26.591
         ],
         "xaxis": "x",
         "y": [
          16.269,
          36.243,
          16.269,
          36.243
         ],
         "yaxis": "y"
        },
        {
         "customdata": [
          [
           1,
           "Artificial pickup",
           2
          ],
          [
           0,
           "Artificial pickup",
           3
          ]
         ],
         "hovertemplate": "type=%{customdata[1]}<br>index=%{customdata[2]}<br>d=%{customdata[0]}<extra></extra>",
         "legendgroup": "Artificial pickup",
         "marker": {
          "color": "#EF553B",
          "symbol": "star"
         },
         "mode": "markers+text",
         "name": "Artificial pickup",
         "orientation": "v",
         "showlegend": true,
         "text": [
          2,
          3
         ],
         "textposition": "top center",
         "type": "scatter",
         "x": [
          19.942,
          26.591
         ],
         "xaxis": "x",
         "y": [
          16.269,
          36.243
         ],
         "yaxis": "y"
        },
        {
         "customdata": [
          [
           7,
           "Pickup",
           4
          ],
          [
           9,
           "Pickup",
           5
          ],
          [
           15,
           "Pickup",
           6
          ],
          [
           5,
           "Pickup",
           7
          ],
          [
           12,
           "Pickup",
           8
          ],
          [
           5,
           "Pickup",
           9
          ],
          [
           10,
           "Pickup",
           10
          ],
          [
           8,
           "Pickup",
           11
          ],
          [
           11,
           "Pickup",
           12
          ],
          [
           12,
           "Pickup",
           13
          ],
          [
           8,
           "Pickup",
           14
          ],
          [
           14,
           "Pickup",
           15
          ],
          [
           15,
           "Pickup",
           16
          ],
          [
           8,
           "Pickup",
           17
          ],
          [
           11,
           "Pickup",
           18
          ],
          [
           11,
           "Pickup",
           19
          ],
          [
           5,
           "Pickup",
           20
          ],
          [
           11,
           "Pickup",
           21
          ],
          [
           7,
           "Pickup",
           22
          ],
          [
           10,
           "Pickup",
           23
          ],
          [
           13,
           "Pickup",
           24
          ],
          [
           10,
           "Pickup",
           25
          ],
          [
           10,
           "Pickup",
           26
          ],
          [
           14,
           "Pickup",
           27
          ],
          [
           10,
           "Pickup",
           28
          ],
          [
           13,
           "Pickup",
           29
          ],
          [
           6,
           "Pickup",
           30
          ],
          [
           8,
           "Pickup",
           31
          ],
          [
           9,
           "Pickup",
           32
          ],
          [
           11,
           "Pickup",
           33
          ]
         ],
         "hovertemplate": "type=%{customdata[1]}<br>index=%{customdata[2]}<br>d=%{customdata[0]}<extra></extra>",
         "legendgroup": "Pickup",
         "marker": {
          "color": "#00cc96",
          "symbol": "cross"
         },
         "mode": "markers+text",
         "name": "Pickup",
         "orientation": "v",
         "showlegend": true,
         "text": [
          4,
          5,
          6,
          7,
          8,
          9,
          10,
          11,
          12,
          13,
          14,
          15,
          16,
          17,
          18,
          19,
          20,
          21,
          22,
          23,
          24,
          25,
          26,
          27,
          28,
          29,
          30,
          31,
          32,
          33
         ],
         "textposition": "top center",
         "type": "scatter",
         "x": [
          19.942,
          19.942,
          19.942,
          19.942,
          19.942,
          19.942,
          19.942,
          19.942,
          19.942,
          19.942,
          19.942,
          19.942,
          19.942,
          19.942,
          19.942,
          26.591,
          26.591,
          26.591,
          26.591,
          26.591,
          26.591,
          26.591,
          26.591,
          26.591,
          26.591,
          26.591,
          26.591,
          26.591,
          26.591,
          26.591
         ],
         "xaxis": "x",
         "y": [
          16.269,
          16.269,
          16.269,
          16.269,
          16.269,
          16.269,
          16.269,
          16.269,
          16.269,
          16.269,
          16.269,
          16.269,
          16.269,
          16.269,
          16.269,
          36.243,
          36.243,
          36.243,
          36.243,
          36.243,
          36.243,
          36.243,
          36.243,
          36.243,
          36.243,
          36.243,
          36.243,
          36.243,
          36.243,
          36.243
         ],
         "yaxis": "y"
        },
        {
         "customdata": [
          [
           -1,
           "Artificial delivery",
           34
          ],
          [
           0,
           "Artificial delivery",
           35
          ]
         ],
         "hovertemplate": "type=%{customdata[1]}<br>index=%{customdata[2]}<br>d=%{customdata[0]}<extra></extra>",
         "legendgroup": "Artificial delivery",
         "marker": {
          "color": "#ab63fa",
          "symbol": "star"
         },
         "mode": "markers+text",
         "name": "Artificial delivery",
         "orientation": "v",
         "showlegend": true,
         "text": [
          34,
          35
         ],
         "textposition": "top center",
         "type": "scatter",
         "x": [
          19.942,
          26.591
         ],
         "xaxis": "x",
         "y": [
          16.269,
          36.243
         ],
         "yaxis": "y"
        },
        {
         "customdata": [
          [
           -7,
           "Delivery",
           36
          ],
          [
           -9,
           "Delivery",
           37
          ],
          [
           -15,
           "Delivery",
           38
          ],
          [
           -5,
           "Delivery",
           39
          ],
          [
           -12,
           "Delivery",
           40
          ],
          [
           -5,
           "Delivery",
           41
          ],
          [
           -10,
           "Delivery",
           42
          ],
          [
           -8,
           "Delivery",
           43
          ],
          [
           -11,
           "Delivery",
           44
          ],
          [
           -12,
           "Delivery",
           45
          ],
          [
           -8,
           "Delivery",
           46
          ],
          [
           -14,
           "Delivery",
           47
          ],
          [
           -15,
           "Delivery",
           48
          ],
          [
           -8,
           "Delivery",
           49
          ],
          [
           -11,
           "Delivery",
           50
          ],
          [
           -11,
           "Delivery",
           51
          ],
          [
           -5,
           "Delivery",
           52
          ],
          [
           -11,
           "Delivery",
           53
          ],
          [
           -7,
           "Delivery",
           54
          ],
          [
           -10,
           "Delivery",
           55
          ],
          [
           -13,
           "Delivery",
           56
          ],
          [
           -10,
           "Delivery",
           57
          ],
          [
           -10,
           "Delivery",
           58
          ],
          [
           -14,
           "Delivery",
           59
          ],
          [
           -10,
           "Delivery",
           60
          ],
          [
           -13,
           "Delivery",
           61
          ],
          [
           -6,
           "Delivery",
           62
          ],
          [
           -8,
           "Delivery",
           63
          ],
          [
           -9,
           "Delivery",
           64
          ],
          [
           -11,
           "Delivery",
           65
          ]
         ],
         "hovertemplate": "type=%{customdata[1]}<br>index=%{customdata[2]}<br>d=%{customdata[0]}<extra></extra>",
         "legendgroup": "Delivery",
         "marker": {
          "color": "#FFA15A",
          "symbol": "x"
         },
         "mode": "markers+text",
         "name": "Delivery",
         "orientation": "v",
         "showlegend": true,
         "text": [
          36,
          37,
          38,
          39,
          40,
          41,
          42,
          43,
          44,
          45,
          46,
          47,
          48,
          49,
          50,
          51,
          52,
          53,
          54,
          55,
          56,
          57,
          58,
          59,
          60,
          61,
          62,
          63,
          64,
          65
         ],
         "textposition": "top center",
         "type": "scatter",
         "x": [
          35.573,
          36.158,
          43.76,
          13.387,
          21.442,
          4.515,
          14.379,
          17.381,
          43.627,
          0.062,
          42.389,
          6.799,
          24.429,
          44.972,
          30.09,
          17.571,
          30.378,
          20.594,
          19.93,
          5.808,
          0.497,
          43.952,
          13.843,
          19.524,
          30.948,
          15.145,
          18.778,
          47.436,
          6.843,
          17.743
         ],
         "xaxis": "x",
         "y": [
          46.733,
          11.897,
          46.624,
          36.048,
          34.131,
          24.464,
          35.446,
          24.472,
          19.724,
          49.145,
          13.101,
          22.468,
          6.787,
          41.699,
          18.098,
          39.599,
          32.49,
          9.692,
          25.913,
          45.172,
          25.269,
          38.259,
          16.968,
          12.881,
          13.248,
          19.745,
          35.536,
          7.99,
          25.729,
          42.465
         ],
         "yaxis": "y"
        }
       ],
       "layout": {
        "font": {
         "size": 9
        },
        "legend": {
         "title": {
          "text": "type"
         },
         "tracegroupgap": 0
        },
        "margin": {
         "t": 60
        },
        "shapes": [
         {
          "line": {
           "color": "#5F9EA0",
           "width": 3
          },
          "opacity": 0.2,
          "type": "line",
          "visible": true,
          "x0": 19.942,
          "x1": 19.942,
          "y0": 16.269,
          "y1": 16.269
         },
         {
          "line": {
           "color": "#5F9EA0",
           "width": 3
          },
          "opacity": 0.2,
          "type": "line",
          "visible": true,
          "x0": 19.942,
          "x1": 19.942,
          "y0": 16.269,
          "y1": 16.269
         },
         {
          "line": {
           "color": "#5F9EA0",
           "width": 3
          },
          "opacity": 0.2,
          "type": "line",
          "visible": true,
          "x0": 19.942,
          "x1": 43.627,
          "y0": 16.269,
          "y1": 19.724
         },
         {
          "line": {
           "color": "#5F9EA0",
           "width": 3
          },
          "opacity": 0.2,
          "type": "line",
          "visible": true,
          "x0": 43.627,
          "x1": 26.591,
          "y0": 19.724,
          "y1": 36.243
         },
         {
          "line": {
           "color": "#5F9EA0",
           "width": 3
          },
          "opacity": 0.2,
          "type": "line",
          "visible": true,
          "x0": 26.591,
          "x1": 17.571,
          "y0": 36.243,
          "y1": 39.599
         },
         {
          "line": {
           "color": "#5F9EA0",
           "width": 3
          },
          "opacity": 0.2,
          "type": "line",
          "visible": true,
          "x0": 17.571,
          "x1": 26.591,
          "y0": 39.599,
          "y1": 36.243
         },
         {
          "line": {
           "color": "#5F9EA0",
           "width": 3
          },
          "opacity": 0.2,
          "type": "line",
          "visible": true,
          "x0": 26.591,
          "x1": 19.524,
          "y0": 36.243,
          "y1": 12.881
         },
         {
          "line": {
           "color": "#5F9EA0",
           "width": 3
          },
          "opacity": 0.2,
          "type": "line",
          "visible": true,
          "x0": 19.524,
          "x1": 19.942,
          "y0": 12.881,
          "y1": 16.269
         },
         {
          "line": {
           "color": "#5F9EA0",
           "width": 3
          },
          "opacity": 0.2,
          "type": "line",
          "visible": true,
          "x0": 19.942,
          "x1": 44.972,
          "y0": 16.269,
          "y1": 41.699
         },
         {
          "line": {
           "color": "#5F9EA0",
           "width": 3
          },
          "opacity": 0.2,
          "type": "line",
          "visible": true,
          "x0": 44.972,
          "x1": 19.942,
          "y0": 41.699,
          "y1": 16.269
         },
         {
          "line": {
           "color": "#5F9EA0",
           "width": 3
          },
          "opacity": 0.2,
          "type": "line",
          "visible": true,
          "x0": 19.942,
          "x1": 42.389,
          "y0": 16.269,
          "y1": 13.101
         },
         {
          "line": {
           "color": "#5F9EA0",
           "width": 3
          },
          "opacity": 0.2,
          "type": "line",
          "visible": true,
          "x0": 42.389,
          "x1": 19.942,
          "y0": 13.101,
          "y1": 16.269
         },
         {
          "line": {
           "color": "#5F9EA0",
           "width": 3
          },
          "opacity": 0.2,
          "type": "line",
          "visible": true,
          "x0": 19.942,
          "x1": 43.76,
          "y0": 16.269,
          "y1": 46.624
         },
         {
          "line": {
           "color": "#5F9EA0",
           "width": 3
          },
          "opacity": 0.2,
          "type": "line",
          "visible": true,
          "x0": 43.76,
          "x1": 26.591,
          "y0": 46.624,
          "y1": 36.243
         },
         {
          "line": {
           "color": "#5F9EA0",
           "width": 3
          },
          "opacity": 0.2,
          "type": "line",
          "visible": true,
          "x0": 26.591,
          "x1": 20.594,
          "y0": 36.243,
          "y1": 9.692
         },
         {
          "line": {
           "color": "#5F9EA0",
           "width": 3
          },
          "opacity": 0.2,
          "type": "line",
          "visible": true,
          "x0": 20.594,
          "x1": 19.942,
          "y0": 9.692,
          "y1": 16.269
         },
         {
          "line": {
           "color": "#5F9EA0",
           "width": 3
          },
          "opacity": 0.2,
          "type": "line",
          "visible": true,
          "x0": 19.942,
          "x1": 26.591,
          "y0": 16.269,
          "y1": 36.243
         },
         {
          "line": {
           "color": "#5F9EA0",
           "width": 3
          },
          "opacity": 0.2,
          "type": "line",
          "visible": true,
          "x0": 26.591,
          "x1": 43.952,
          "y0": 36.243,
          "y1": 38.259
         },
         {
          "line": {
           "color": "#5F9EA0",
           "width": 3
          },
          "opacity": 0.2,
          "type": "line",
          "visible": true,
          "x0": 43.952,
          "x1": 19.942,
          "y0": 38.259,
          "y1": 16.269
         },
         {
          "line": {
           "color": "#5F9EA0",
           "width": 3
          },
          "opacity": 0.2,
          "type": "line",
          "visible": true,
          "x0": 19.942,
          "x1": 17.381,
          "y0": 16.269,
          "y1": 24.472
         },
         {
          "line": {
           "color": "#5F9EA0",
           "width": 3
          },
          "opacity": 0.2,
          "type": "line",
          "visible": true,
          "x0": 17.381,
          "x1": 4.515,
          "y0": 24.472,
          "y1": 24.464
         },
         {
          "line": {
           "color": "#5F9EA0",
           "width": 3
          },
          "opacity": 0.2,
          "type": "line",
          "visible": true,
          "x0": 4.515,
          "x1": 26.591,
          "y0": 24.464,
          "y1": 36.243
         },
         {
          "line": {
           "color": "#5F9EA0",
           "width": 3
          },
          "opacity": 0.2,
          "type": "line",
          "visible": true,
          "x0": 26.591,
          "x1": 19.93,
          "y0": 36.243,
          "y1": 25.913
         },
         {
          "line": {
           "color": "#5F9EA0",
           "width": 3
          },
          "opacity": 0.2,
          "type": "line",
          "visible": true,
          "x0": 19.93,
          "x1": 26.591,
          "y0": 25.913,
          "y1": 36.243
         },
         {
          "line": {
           "color": "#5F9EA0",
           "width": 3
          },
          "opacity": 0.2,
          "type": "line",
          "visible": true,
          "x0": 26.591,
          "x1": 0.497,
          "y0": 36.243,
          "y1": 25.269
         },
         {
          "line": {
           "color": "#5F9EA0",
           "width": 3
          },
          "opacity": 0.2,
          "type": "line",
          "visible": true,
          "x0": 0.497,
          "x1": 19.942,
          "y0": 25.269,
          "y1": 16.269
         },
         {
          "line": {
           "color": "#5F9EA0",
           "width": 3
          },
          "opacity": 0.2,
          "type": "line",
          "visible": true,
          "x0": 19.942,
          "x1": 30.09,
          "y0": 16.269,
          "y1": 18.098
         },
         {
          "line": {
           "color": "#5F9EA0",
           "width": 3
          },
          "opacity": 0.2,
          "type": "line",
          "visible": true,
          "x0": 30.09,
          "x1": 19.942,
          "y0": 18.098,
          "y1": 16.269
         },
         {
          "line": {
           "color": "#5F9EA0",
           "width": 3
          },
          "opacity": 0.2,
          "type": "line",
          "visible": true,
          "x0": 19.942,
          "x1": 19.942,
          "y0": 16.269,
          "y1": 16.269
         },
         {
          "line": {
           "color": "#5F9EA0",
           "width": 3
          },
          "opacity": 0.2,
          "type": "line",
          "visible": true,
          "x0": 19.942,
          "x1": 13.387,
          "y0": 16.269,
          "y1": 36.048
         },
         {
          "line": {
           "color": "#5F9EA0",
           "width": 3
          },
          "opacity": 0.2,
          "type": "line",
          "visible": true,
          "x0": 13.387,
          "x1": 14.379,
          "y0": 36.048,
          "y1": 35.446
         },
         {
          "line": {
           "color": "#5F9EA0",
           "width": 3
          },
          "opacity": 0.2,
          "type": "line",
          "visible": true,
          "x0": 14.379,
          "x1": 26.591,
          "y0": 35.446,
          "y1": 36.243
         },
         {
          "line": {
           "color": "#5F9EA0",
           "width": 3
          },
          "opacity": 0.2,
          "type": "line",
          "visible": true,
          "x0": 26.591,
          "x1": 6.843,
          "y0": 36.243,
          "y1": 25.729
         },
         {
          "line": {
           "color": "#5F9EA0",
           "width": 3
          },
          "opacity": 0.2,
          "type": "line",
          "visible": true,
          "x0": 6.843,
          "x1": 19.942,
          "y0": 25.729,
          "y1": 16.269
         },
         {
          "line": {
           "color": "#5F9EA0",
           "width": 3
          },
          "opacity": 0.2,
          "type": "line",
          "visible": true,
          "x0": 19.942,
          "x1": 19.942,
          "y0": 16.269,
          "y1": 16.269
         },
         {
          "line": {
           "color": "#F08080",
           "width": 3
          },
          "opacity": 0.2,
          "type": "line",
          "visible": true,
          "x0": 26.591,
          "x1": 26.591,
          "y0": 36.243,
          "y1": 36.243
         },
         {
          "line": {
           "color": "#F08080",
           "width": 3
          },
          "opacity": 0.2,
          "type": "line",
          "visible": true,
          "x0": 26.591,
          "x1": 26.591,
          "y0": 36.243,
          "y1": 36.243
         },
         {
          "line": {
           "color": "#F08080",
           "width": 3
          },
          "opacity": 0.2,
          "type": "line",
          "visible": true,
          "x0": 26.591,
          "x1": 17.743,
          "y0": 36.243,
          "y1": 42.465
         },
         {
          "line": {
           "color": "#F08080",
           "width": 3
          },
          "opacity": 0.2,
          "type": "line",
          "visible": true,
          "x0": 17.743,
          "x1": 26.591,
          "y0": 42.465,
          "y1": 36.243
         },
         {
          "line": {
           "color": "#F08080",
           "width": 3
          },
          "opacity": 0.2,
          "type": "line",
          "visible": true,
          "x0": 26.591,
          "x1": 30.378,
          "y0": 36.243,
          "y1": 32.49
         },
         {
          "line": {
           "color": "#F08080",
           "width": 3
          },
          "opacity": 0.2,
          "type": "line",
          "visible": true,
          "x0": 30.378,
          "x1": 19.942,
          "y0": 32.49,
          "y1": 16.269
         },
         {
          "line": {
           "color": "#F08080",
           "width": 3
          },
          "opacity": 0.2,
          "type": "line",
          "visible": true,
          "x0": 19.942,
          "x1": 6.799,
          "y0": 16.269,
          "y1": 22.468
         },
         {
          "line": {
           "color": "#F08080",
           "width": 3
          },
          "opacity": 0.2,
          "type": "line",
          "visible": true,
          "x0": 6.799,
          "x1": 19.942,
          "y0": 22.468,
          "y1": 16.269
         },
         {
          "line": {
           "color": "#F08080",
           "width": 3
          },
          "opacity": 0.2,
          "type": "line",
          "visible": true,
          "x0": 19.942,
          "x1": 0.062,
          "y0": 16.269,
          "y1": 49.145
         },
         {
          "line": {
           "color": "#F08080",
           "width": 3
          },
          "opacity": 0.2,
          "type": "line",
          "visible": true,
          "x0": 0.062,
          "x1": 19.942,
          "y0": 49.145,
          "y1": 16.269
         },
         {
          "line": {
           "color": "#F08080",
           "width": 3
          },
          "opacity": 0.2,
          "type": "line",
          "visible": true,
          "x0": 19.942,
          "x1": 35.573,
          "y0": 16.269,
          "y1": 46.733
         },
         {
          "line": {
           "color": "#F08080",
           "width": 3
          },
          "opacity": 0.2,
          "type": "line",
          "visible": true,
          "x0": 35.573,
          "x1": 26.591,
          "y0": 46.733,
          "y1": 36.243
         },
         {
          "line": {
           "color": "#F08080",
           "width": 3
          },
          "opacity": 0.2,
          "type": "line",
          "visible": true,
          "x0": 26.591,
          "x1": 15.145,
          "y0": 36.243,
          "y1": 19.745
         },
         {
          "line": {
           "color": "#F08080",
           "width": 3
          },
          "opacity": 0.2,
          "type": "line",
          "visible": true,
          "x0": 15.145,
          "x1": 26.591,
          "y0": 19.745,
          "y1": 36.243
         },
         {
          "line": {
           "color": "#F08080",
           "width": 3
          },
          "opacity": 0.2,
          "type": "line",
          "visible": true,
          "x0": 26.591,
          "x1": 13.843,
          "y0": 36.243,
          "y1": 16.968
         },
         {
          "line": {
           "color": "#F08080",
           "width": 3
          },
          "opacity": 0.2,
          "type": "line",
          "visible": true,
          "x0": 13.843,
          "x1": 26.591,
          "y0": 16.968,
          "y1": 36.243
         },
         {
          "line": {
           "color": "#F08080",
           "width": 3
          },
          "opacity": 0.2,
          "type": "line",
          "visible": true,
          "x0": 26.591,
          "x1": 47.436,
          "y0": 36.243,
          "y1": 7.99
         },
         {
          "line": {
           "color": "#F08080",
           "width": 3
          },
          "opacity": 0.2,
          "type": "line",
          "visible": true,
          "x0": 47.436,
          "x1": 26.591,
          "y0": 7.99,
          "y1": 36.243
         },
         {
          "line": {
           "color": "#F08080",
           "width": 3
          },
          "opacity": 0.2,
          "type": "line",
          "visible": true,
          "x0": 26.591,
          "x1": 30.948,
          "y0": 36.243,
          "y1": 13.248
         },
         {
          "line": {
           "color": "#F08080",
           "width": 3
          },
          "opacity": 0.2,
          "type": "line",
          "visible": true,
          "x0": 30.948,
          "x1": 19.942,
          "y0": 13.248,
          "y1": 16.269
         },
         {
          "line": {
           "color": "#F08080",
           "width": 3
          },
          "opacity": 0.2,
          "type": "line",
          "visible": true,
          "x0": 19.942,
          "x1": 24.429,
          "y0": 16.269,
          "y1": 6.787
         },
         {
          "line": {
           "color": "#F08080",
           "width": 3
          },
          "opacity": 0.2,
          "type": "line",
          "visible": true,
          "x0": 24.429,
          "x1": 19.942,
          "y0": 6.787,
          "y1": 16.269
         },
         {
          "line": {
           "color": "#F08080",
           "width": 3
          },
          "opacity": 0.2,
          "type": "line",
          "visible": true,
          "x0": 19.942,
          "x1": 21.442,
          "y0": 16.269,
          "y1": 34.131
         },
         {
          "line": {
           "color": "#F08080",
           "width": 3
          },
          "opacity": 0.2,
          "type": "line",
          "visible": true,
          "x0": 21.442,
          "x1": 26.591,
          "y0": 34.131,
          "y1": 36.243
         },
         {
          "line": {
           "color": "#F08080",
           "width": 3
          },
          "opacity": 0.2,
          "type": "line",
          "visible": true,
          "x0": 26.591,
          "x1": 5.808,
          "y0": 36.243,
          "y1": 45.172
         },
         {
          "line": {
           "color": "#F08080",
           "width": 3
          },
          "opacity": 0.2,
          "type": "line",
          "visible": true,
          "x0": 5.808,
          "x1": 26.591,
          "y0": 45.172,
          "y1": 36.243
         },
         {
          "line": {
           "color": "#F08080",
           "width": 3
          },
          "opacity": 0.2,
          "type": "line",
          "visible": true,
          "x0": 26.591,
          "x1": 18.778,
          "y0": 36.243,
          "y1": 35.536
         },
         {
          "line": {
           "color": "#F08080",
           "width": 3
          },
          "opacity": 0.2,
          "type": "line",
          "visible": true,
          "x0": 18.778,
          "x1": 19.942,
          "y0": 35.536,
          "y1": 16.269
         },
         {
          "line": {
           "color": "#F08080",
           "width": 3
          },
          "opacity": 0.2,
          "type": "line",
          "visible": true,
          "x0": 19.942,
          "x1": 36.158,
          "y0": 16.269,
          "y1": 11.897
         },
         {
          "line": {
           "color": "#F08080",
           "width": 3
          },
          "opacity": 0.2,
          "type": "line",
          "visible": true,
          "x0": 36.158,
          "x1": 26.591,
          "y0": 11.897,
          "y1": 36.243
         },
         {
          "line": {
           "color": "#F08080",
           "width": 3
          },
          "opacity": 0.2,
          "type": "line",
          "visible": true,
          "x0": 26.591,
          "x1": 19.942,
          "y0": 36.243,
          "y1": 16.269
         }
        ],
        "template": {
         "data": {
          "bar": [
           {
            "error_x": {
             "color": "#2a3f5f"
            },
            "error_y": {
             "color": "#2a3f5f"
            },
            "marker": {
             "line": {
              "color": "#E5ECF6",
              "width": 0.5
             },
             "pattern": {
              "fillmode": "overlay",
              "size": 10,
              "solidity": 0.2
             }
            },
            "type": "bar"
           }
          ],
          "barpolar": [
           {
            "marker": {
             "line": {
              "color": "#E5ECF6",
              "width": 0.5
             },
             "pattern": {
              "fillmode": "overlay",
              "size": 10,
              "solidity": 0.2
             }
            },
            "type": "barpolar"
           }
          ],
          "carpet": [
           {
            "aaxis": {
             "endlinecolor": "#2a3f5f",
             "gridcolor": "white",
             "linecolor": "white",
             "minorgridcolor": "white",
             "startlinecolor": "#2a3f5f"
            },
            "baxis": {
             "endlinecolor": "#2a3f5f",
             "gridcolor": "white",
             "linecolor": "white",
             "minorgridcolor": "white",
             "startlinecolor": "#2a3f5f"
            },
            "type": "carpet"
           }
          ],
          "choropleth": [
           {
            "colorbar": {
             "outlinewidth": 0,
             "ticks": ""
            },
            "type": "choropleth"
           }
          ],
          "contour": [
           {
            "colorbar": {
             "outlinewidth": 0,
             "ticks": ""
            },
            "colorscale": [
             [
              0,
              "#0d0887"
             ],
             [
              0.1111111111111111,
              "#46039f"
             ],
             [
              0.2222222222222222,
              "#7201a8"
             ],
             [
              0.3333333333333333,
              "#9c179e"
             ],
             [
              0.4444444444444444,
              "#bd3786"
             ],
             [
              0.5555555555555556,
              "#d8576b"
             ],
             [
              0.6666666666666666,
              "#ed7953"
             ],
             [
              0.7777777777777778,
              "#fb9f3a"
             ],
             [
              0.8888888888888888,
              "#fdca26"
             ],
             [
              1,
              "#f0f921"
             ]
            ],
            "type": "contour"
           }
          ],
          "contourcarpet": [
           {
            "colorbar": {
             "outlinewidth": 0,
             "ticks": ""
            },
            "type": "contourcarpet"
           }
          ],
          "heatmap": [
           {
            "colorbar": {
             "outlinewidth": 0,
             "ticks": ""
            },
            "colorscale": [
             [
              0,
              "#0d0887"
             ],
             [
              0.1111111111111111,
              "#46039f"
             ],
             [
              0.2222222222222222,
              "#7201a8"
             ],
             [
              0.3333333333333333,
              "#9c179e"
             ],
             [
              0.4444444444444444,
              "#bd3786"
             ],
             [
              0.5555555555555556,
              "#d8576b"
             ],
             [
              0.6666666666666666,
              "#ed7953"
             ],
             [
              0.7777777777777778,
              "#fb9f3a"
             ],
             [
              0.8888888888888888,
              "#fdca26"
             ],
             [
              1,
              "#f0f921"
             ]
            ],
            "type": "heatmap"
           }
          ],
          "heatmapgl": [
           {
            "colorbar": {
             "outlinewidth": 0,
             "ticks": ""
            },
            "colorscale": [
             [
              0,
              "#0d0887"
             ],
             [
              0.1111111111111111,
              "#46039f"
             ],
             [
              0.2222222222222222,
              "#7201a8"
             ],
             [
              0.3333333333333333,
              "#9c179e"
             ],
             [
              0.4444444444444444,
              "#bd3786"
             ],
             [
              0.5555555555555556,
              "#d8576b"
             ],
             [
              0.6666666666666666,
              "#ed7953"
             ],
             [
              0.7777777777777778,
              "#fb9f3a"
             ],
             [
              0.8888888888888888,
              "#fdca26"
             ],
             [
              1,
              "#f0f921"
             ]
            ],
            "type": "heatmapgl"
           }
          ],
          "histogram": [
           {
            "marker": {
             "pattern": {
              "fillmode": "overlay",
              "size": 10,
              "solidity": 0.2
             }
            },
            "type": "histogram"
           }
          ],
          "histogram2d": [
           {
            "colorbar": {
             "outlinewidth": 0,
             "ticks": ""
            },
            "colorscale": [
             [
              0,
              "#0d0887"
             ],
             [
              0.1111111111111111,
              "#46039f"
             ],
             [
              0.2222222222222222,
              "#7201a8"
             ],
             [
              0.3333333333333333,
              "#9c179e"
             ],
             [
              0.4444444444444444,
              "#bd3786"
             ],
             [
              0.5555555555555556,
              "#d8576b"
             ],
             [
              0.6666666666666666,
              "#ed7953"
             ],
             [
              0.7777777777777778,
              "#fb9f3a"
             ],
             [
              0.8888888888888888,
              "#fdca26"
             ],
             [
              1,
              "#f0f921"
             ]
            ],
            "type": "histogram2d"
           }
          ],
          "histogram2dcontour": [
           {
            "colorbar": {
             "outlinewidth": 0,
             "ticks": ""
            },
            "colorscale": [
             [
              0,
              "#0d0887"
             ],
             [
              0.1111111111111111,
              "#46039f"
             ],
             [
              0.2222222222222222,
              "#7201a8"
             ],
             [
              0.3333333333333333,
              "#9c179e"
             ],
             [
              0.4444444444444444,
              "#bd3786"
             ],
             [
              0.5555555555555556,
              "#d8576b"
             ],
             [
              0.6666666666666666,
              "#ed7953"
             ],
             [
              0.7777777777777778,
              "#fb9f3a"
             ],
             [
              0.8888888888888888,
              "#fdca26"
             ],
             [
              1,
              "#f0f921"
             ]
            ],
            "type": "histogram2dcontour"
           }
          ],
          "mesh3d": [
           {
            "colorbar": {
             "outlinewidth": 0,
             "ticks": ""
            },
            "type": "mesh3d"
           }
          ],
          "parcoords": [
           {
            "line": {
             "colorbar": {
              "outlinewidth": 0,
              "ticks": ""
             }
            },
            "type": "parcoords"
           }
          ],
          "pie": [
           {
            "automargin": true,
            "type": "pie"
           }
          ],
          "scatter": [
           {
            "marker": {
             "colorbar": {
              "outlinewidth": 0,
              "ticks": ""
             }
            },
            "type": "scatter"
           }
          ],
          "scatter3d": [
           {
            "line": {
             "colorbar": {
              "outlinewidth": 0,
              "ticks": ""
             }
            },
            "marker": {
             "colorbar": {
              "outlinewidth": 0,
              "ticks": ""
             }
            },
            "type": "scatter3d"
           }
          ],
          "scattercarpet": [
           {
            "marker": {
             "colorbar": {
              "outlinewidth": 0,
              "ticks": ""
             }
            },
            "type": "scattercarpet"
           }
          ],
          "scattergeo": [
           {
            "marker": {
             "colorbar": {
              "outlinewidth": 0,
              "ticks": ""
             }
            },
            "type": "scattergeo"
           }
          ],
          "scattergl": [
           {
            "marker": {
             "colorbar": {
              "outlinewidth": 0,
              "ticks": ""
             }
            },
            "type": "scattergl"
           }
          ],
          "scattermapbox": [
           {
            "marker": {
             "colorbar": {
              "outlinewidth": 0,
              "ticks": ""
             }
            },
            "type": "scattermapbox"
           }
          ],
          "scatterpolar": [
           {
            "marker": {
             "colorbar": {
              "outlinewidth": 0,
              "ticks": ""
             }
            },
            "type": "scatterpolar"
           }
          ],
          "scatterpolargl": [
           {
            "marker": {
             "colorbar": {
              "outlinewidth": 0,
              "ticks": ""
             }
            },
            "type": "scatterpolargl"
           }
          ],
          "scatterternary": [
           {
            "marker": {
             "colorbar": {
              "outlinewidth": 0,
              "ticks": ""
             }
            },
            "type": "scatterternary"
           }
          ],
          "surface": [
           {
            "colorbar": {
             "outlinewidth": 0,
             "ticks": ""
            },
            "colorscale": [
             [
              0,
              "#0d0887"
             ],
             [
              0.1111111111111111,
              "#46039f"
             ],
             [
              0.2222222222222222,
              "#7201a8"
             ],
             [
              0.3333333333333333,
              "#9c179e"
             ],
             [
              0.4444444444444444,
              "#bd3786"
             ],
             [
              0.5555555555555556,
              "#d8576b"
             ],
             [
              0.6666666666666666,
              "#ed7953"
             ],
             [
              0.7777777777777778,
              "#fb9f3a"
             ],
             [
              0.8888888888888888,
              "#fdca26"
             ],
             [
              1,
              "#f0f921"
             ]
            ],
            "type": "surface"
           }
          ],
          "table": [
           {
            "cells": {
             "fill": {
              "color": "#EBF0F8"
             },
             "line": {
              "color": "white"
             }
            },
            "header": {
             "fill": {
              "color": "#C8D4E3"
             },
             "line": {
              "color": "white"
             }
            },
            "type": "table"
           }
          ]
         },
         "layout": {
          "annotationdefaults": {
           "arrowcolor": "#2a3f5f",
           "arrowhead": 0,
           "arrowwidth": 1
          },
          "autotypenumbers": "strict",
          "coloraxis": {
           "colorbar": {
            "outlinewidth": 0,
            "ticks": ""
           }
          },
          "colorscale": {
           "diverging": [
            [
             0,
             "#8e0152"
            ],
            [
             0.1,
             "#c51b7d"
            ],
            [
             0.2,
             "#de77ae"
            ],
            [
             0.3,
             "#f1b6da"
            ],
            [
             0.4,
             "#fde0ef"
            ],
            [
             0.5,
             "#f7f7f7"
            ],
            [
             0.6,
             "#e6f5d0"
            ],
            [
             0.7,
             "#b8e186"
            ],
            [
             0.8,
             "#7fbc41"
            ],
            [
             0.9,
             "#4d9221"
            ],
            [
             1,
             "#276419"
            ]
           ],
           "sequential": [
            [
             0,
             "#0d0887"
            ],
            [
             0.1111111111111111,
             "#46039f"
            ],
            [
             0.2222222222222222,
             "#7201a8"
            ],
            [
             0.3333333333333333,
             "#9c179e"
            ],
            [
             0.4444444444444444,
             "#bd3786"
            ],
            [
             0.5555555555555556,
             "#d8576b"
            ],
            [
             0.6666666666666666,
             "#ed7953"
            ],
            [
             0.7777777777777778,
             "#fb9f3a"
            ],
            [
             0.8888888888888888,
             "#fdca26"
            ],
            [
             1,
             "#f0f921"
            ]
           ],
           "sequentialminus": [
            [
             0,
             "#0d0887"
            ],
            [
             0.1111111111111111,
             "#46039f"
            ],
            [
             0.2222222222222222,
             "#7201a8"
            ],
            [
             0.3333333333333333,
             "#9c179e"
            ],
            [
             0.4444444444444444,
             "#bd3786"
            ],
            [
             0.5555555555555556,
             "#d8576b"
            ],
            [
             0.6666666666666666,
             "#ed7953"
            ],
            [
             0.7777777777777778,
             "#fb9f3a"
            ],
            [
             0.8888888888888888,
             "#fdca26"
            ],
            [
             1,
             "#f0f921"
            ]
           ]
          },
          "colorway": [
           "#636efa",
           "#EF553B",
           "#00cc96",
           "#ab63fa",
           "#FFA15A",
           "#19d3f3",
           "#FF6692",
           "#B6E880",
           "#FF97FF",
           "#FECB52"
          ],
          "font": {
           "color": "#2a3f5f"
          },
          "geo": {
           "bgcolor": "white",
           "lakecolor": "white",
           "landcolor": "#E5ECF6",
           "showlakes": true,
           "showland": true,
           "subunitcolor": "white"
          },
          "hoverlabel": {
           "align": "left"
          },
          "hovermode": "closest",
          "mapbox": {
           "style": "light"
          },
          "paper_bgcolor": "white",
          "plot_bgcolor": "#E5ECF6",
          "polar": {
           "angularaxis": {
            "gridcolor": "white",
            "linecolor": "white",
            "ticks": ""
           },
           "bgcolor": "#E5ECF6",
           "radialaxis": {
            "gridcolor": "white",
            "linecolor": "white",
            "ticks": ""
           }
          },
          "scene": {
           "xaxis": {
            "backgroundcolor": "#E5ECF6",
            "gridcolor": "white",
            "gridwidth": 2,
            "linecolor": "white",
            "showbackground": true,
            "ticks": "",
            "zerolinecolor": "white"
           },
           "yaxis": {
            "backgroundcolor": "#E5ECF6",
            "gridcolor": "white",
            "gridwidth": 2,
            "linecolor": "white",
            "showbackground": true,
            "ticks": "",
            "zerolinecolor": "white"
           },
           "zaxis": {
            "backgroundcolor": "#E5ECF6",
            "gridcolor": "white",
            "gridwidth": 2,
            "linecolor": "white",
            "showbackground": true,
            "ticks": "",
            "zerolinecolor": "white"
           }
          },
          "shapedefaults": {
           "line": {
            "color": "#2a3f5f"
           }
          },
          "ternary": {
           "aaxis": {
            "gridcolor": "white",
            "linecolor": "white",
            "ticks": ""
           },
           "baxis": {
            "gridcolor": "white",
            "linecolor": "white",
            "ticks": ""
           },
           "bgcolor": "#E5ECF6",
           "caxis": {
            "gridcolor": "white",
            "linecolor": "white",
            "ticks": ""
           }
          },
          "title": {
           "x": 0.05
          },
          "xaxis": {
           "automargin": true,
           "gridcolor": "white",
           "linecolor": "white",
           "ticks": "",
           "title": {
            "standoff": 15
           },
           "zerolinecolor": "white",
           "zerolinewidth": 2
          },
          "yaxis": {
           "automargin": true,
           "gridcolor": "white",
           "linecolor": "white",
           "ticks": "",
           "title": {
            "standoff": 15
           },
           "zerolinecolor": "white",
           "zerolinewidth": 2
          }
         }
        },
        "xaxis": {
         "anchor": "y",
         "domain": [
          0,
          1
         ],
         "title": {
          "text": "x"
         }
        },
        "yaxis": {
         "anchor": "x",
         "domain": [
          0,
          1
         ],
         "title": {
          "text": "y"
         }
        }
       }
      },
      "text/html": [
       "<div>                            <div id=\"5fcc45d4-ce5f-4e30-92fa-dc7f5b75dc9a\" class=\"plotly-graph-div\" style=\"height:525px; width:100%;\"></div>            <script type=\"text/javascript\">                require([\"plotly\"], function(Plotly) {                    window.PLOTLYENV=window.PLOTLYENV || {};                                    if (document.getElementById(\"5fcc45d4-ce5f-4e30-92fa-dc7f5b75dc9a\")) {                    Plotly.newPlot(                        \"5fcc45d4-ce5f-4e30-92fa-dc7f5b75dc9a\",                        [{\"customdata\":[[0,\"Depot\",0],[0,\"Depot\",1],[0,\"Depot\",66],[0,\"Depot\",67]],\"hovertemplate\":\"type=%{customdata[1]}<br>index=%{customdata[2]}<br>d=%{customdata[0]}<extra></extra>\",\"legendgroup\":\"Depot\",\"marker\":{\"color\":\"#636efa\",\"symbol\":\"square\"},\"mode\":\"markers+text\",\"name\":\"Depot\",\"orientation\":\"v\",\"showlegend\":true,\"text\":[0.0,1.0,66.0,67.0],\"x\":[19.942,26.591,19.942,26.591],\"xaxis\":\"x\",\"y\":[16.269,36.243,16.269,36.243],\"yaxis\":\"y\",\"type\":\"scatter\",\"textposition\":\"top center\"},{\"customdata\":[[1,\"Artificial pickup\",2],[0,\"Artificial pickup\",3]],\"hovertemplate\":\"type=%{customdata[1]}<br>index=%{customdata[2]}<br>d=%{customdata[0]}<extra></extra>\",\"legendgroup\":\"Artificial pickup\",\"marker\":{\"color\":\"#EF553B\",\"symbol\":\"star\"},\"mode\":\"markers+text\",\"name\":\"Artificial pickup\",\"orientation\":\"v\",\"showlegend\":true,\"text\":[2.0,3.0],\"x\":[19.942,26.591],\"xaxis\":\"x\",\"y\":[16.269,36.243],\"yaxis\":\"y\",\"type\":\"scatter\",\"textposition\":\"top center\"},{\"customdata\":[[7.0,\"Pickup\",4],[9.0,\"Pickup\",5],[15.0,\"Pickup\",6],[5.0,\"Pickup\",7],[12.0,\"Pickup\",8],[5.0,\"Pickup\",9],[10.0,\"Pickup\",10],[8.0,\"Pickup\",11],[11.0,\"Pickup\",12],[12.0,\"Pickup\",13],[8.0,\"Pickup\",14],[14.0,\"Pickup\",15],[15.0,\"Pickup\",16],[8.0,\"Pickup\",17],[11.0,\"Pickup\",18],[11.0,\"Pickup\",19],[5.0,\"Pickup\",20],[11.0,\"Pickup\",21],[7.0,\"Pickup\",22],[10.0,\"Pickup\",23],[13.0,\"Pickup\",24],[10.0,\"Pickup\",25],[10.0,\"Pickup\",26],[14.0,\"Pickup\",27],[10.0,\"Pickup\",28],[13.0,\"Pickup\",29],[6.0,\"Pickup\",30],[8.0,\"Pickup\",31],[9.0,\"Pickup\",32],[11.0,\"Pickup\",33]],\"hovertemplate\":\"type=%{customdata[1]}<br>index=%{customdata[2]}<br>d=%{customdata[0]}<extra></extra>\",\"legendgroup\":\"Pickup\",\"marker\":{\"color\":\"#00cc96\",\"symbol\":\"cross\"},\"mode\":\"markers+text\",\"name\":\"Pickup\",\"orientation\":\"v\",\"showlegend\":true,\"text\":[4.0,5.0,6.0,7.0,8.0,9.0,10.0,11.0,12.0,13.0,14.0,15.0,16.0,17.0,18.0,19.0,20.0,21.0,22.0,23.0,24.0,25.0,26.0,27.0,28.0,29.0,30.0,31.0,32.0,33.0],\"x\":[19.942,19.942,19.942,19.942,19.942,19.942,19.942,19.942,19.942,19.942,19.942,19.942,19.942,19.942,19.942,26.591,26.591,26.591,26.591,26.591,26.591,26.591,26.591,26.591,26.591,26.591,26.591,26.591,26.591,26.591],\"xaxis\":\"x\",\"y\":[16.269,16.269,16.269,16.269,16.269,16.269,16.269,16.269,16.269,16.269,16.269,16.269,16.269,16.269,16.269,36.243,36.243,36.243,36.243,36.243,36.243,36.243,36.243,36.243,36.243,36.243,36.243,36.243,36.243,36.243],\"yaxis\":\"y\",\"type\":\"scatter\",\"textposition\":\"top center\"},{\"customdata\":[[-1,\"Artificial delivery\",34],[0,\"Artificial delivery\",35]],\"hovertemplate\":\"type=%{customdata[1]}<br>index=%{customdata[2]}<br>d=%{customdata[0]}<extra></extra>\",\"legendgroup\":\"Artificial delivery\",\"marker\":{\"color\":\"#ab63fa\",\"symbol\":\"star\"},\"mode\":\"markers+text\",\"name\":\"Artificial delivery\",\"orientation\":\"v\",\"showlegend\":true,\"text\":[34.0,35.0],\"x\":[19.942,26.591],\"xaxis\":\"x\",\"y\":[16.269,36.243],\"yaxis\":\"y\",\"type\":\"scatter\",\"textposition\":\"top center\"},{\"customdata\":[[-7.0,\"Delivery\",36],[-9.0,\"Delivery\",37],[-15.0,\"Delivery\",38],[-5.0,\"Delivery\",39],[-12.0,\"Delivery\",40],[-5.0,\"Delivery\",41],[-10.0,\"Delivery\",42],[-8.0,\"Delivery\",43],[-11.0,\"Delivery\",44],[-12.0,\"Delivery\",45],[-8.0,\"Delivery\",46],[-14.0,\"Delivery\",47],[-15.0,\"Delivery\",48],[-8.0,\"Delivery\",49],[-11.0,\"Delivery\",50],[-11.0,\"Delivery\",51],[-5.0,\"Delivery\",52],[-11.0,\"Delivery\",53],[-7.0,\"Delivery\",54],[-10.0,\"Delivery\",55],[-13.0,\"Delivery\",56],[-10.0,\"Delivery\",57],[-10.0,\"Delivery\",58],[-14.0,\"Delivery\",59],[-10.0,\"Delivery\",60],[-13.0,\"Delivery\",61],[-6.0,\"Delivery\",62],[-8.0,\"Delivery\",63],[-9.0,\"Delivery\",64],[-11.0,\"Delivery\",65]],\"hovertemplate\":\"type=%{customdata[1]}<br>index=%{customdata[2]}<br>d=%{customdata[0]}<extra></extra>\",\"legendgroup\":\"Delivery\",\"marker\":{\"color\":\"#FFA15A\",\"symbol\":\"x\"},\"mode\":\"markers+text\",\"name\":\"Delivery\",\"orientation\":\"v\",\"showlegend\":true,\"text\":[36.0,37.0,38.0,39.0,40.0,41.0,42.0,43.0,44.0,45.0,46.0,47.0,48.0,49.0,50.0,51.0,52.0,53.0,54.0,55.0,56.0,57.0,58.0,59.0,60.0,61.0,62.0,63.0,64.0,65.0],\"x\":[35.573,36.158,43.76,13.387,21.442,4.515,14.379,17.381,43.627,0.062,42.389,6.799,24.429,44.972,30.09,17.571,30.378,20.594,19.93,5.808,0.497,43.952,13.843,19.524,30.948,15.145,18.778,47.436,6.843,17.743],\"xaxis\":\"x\",\"y\":[46.733,11.897,46.624,36.048,34.131,24.464,35.446,24.472,19.724,49.145,13.101,22.468,6.787,41.699,18.098,39.599,32.49,9.692,25.913,45.172,25.269,38.259,16.968,12.881,13.248,19.745,35.536,7.99,25.729,42.465],\"yaxis\":\"y\",\"type\":\"scatter\",\"textposition\":\"top center\"}],                        {\"template\":{\"data\":{\"bar\":[{\"error_x\":{\"color\":\"#2a3f5f\"},\"error_y\":{\"color\":\"#2a3f5f\"},\"marker\":{\"line\":{\"color\":\"#E5ECF6\",\"width\":0.5},\"pattern\":{\"fillmode\":\"overlay\",\"size\":10,\"solidity\":0.2}},\"type\":\"bar\"}],\"barpolar\":[{\"marker\":{\"line\":{\"color\":\"#E5ECF6\",\"width\":0.5},\"pattern\":{\"fillmode\":\"overlay\",\"size\":10,\"solidity\":0.2}},\"type\":\"barpolar\"}],\"carpet\":[{\"aaxis\":{\"endlinecolor\":\"#2a3f5f\",\"gridcolor\":\"white\",\"linecolor\":\"white\",\"minorgridcolor\":\"white\",\"startlinecolor\":\"#2a3f5f\"},\"baxis\":{\"endlinecolor\":\"#2a3f5f\",\"gridcolor\":\"white\",\"linecolor\":\"white\",\"minorgridcolor\":\"white\",\"startlinecolor\":\"#2a3f5f\"},\"type\":\"carpet\"}],\"choropleth\":[{\"colorbar\":{\"outlinewidth\":0,\"ticks\":\"\"},\"type\":\"choropleth\"}],\"contour\":[{\"colorbar\":{\"outlinewidth\":0,\"ticks\":\"\"},\"colorscale\":[[0.0,\"#0d0887\"],[0.1111111111111111,\"#46039f\"],[0.2222222222222222,\"#7201a8\"],[0.3333333333333333,\"#9c179e\"],[0.4444444444444444,\"#bd3786\"],[0.5555555555555556,\"#d8576b\"],[0.6666666666666666,\"#ed7953\"],[0.7777777777777778,\"#fb9f3a\"],[0.8888888888888888,\"#fdca26\"],[1.0,\"#f0f921\"]],\"type\":\"contour\"}],\"contourcarpet\":[{\"colorbar\":{\"outlinewidth\":0,\"ticks\":\"\"},\"type\":\"contourcarpet\"}],\"heatmap\":[{\"colorbar\":{\"outlinewidth\":0,\"ticks\":\"\"},\"colorscale\":[[0.0,\"#0d0887\"],[0.1111111111111111,\"#46039f\"],[0.2222222222222222,\"#7201a8\"],[0.3333333333333333,\"#9c179e\"],[0.4444444444444444,\"#bd3786\"],[0.5555555555555556,\"#d8576b\"],[0.6666666666666666,\"#ed7953\"],[0.7777777777777778,\"#fb9f3a\"],[0.8888888888888888,\"#fdca26\"],[1.0,\"#f0f921\"]],\"type\":\"heatmap\"}],\"heatmapgl\":[{\"colorbar\":{\"outlinewidth\":0,\"ticks\":\"\"},\"colorscale\":[[0.0,\"#0d0887\"],[0.1111111111111111,\"#46039f\"],[0.2222222222222222,\"#7201a8\"],[0.3333333333333333,\"#9c179e\"],[0.4444444444444444,\"#bd3786\"],[0.5555555555555556,\"#d8576b\"],[0.6666666666666666,\"#ed7953\"],[0.7777777777777778,\"#fb9f3a\"],[0.8888888888888888,\"#fdca26\"],[1.0,\"#f0f921\"]],\"type\":\"heatmapgl\"}],\"histogram\":[{\"marker\":{\"pattern\":{\"fillmode\":\"overlay\",\"size\":10,\"solidity\":0.2}},\"type\":\"histogram\"}],\"histogram2d\":[{\"colorbar\":{\"outlinewidth\":0,\"ticks\":\"\"},\"colorscale\":[[0.0,\"#0d0887\"],[0.1111111111111111,\"#46039f\"],[0.2222222222222222,\"#7201a8\"],[0.3333333333333333,\"#9c179e\"],[0.4444444444444444,\"#bd3786\"],[0.5555555555555556,\"#d8576b\"],[0.6666666666666666,\"#ed7953\"],[0.7777777777777778,\"#fb9f3a\"],[0.8888888888888888,\"#fdca26\"],[1.0,\"#f0f921\"]],\"type\":\"histogram2d\"}],\"histogram2dcontour\":[{\"colorbar\":{\"outlinewidth\":0,\"ticks\":\"\"},\"colorscale\":[[0.0,\"#0d0887\"],[0.1111111111111111,\"#46039f\"],[0.2222222222222222,\"#7201a8\"],[0.3333333333333333,\"#9c179e\"],[0.4444444444444444,\"#bd3786\"],[0.5555555555555556,\"#d8576b\"],[0.6666666666666666,\"#ed7953\"],[0.7777777777777778,\"#fb9f3a\"],[0.8888888888888888,\"#fdca26\"],[1.0,\"#f0f921\"]],\"type\":\"histogram2dcontour\"}],\"mesh3d\":[{\"colorbar\":{\"outlinewidth\":0,\"ticks\":\"\"},\"type\":\"mesh3d\"}],\"parcoords\":[{\"line\":{\"colorbar\":{\"outlinewidth\":0,\"ticks\":\"\"}},\"type\":\"parcoords\"}],\"pie\":[{\"automargin\":true,\"type\":\"pie\"}],\"scatter\":[{\"marker\":{\"colorbar\":{\"outlinewidth\":0,\"ticks\":\"\"}},\"type\":\"scatter\"}],\"scatter3d\":[{\"line\":{\"colorbar\":{\"outlinewidth\":0,\"ticks\":\"\"}},\"marker\":{\"colorbar\":{\"outlinewidth\":0,\"ticks\":\"\"}},\"type\":\"scatter3d\"}],\"scattercarpet\":[{\"marker\":{\"colorbar\":{\"outlinewidth\":0,\"ticks\":\"\"}},\"type\":\"scattercarpet\"}],\"scattergeo\":[{\"marker\":{\"colorbar\":{\"outlinewidth\":0,\"ticks\":\"\"}},\"type\":\"scattergeo\"}],\"scattergl\":[{\"marker\":{\"colorbar\":{\"outlinewidth\":0,\"ticks\":\"\"}},\"type\":\"scattergl\"}],\"scattermapbox\":[{\"marker\":{\"colorbar\":{\"outlinewidth\":0,\"ticks\":\"\"}},\"type\":\"scattermapbox\"}],\"scatterpolar\":[{\"marker\":{\"colorbar\":{\"outlinewidth\":0,\"ticks\":\"\"}},\"type\":\"scatterpolar\"}],\"scatterpolargl\":[{\"marker\":{\"colorbar\":{\"outlinewidth\":0,\"ticks\":\"\"}},\"type\":\"scatterpolargl\"}],\"scatterternary\":[{\"marker\":{\"colorbar\":{\"outlinewidth\":0,\"ticks\":\"\"}},\"type\":\"scatterternary\"}],\"surface\":[{\"colorbar\":{\"outlinewidth\":0,\"ticks\":\"\"},\"colorscale\":[[0.0,\"#0d0887\"],[0.1111111111111111,\"#46039f\"],[0.2222222222222222,\"#7201a8\"],[0.3333333333333333,\"#9c179e\"],[0.4444444444444444,\"#bd3786\"],[0.5555555555555556,\"#d8576b\"],[0.6666666666666666,\"#ed7953\"],[0.7777777777777778,\"#fb9f3a\"],[0.8888888888888888,\"#fdca26\"],[1.0,\"#f0f921\"]],\"type\":\"surface\"}],\"table\":[{\"cells\":{\"fill\":{\"color\":\"#EBF0F8\"},\"line\":{\"color\":\"white\"}},\"header\":{\"fill\":{\"color\":\"#C8D4E3\"},\"line\":{\"color\":\"white\"}},\"type\":\"table\"}]},\"layout\":{\"annotationdefaults\":{\"arrowcolor\":\"#2a3f5f\",\"arrowhead\":0,\"arrowwidth\":1},\"autotypenumbers\":\"strict\",\"coloraxis\":{\"colorbar\":{\"outlinewidth\":0,\"ticks\":\"\"}},\"colorscale\":{\"diverging\":[[0,\"#8e0152\"],[0.1,\"#c51b7d\"],[0.2,\"#de77ae\"],[0.3,\"#f1b6da\"],[0.4,\"#fde0ef\"],[0.5,\"#f7f7f7\"],[0.6,\"#e6f5d0\"],[0.7,\"#b8e186\"],[0.8,\"#7fbc41\"],[0.9,\"#4d9221\"],[1,\"#276419\"]],\"sequential\":[[0.0,\"#0d0887\"],[0.1111111111111111,\"#46039f\"],[0.2222222222222222,\"#7201a8\"],[0.3333333333333333,\"#9c179e\"],[0.4444444444444444,\"#bd3786\"],[0.5555555555555556,\"#d8576b\"],[0.6666666666666666,\"#ed7953\"],[0.7777777777777778,\"#fb9f3a\"],[0.8888888888888888,\"#fdca26\"],[1.0,\"#f0f921\"]],\"sequentialminus\":[[0.0,\"#0d0887\"],[0.1111111111111111,\"#46039f\"],[0.2222222222222222,\"#7201a8\"],[0.3333333333333333,\"#9c179e\"],[0.4444444444444444,\"#bd3786\"],[0.5555555555555556,\"#d8576b\"],[0.6666666666666666,\"#ed7953\"],[0.7777777777777778,\"#fb9f3a\"],[0.8888888888888888,\"#fdca26\"],[1.0,\"#f0f921\"]]},\"colorway\":[\"#636efa\",\"#EF553B\",\"#00cc96\",\"#ab63fa\",\"#FFA15A\",\"#19d3f3\",\"#FF6692\",\"#B6E880\",\"#FF97FF\",\"#FECB52\"],\"font\":{\"color\":\"#2a3f5f\"},\"geo\":{\"bgcolor\":\"white\",\"lakecolor\":\"white\",\"landcolor\":\"#E5ECF6\",\"showlakes\":true,\"showland\":true,\"subunitcolor\":\"white\"},\"hoverlabel\":{\"align\":\"left\"},\"hovermode\":\"closest\",\"mapbox\":{\"style\":\"light\"},\"paper_bgcolor\":\"white\",\"plot_bgcolor\":\"#E5ECF6\",\"polar\":{\"angularaxis\":{\"gridcolor\":\"white\",\"linecolor\":\"white\",\"ticks\":\"\"},\"bgcolor\":\"#E5ECF6\",\"radialaxis\":{\"gridcolor\":\"white\",\"linecolor\":\"white\",\"ticks\":\"\"}},\"scene\":{\"xaxis\":{\"backgroundcolor\":\"#E5ECF6\",\"gridcolor\":\"white\",\"gridwidth\":2,\"linecolor\":\"white\",\"showbackground\":true,\"ticks\":\"\",\"zerolinecolor\":\"white\"},\"yaxis\":{\"backgroundcolor\":\"#E5ECF6\",\"gridcolor\":\"white\",\"gridwidth\":2,\"linecolor\":\"white\",\"showbackground\":true,\"ticks\":\"\",\"zerolinecolor\":\"white\"},\"zaxis\":{\"backgroundcolor\":\"#E5ECF6\",\"gridcolor\":\"white\",\"gridwidth\":2,\"linecolor\":\"white\",\"showbackground\":true,\"ticks\":\"\",\"zerolinecolor\":\"white\"}},\"shapedefaults\":{\"line\":{\"color\":\"#2a3f5f\"}},\"ternary\":{\"aaxis\":{\"gridcolor\":\"white\",\"linecolor\":\"white\",\"ticks\":\"\"},\"baxis\":{\"gridcolor\":\"white\",\"linecolor\":\"white\",\"ticks\":\"\"},\"bgcolor\":\"#E5ECF6\",\"caxis\":{\"gridcolor\":\"white\",\"linecolor\":\"white\",\"ticks\":\"\"}},\"title\":{\"x\":0.05},\"xaxis\":{\"automargin\":true,\"gridcolor\":\"white\",\"linecolor\":\"white\",\"ticks\":\"\",\"title\":{\"standoff\":15},\"zerolinecolor\":\"white\",\"zerolinewidth\":2},\"yaxis\":{\"automargin\":true,\"gridcolor\":\"white\",\"linecolor\":\"white\",\"ticks\":\"\",\"title\":{\"standoff\":15},\"zerolinecolor\":\"white\",\"zerolinewidth\":2}}},\"xaxis\":{\"anchor\":\"y\",\"domain\":[0.0,1.0],\"title\":{\"text\":\"x\"}},\"yaxis\":{\"anchor\":\"x\",\"domain\":[0.0,1.0],\"title\":{\"text\":\"y\"}},\"legend\":{\"title\":{\"text\":\"type\"},\"tracegroupgap\":0},\"margin\":{\"t\":60},\"font\":{\"size\":9},\"shapes\":[{\"line\":{\"color\":\"#5F9EA0\",\"width\":3},\"opacity\":0.2,\"type\":\"line\",\"visible\":true,\"x0\":19.942,\"x1\":19.942,\"y0\":16.269,\"y1\":16.269},{\"line\":{\"color\":\"#5F9EA0\",\"width\":3},\"opacity\":0.2,\"type\":\"line\",\"visible\":true,\"x0\":19.942,\"x1\":19.942,\"y0\":16.269,\"y1\":16.269},{\"line\":{\"color\":\"#5F9EA0\",\"width\":3},\"opacity\":0.2,\"type\":\"line\",\"visible\":true,\"x0\":19.942,\"x1\":43.627,\"y0\":16.269,\"y1\":19.724},{\"line\":{\"color\":\"#5F9EA0\",\"width\":3},\"opacity\":0.2,\"type\":\"line\",\"visible\":true,\"x0\":43.627,\"x1\":26.591,\"y0\":19.724,\"y1\":36.243},{\"line\":{\"color\":\"#5F9EA0\",\"width\":3},\"opacity\":0.2,\"type\":\"line\",\"visible\":true,\"x0\":26.591,\"x1\":17.571,\"y0\":36.243,\"y1\":39.599},{\"line\":{\"color\":\"#5F9EA0\",\"width\":3},\"opacity\":0.2,\"type\":\"line\",\"visible\":true,\"x0\":17.571,\"x1\":26.591,\"y0\":39.599,\"y1\":36.243},{\"line\":{\"color\":\"#5F9EA0\",\"width\":3},\"opacity\":0.2,\"type\":\"line\",\"visible\":true,\"x0\":26.591,\"x1\":19.524,\"y0\":36.243,\"y1\":12.881},{\"line\":{\"color\":\"#5F9EA0\",\"width\":3},\"opacity\":0.2,\"type\":\"line\",\"visible\":true,\"x0\":19.524,\"x1\":19.942,\"y0\":12.881,\"y1\":16.269},{\"line\":{\"color\":\"#5F9EA0\",\"width\":3},\"opacity\":0.2,\"type\":\"line\",\"visible\":true,\"x0\":19.942,\"x1\":44.972,\"y0\":16.269,\"y1\":41.699},{\"line\":{\"color\":\"#5F9EA0\",\"width\":3},\"opacity\":0.2,\"type\":\"line\",\"visible\":true,\"x0\":44.972,\"x1\":19.942,\"y0\":41.699,\"y1\":16.269},{\"line\":{\"color\":\"#5F9EA0\",\"width\":3},\"opacity\":0.2,\"type\":\"line\",\"visible\":true,\"x0\":19.942,\"x1\":42.389,\"y0\":16.269,\"y1\":13.101},{\"line\":{\"color\":\"#5F9EA0\",\"width\":3},\"opacity\":0.2,\"type\":\"line\",\"visible\":true,\"x0\":42.389,\"x1\":19.942,\"y0\":13.101,\"y1\":16.269},{\"line\":{\"color\":\"#5F9EA0\",\"width\":3},\"opacity\":0.2,\"type\":\"line\",\"visible\":true,\"x0\":19.942,\"x1\":43.76,\"y0\":16.269,\"y1\":46.624},{\"line\":{\"color\":\"#5F9EA0\",\"width\":3},\"opacity\":0.2,\"type\":\"line\",\"visible\":true,\"x0\":43.76,\"x1\":26.591,\"y0\":46.624,\"y1\":36.243},{\"line\":{\"color\":\"#5F9EA0\",\"width\":3},\"opacity\":0.2,\"type\":\"line\",\"visible\":true,\"x0\":26.591,\"x1\":20.594,\"y0\":36.243,\"y1\":9.692},{\"line\":{\"color\":\"#5F9EA0\",\"width\":3},\"opacity\":0.2,\"type\":\"line\",\"visible\":true,\"x0\":20.594,\"x1\":19.942,\"y0\":9.692,\"y1\":16.269},{\"line\":{\"color\":\"#5F9EA0\",\"width\":3},\"opacity\":0.2,\"type\":\"line\",\"visible\":true,\"x0\":19.942,\"x1\":26.591,\"y0\":16.269,\"y1\":36.243},{\"line\":{\"color\":\"#5F9EA0\",\"width\":3},\"opacity\":0.2,\"type\":\"line\",\"visible\":true,\"x0\":26.591,\"x1\":43.952,\"y0\":36.243,\"y1\":38.259},{\"line\":{\"color\":\"#5F9EA0\",\"width\":3},\"opacity\":0.2,\"type\":\"line\",\"visible\":true,\"x0\":43.952,\"x1\":19.942,\"y0\":38.259,\"y1\":16.269},{\"line\":{\"color\":\"#5F9EA0\",\"width\":3},\"opacity\":0.2,\"type\":\"line\",\"visible\":true,\"x0\":19.942,\"x1\":17.381,\"y0\":16.269,\"y1\":24.472},{\"line\":{\"color\":\"#5F9EA0\",\"width\":3},\"opacity\":0.2,\"type\":\"line\",\"visible\":true,\"x0\":17.381,\"x1\":4.515,\"y0\":24.472,\"y1\":24.464},{\"line\":{\"color\":\"#5F9EA0\",\"width\":3},\"opacity\":0.2,\"type\":\"line\",\"visible\":true,\"x0\":4.515,\"x1\":26.591,\"y0\":24.464,\"y1\":36.243},{\"line\":{\"color\":\"#5F9EA0\",\"width\":3},\"opacity\":0.2,\"type\":\"line\",\"visible\":true,\"x0\":26.591,\"x1\":19.93,\"y0\":36.243,\"y1\":25.913},{\"line\":{\"color\":\"#5F9EA0\",\"width\":3},\"opacity\":0.2,\"type\":\"line\",\"visible\":true,\"x0\":19.93,\"x1\":26.591,\"y0\":25.913,\"y1\":36.243},{\"line\":{\"color\":\"#5F9EA0\",\"width\":3},\"opacity\":0.2,\"type\":\"line\",\"visible\":true,\"x0\":26.591,\"x1\":0.497,\"y0\":36.243,\"y1\":25.269},{\"line\":{\"color\":\"#5F9EA0\",\"width\":3},\"opacity\":0.2,\"type\":\"line\",\"visible\":true,\"x0\":0.497,\"x1\":19.942,\"y0\":25.269,\"y1\":16.269},{\"line\":{\"color\":\"#5F9EA0\",\"width\":3},\"opacity\":0.2,\"type\":\"line\",\"visible\":true,\"x0\":19.942,\"x1\":30.09,\"y0\":16.269,\"y1\":18.098},{\"line\":{\"color\":\"#5F9EA0\",\"width\":3},\"opacity\":0.2,\"type\":\"line\",\"visible\":true,\"x0\":30.09,\"x1\":19.942,\"y0\":18.098,\"y1\":16.269},{\"line\":{\"color\":\"#5F9EA0\",\"width\":3},\"opacity\":0.2,\"type\":\"line\",\"visible\":true,\"x0\":19.942,\"x1\":19.942,\"y0\":16.269,\"y1\":16.269},{\"line\":{\"color\":\"#5F9EA0\",\"width\":3},\"opacity\":0.2,\"type\":\"line\",\"visible\":true,\"x0\":19.942,\"x1\":13.387,\"y0\":16.269,\"y1\":36.048},{\"line\":{\"color\":\"#5F9EA0\",\"width\":3},\"opacity\":0.2,\"type\":\"line\",\"visible\":true,\"x0\":13.387,\"x1\":14.379,\"y0\":36.048,\"y1\":35.446},{\"line\":{\"color\":\"#5F9EA0\",\"width\":3},\"opacity\":0.2,\"type\":\"line\",\"visible\":true,\"x0\":14.379,\"x1\":26.591,\"y0\":35.446,\"y1\":36.243},{\"line\":{\"color\":\"#5F9EA0\",\"width\":3},\"opacity\":0.2,\"type\":\"line\",\"visible\":true,\"x0\":26.591,\"x1\":6.843,\"y0\":36.243,\"y1\":25.729},{\"line\":{\"color\":\"#5F9EA0\",\"width\":3},\"opacity\":0.2,\"type\":\"line\",\"visible\":true,\"x0\":6.843,\"x1\":19.942,\"y0\":25.729,\"y1\":16.269},{\"line\":{\"color\":\"#5F9EA0\",\"width\":3},\"opacity\":0.2,\"type\":\"line\",\"visible\":true,\"x0\":19.942,\"x1\":19.942,\"y0\":16.269,\"y1\":16.269},{\"line\":{\"color\":\"#F08080\",\"width\":3},\"opacity\":0.2,\"type\":\"line\",\"visible\":true,\"x0\":26.591,\"x1\":26.591,\"y0\":36.243,\"y1\":36.243},{\"line\":{\"color\":\"#F08080\",\"width\":3},\"opacity\":0.2,\"type\":\"line\",\"visible\":true,\"x0\":26.591,\"x1\":26.591,\"y0\":36.243,\"y1\":36.243},{\"line\":{\"color\":\"#F08080\",\"width\":3},\"opacity\":0.2,\"type\":\"line\",\"visible\":true,\"x0\":26.591,\"x1\":17.743,\"y0\":36.243,\"y1\":42.465},{\"line\":{\"color\":\"#F08080\",\"width\":3},\"opacity\":0.2,\"type\":\"line\",\"visible\":true,\"x0\":17.743,\"x1\":26.591,\"y0\":42.465,\"y1\":36.243},{\"line\":{\"color\":\"#F08080\",\"width\":3},\"opacity\":0.2,\"type\":\"line\",\"visible\":true,\"x0\":26.591,\"x1\":30.378,\"y0\":36.243,\"y1\":32.49},{\"line\":{\"color\":\"#F08080\",\"width\":3},\"opacity\":0.2,\"type\":\"line\",\"visible\":true,\"x0\":30.378,\"x1\":19.942,\"y0\":32.49,\"y1\":16.269},{\"line\":{\"color\":\"#F08080\",\"width\":3},\"opacity\":0.2,\"type\":\"line\",\"visible\":true,\"x0\":19.942,\"x1\":6.799,\"y0\":16.269,\"y1\":22.468},{\"line\":{\"color\":\"#F08080\",\"width\":3},\"opacity\":0.2,\"type\":\"line\",\"visible\":true,\"x0\":6.799,\"x1\":19.942,\"y0\":22.468,\"y1\":16.269},{\"line\":{\"color\":\"#F08080\",\"width\":3},\"opacity\":0.2,\"type\":\"line\",\"visible\":true,\"x0\":19.942,\"x1\":0.062,\"y0\":16.269,\"y1\":49.145},{\"line\":{\"color\":\"#F08080\",\"width\":3},\"opacity\":0.2,\"type\":\"line\",\"visible\":true,\"x0\":0.062,\"x1\":19.942,\"y0\":49.145,\"y1\":16.269},{\"line\":{\"color\":\"#F08080\",\"width\":3},\"opacity\":0.2,\"type\":\"line\",\"visible\":true,\"x0\":19.942,\"x1\":35.573,\"y0\":16.269,\"y1\":46.733},{\"line\":{\"color\":\"#F08080\",\"width\":3},\"opacity\":0.2,\"type\":\"line\",\"visible\":true,\"x0\":35.573,\"x1\":26.591,\"y0\":46.733,\"y1\":36.243},{\"line\":{\"color\":\"#F08080\",\"width\":3},\"opacity\":0.2,\"type\":\"line\",\"visible\":true,\"x0\":26.591,\"x1\":15.145,\"y0\":36.243,\"y1\":19.745},{\"line\":{\"color\":\"#F08080\",\"width\":3},\"opacity\":0.2,\"type\":\"line\",\"visible\":true,\"x0\":15.145,\"x1\":26.591,\"y0\":19.745,\"y1\":36.243},{\"line\":{\"color\":\"#F08080\",\"width\":3},\"opacity\":0.2,\"type\":\"line\",\"visible\":true,\"x0\":26.591,\"x1\":13.843,\"y0\":36.243,\"y1\":16.968},{\"line\":{\"color\":\"#F08080\",\"width\":3},\"opacity\":0.2,\"type\":\"line\",\"visible\":true,\"x0\":13.843,\"x1\":26.591,\"y0\":16.968,\"y1\":36.243},{\"line\":{\"color\":\"#F08080\",\"width\":3},\"opacity\":0.2,\"type\":\"line\",\"visible\":true,\"x0\":26.591,\"x1\":47.436,\"y0\":36.243,\"y1\":7.99},{\"line\":{\"color\":\"#F08080\",\"width\":3},\"opacity\":0.2,\"type\":\"line\",\"visible\":true,\"x0\":47.436,\"x1\":26.591,\"y0\":7.99,\"y1\":36.243},{\"line\":{\"color\":\"#F08080\",\"width\":3},\"opacity\":0.2,\"type\":\"line\",\"visible\":true,\"x0\":26.591,\"x1\":30.948,\"y0\":36.243,\"y1\":13.248},{\"line\":{\"color\":\"#F08080\",\"width\":3},\"opacity\":0.2,\"type\":\"line\",\"visible\":true,\"x0\":30.948,\"x1\":19.942,\"y0\":13.248,\"y1\":16.269},{\"line\":{\"color\":\"#F08080\",\"width\":3},\"opacity\":0.2,\"type\":\"line\",\"visible\":true,\"x0\":19.942,\"x1\":24.429,\"y0\":16.269,\"y1\":6.787},{\"line\":{\"color\":\"#F08080\",\"width\":3},\"opacity\":0.2,\"type\":\"line\",\"visible\":true,\"x0\":24.429,\"x1\":19.942,\"y0\":6.787,\"y1\":16.269},{\"line\":{\"color\":\"#F08080\",\"width\":3},\"opacity\":0.2,\"type\":\"line\",\"visible\":true,\"x0\":19.942,\"x1\":21.442,\"y0\":16.269,\"y1\":34.131},{\"line\":{\"color\":\"#F08080\",\"width\":3},\"opacity\":0.2,\"type\":\"line\",\"visible\":true,\"x0\":21.442,\"x1\":26.591,\"y0\":34.131,\"y1\":36.243},{\"line\":{\"color\":\"#F08080\",\"width\":3},\"opacity\":0.2,\"type\":\"line\",\"visible\":true,\"x0\":26.591,\"x1\":5.808,\"y0\":36.243,\"y1\":45.172},{\"line\":{\"color\":\"#F08080\",\"width\":3},\"opacity\":0.2,\"type\":\"line\",\"visible\":true,\"x0\":5.808,\"x1\":26.591,\"y0\":45.172,\"y1\":36.243},{\"line\":{\"color\":\"#F08080\",\"width\":3},\"opacity\":0.2,\"type\":\"line\",\"visible\":true,\"x0\":26.591,\"x1\":18.778,\"y0\":36.243,\"y1\":35.536},{\"line\":{\"color\":\"#F08080\",\"width\":3},\"opacity\":0.2,\"type\":\"line\",\"visible\":true,\"x0\":18.778,\"x1\":19.942,\"y0\":35.536,\"y1\":16.269},{\"line\":{\"color\":\"#F08080\",\"width\":3},\"opacity\":0.2,\"type\":\"line\",\"visible\":true,\"x0\":19.942,\"x1\":36.158,\"y0\":16.269,\"y1\":11.897},{\"line\":{\"color\":\"#F08080\",\"width\":3},\"opacity\":0.2,\"type\":\"line\",\"visible\":true,\"x0\":36.158,\"x1\":26.591,\"y0\":11.897,\"y1\":36.243},{\"line\":{\"color\":\"#F08080\",\"width\":3},\"opacity\":0.2,\"type\":\"line\",\"visible\":true,\"x0\":26.591,\"x1\":19.942,\"y0\":36.243,\"y1\":16.269}]},                        {\"responsive\": true}                    ).then(function(){\n",
       "                            \n",
       "var gd = document.getElementById('5fcc45d4-ce5f-4e30-92fa-dc7f5b75dc9a');\n",
       "var x = new MutationObserver(function (mutations, observer) {{\n",
       "        var display = window.getComputedStyle(gd).display;\n",
       "        if (!display || display === 'none') {{\n",
       "            console.log([gd, 'removed!']);\n",
       "            Plotly.purge(gd);\n",
       "            observer.disconnect();\n",
       "        }}\n",
       "}});\n",
       "\n",
       "// Listen for the removal of the full notebook cells\n",
       "var notebookContainer = gd.closest('#notebook-container');\n",
       "if (notebookContainer) {{\n",
       "    x.observe(notebookContainer, {childList: true});\n",
       "}}\n",
       "\n",
       "// Listen for the clearing of the current output cell\n",
       "var outputEl = gd.closest('.output');\n",
       "if (outputEl) {{\n",
       "    x.observe(outputEl, {childList: true});\n",
       "}}\n",
       "\n",
       "                        })                };                });            </script>        </div>"
      ]
     },
     "metadata": {},
     "output_type": "display_data"
    }
   ],
   "source": [
    "import plotly.express as px\n",
    "import plotly.graph_objects as go\n",
    "import matplotlib, random\n",
    "\n",
    "random.seed(123)\n",
    "colors = dict(matplotlib.colors.cnames.items())\n",
    "\n",
    "hex_colors = tuple(colors.values())\n",
    "\n",
    "\n",
    "fig = px.scatter(df_instance,x=\"x\", y=\"y\", symbol='type', symbol_sequence=[\"square\",\"star\",\"cross\", \"star\", \"x\"], color='type', text=df_instance.index, hover_data={\"x\":False, \"y\":False,  \"d\":True, \"type\":True, \"index\":df_instance.index})\n",
    "\n",
    "fig.update_traces(textposition='top center')\n",
    "\n",
    "fig.update_layout(font=dict(size=9))\n",
    "\n",
    "# Create scatter trace of text labels\n",
    "\n",
    "for route in routes:\n",
    "    \n",
    "    color = random.choice(hex_colors)\n",
    "    \n",
    "    for index_node in range(1, len(route)):\n",
    "        \n",
    "        fig.add_shape(type=\"line\",\n",
    "            x0=df_instance.iloc[route[index_node-1]].x, \n",
    "            y0=df_instance.iloc[route[index_node-1]].y,\n",
    "            x1=df_instance.iloc[route[index_node]].x,\n",
    "            y1=df_instance.iloc[route[index_node]].y,\n",
    "\n",
    "            line=dict(color=color,width=3), \n",
    "            opacity = 0.2,\n",
    "            visible = True\n",
    "        )\n",
    "        \n",
    "\n",
    "\n",
    "fig.show(image=\"svg\")"
   ]
  }
 ],
 "metadata": {
  "kernelspec": {
   "display_name": "Python 3 (ipykernel)",
   "language": "python",
   "name": "python3"
  },
  "language_info": {
   "codemirror_mode": {
    "name": "ipython",
    "version": 3
   },
   "file_extension": ".py",
   "mimetype": "text/x-python",
   "name": "python",
   "nbconvert_exporter": "python",
   "pygments_lexer": "ipython3",
   "version": "3.9.7"
  }
 },
 "nbformat": 4,
 "nbformat_minor": 5
}
